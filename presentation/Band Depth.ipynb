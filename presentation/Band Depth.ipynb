{
 "cells": [
  {
   "cell_type": "markdown",
   "metadata": {},
   "source": [
    "# Band Depth"
   ]
  },
  {
   "cell_type": "markdown",
   "metadata": {},
   "source": [
    "Given an ensemble of data drawn from a distribution F, _data depth_ quantifies how central (or deep) is a particular sample within the cloud of the sampled data. The deeper samples are considered more representative of the ensemble and are assigned high depth values whereas samples farther away from the rest of the ensemble are considered to be outliers and are correspondingly assigned lower depth values. Therefore, the notion of data depth provides a center outward ordering (also known as order statistics) for an ensemble of sampled data. [Mirzagar, Whitaker (2014)](https://ieeexplore.ieee.org/stamp/stamp.jsp?arnumber=6875964)\n",
    "\n",
    "The work of [Lopez-Pintado, Romo (2009)](https://www.tandfonline.com/doi/pdf/10.1198/jasa.2009.0108) introduces the notion of _functional band depth_, a generalization of data depth for a higher dimension that is designed for ensembles of functions. The difference between the notion of functional band depth and other generalizations for higher dimensions is that it goes beyond the point-wise analysis of functional data, it provides a measure of centrality of a function among an ensemble of functional data that is both sensitive to the shape and the position of a function in comparison to the rest of ensemble members.\n",
    "\n",
    "The _band_ in band depth can be described by the region between two (or more) curves in a line chart, as can be seen in "
   ]
  },
  {
   "cell_type": "code",
   "execution_count": 1,
   "metadata": {
    "collapsed": true
   },
   "outputs": [],
   "source": [
    "from curves import plot_lines, functional_boxplot, functional_boxplot_from_df, split_datasets\n",
    "from bokeh.plotting import show, output_file\n",
    "from bokeh.io import output_notebook"
   ]
  },
  {
   "cell_type": "code",
   "execution_count": 2,
   "metadata": {},
   "outputs": [
    {
     "data": {
      "text/html": [
       "\n",
       "    <div class=\"bk-root\">\n",
       "        <a href=\"https://bokeh.pydata.org\" target=\"_blank\" class=\"bk-logo bk-logo-small bk-logo-notebook\"></a>\n",
       "        <span id=\"fc146e81-e5a9-4081-a92c-2b73337f336a\">Loading BokehJS ...</span>\n",
       "    </div>"
      ]
     },
     "metadata": {},
     "output_type": "display_data"
    },
    {
     "data": {
      "application/javascript": [
       "\n",
       "(function(root) {\n",
       "  function now() {\n",
       "    return new Date();\n",
       "  }\n",
       "\n",
       "  var force = true;\n",
       "\n",
       "  if (typeof (root._bokeh_onload_callbacks) === \"undefined\" || force === true) {\n",
       "    root._bokeh_onload_callbacks = [];\n",
       "    root._bokeh_is_loading = undefined;\n",
       "  }\n",
       "\n",
       "  var JS_MIME_TYPE = 'application/javascript';\n",
       "  var HTML_MIME_TYPE = 'text/html';\n",
       "  var EXEC_MIME_TYPE = 'application/vnd.bokehjs_exec.v0+json';\n",
       "  var CLASS_NAME = 'output_bokeh rendered_html';\n",
       "\n",
       "  /**\n",
       "   * Render data to the DOM node\n",
       "   */\n",
       "  function render(props, node) {\n",
       "    var script = document.createElement(\"script\");\n",
       "    node.appendChild(script);\n",
       "  }\n",
       "\n",
       "  /**\n",
       "   * Handle when an output is cleared or removed\n",
       "   */\n",
       "  function handleClearOutput(event, handle) {\n",
       "    var cell = handle.cell;\n",
       "\n",
       "    var id = cell.output_area._bokeh_element_id;\n",
       "    var server_id = cell.output_area._bokeh_server_id;\n",
       "    // Clean up Bokeh references\n",
       "    if (id !== undefined) {\n",
       "      Bokeh.index[id].model.document.clear();\n",
       "      delete Bokeh.index[id];\n",
       "    }\n",
       "\n",
       "    if (server_id !== undefined) {\n",
       "      // Clean up Bokeh references\n",
       "      var cmd = \"from bokeh.io.state import curstate; print(curstate().uuid_to_server['\" + server_id + \"'].get_sessions()[0].document.roots[0]._id)\";\n",
       "      cell.notebook.kernel.execute(cmd, {\n",
       "        iopub: {\n",
       "          output: function(msg) {\n",
       "            var element_id = msg.content.text.trim();\n",
       "            Bokeh.index[element_id].model.document.clear();\n",
       "            delete Bokeh.index[element_id];\n",
       "          }\n",
       "        }\n",
       "      });\n",
       "      // Destroy server and session\n",
       "      var cmd = \"import bokeh.io.notebook as ion; ion.destroy_server('\" + server_id + \"')\";\n",
       "      cell.notebook.kernel.execute(cmd);\n",
       "    }\n",
       "  }\n",
       "\n",
       "  /**\n",
       "   * Handle when a new output is added\n",
       "   */\n",
       "  function handleAddOutput(event, handle) {\n",
       "    var output_area = handle.output_area;\n",
       "    var output = handle.output;\n",
       "\n",
       "    // limit handleAddOutput to display_data with EXEC_MIME_TYPE content only\n",
       "    if ((output.output_type != \"display_data\") || (!output.data.hasOwnProperty(EXEC_MIME_TYPE))) {\n",
       "      return\n",
       "    }\n",
       "\n",
       "    var toinsert = output_area.element.find(`.${CLASS_NAME.split(' ')[0]}`);\n",
       "\n",
       "    if (output.metadata[EXEC_MIME_TYPE][\"id\"] !== undefined) {\n",
       "      toinsert[0].firstChild.textContent = output.data[JS_MIME_TYPE];\n",
       "      // store reference to embed id on output_area\n",
       "      output_area._bokeh_element_id = output.metadata[EXEC_MIME_TYPE][\"id\"];\n",
       "    }\n",
       "    if (output.metadata[EXEC_MIME_TYPE][\"server_id\"] !== undefined) {\n",
       "      var bk_div = document.createElement(\"div\");\n",
       "      bk_div.innerHTML = output.data[HTML_MIME_TYPE];\n",
       "      var script_attrs = bk_div.children[0].attributes;\n",
       "      for (var i = 0; i < script_attrs.length; i++) {\n",
       "        toinsert[0].firstChild.setAttribute(script_attrs[i].name, script_attrs[i].value);\n",
       "      }\n",
       "      // store reference to server id on output_area\n",
       "      output_area._bokeh_server_id = output.metadata[EXEC_MIME_TYPE][\"server_id\"];\n",
       "    }\n",
       "  }\n",
       "\n",
       "  function register_renderer(events, OutputArea) {\n",
       "\n",
       "    function append_mime(data, metadata, element) {\n",
       "      // create a DOM node to render to\n",
       "      var toinsert = this.create_output_subarea(\n",
       "        metadata,\n",
       "        CLASS_NAME,\n",
       "        EXEC_MIME_TYPE\n",
       "      );\n",
       "      this.keyboard_manager.register_events(toinsert);\n",
       "      // Render to node\n",
       "      var props = {data: data, metadata: metadata[EXEC_MIME_TYPE]};\n",
       "      render(props, toinsert[0]);\n",
       "      element.append(toinsert);\n",
       "      return toinsert\n",
       "    }\n",
       "\n",
       "    /* Handle when an output is cleared or removed */\n",
       "    events.on('clear_output.CodeCell', handleClearOutput);\n",
       "    events.on('delete.Cell', handleClearOutput);\n",
       "\n",
       "    /* Handle when a new output is added */\n",
       "    events.on('output_added.OutputArea', handleAddOutput);\n",
       "\n",
       "    /**\n",
       "     * Register the mime type and append_mime function with output_area\n",
       "     */\n",
       "    OutputArea.prototype.register_mime_type(EXEC_MIME_TYPE, append_mime, {\n",
       "      /* Is output safe? */\n",
       "      safe: true,\n",
       "      /* Index of renderer in `output_area.display_order` */\n",
       "      index: 0\n",
       "    });\n",
       "  }\n",
       "\n",
       "  // register the mime type if in Jupyter Notebook environment and previously unregistered\n",
       "  if (root.Jupyter !== undefined) {\n",
       "    var events = require('base/js/events');\n",
       "    var OutputArea = require('notebook/js/outputarea').OutputArea;\n",
       "\n",
       "    if (OutputArea.prototype.mime_types().indexOf(EXEC_MIME_TYPE) == -1) {\n",
       "      register_renderer(events, OutputArea);\n",
       "    }\n",
       "  }\n",
       "\n",
       "  \n",
       "  if (typeof (root._bokeh_timeout) === \"undefined\" || force === true) {\n",
       "    root._bokeh_timeout = Date.now() + 5000;\n",
       "    root._bokeh_failed_load = false;\n",
       "  }\n",
       "\n",
       "  var NB_LOAD_WARNING = {'data': {'text/html':\n",
       "     \"<div style='background-color: #fdd'>\\n\"+\n",
       "     \"<p>\\n\"+\n",
       "     \"BokehJS does not appear to have successfully loaded. If loading BokehJS from CDN, this \\n\"+\n",
       "     \"may be due to a slow or bad network connection. Possible fixes:\\n\"+\n",
       "     \"</p>\\n\"+\n",
       "     \"<ul>\\n\"+\n",
       "     \"<li>re-rerun `output_notebook()` to attempt to load from CDN again, or</li>\\n\"+\n",
       "     \"<li>use INLINE resources instead, as so:</li>\\n\"+\n",
       "     \"</ul>\\n\"+\n",
       "     \"<code>\\n\"+\n",
       "     \"from bokeh.resources import INLINE\\n\"+\n",
       "     \"output_notebook(resources=INLINE)\\n\"+\n",
       "     \"</code>\\n\"+\n",
       "     \"</div>\"}};\n",
       "\n",
       "  function display_loaded() {\n",
       "    var el = document.getElementById(\"fc146e81-e5a9-4081-a92c-2b73337f336a\");\n",
       "    if (el != null) {\n",
       "      el.textContent = \"BokehJS is loading...\";\n",
       "    }\n",
       "    if (root.Bokeh !== undefined) {\n",
       "      if (el != null) {\n",
       "        el.textContent = \"BokehJS \" + root.Bokeh.version + \" successfully loaded.\";\n",
       "      }\n",
       "    } else if (Date.now() < root._bokeh_timeout) {\n",
       "      setTimeout(display_loaded, 100)\n",
       "    }\n",
       "  }\n",
       "\n",
       "\n",
       "  function run_callbacks() {\n",
       "    try {\n",
       "      root._bokeh_onload_callbacks.forEach(function(callback) { callback() });\n",
       "    }\n",
       "    finally {\n",
       "      delete root._bokeh_onload_callbacks\n",
       "    }\n",
       "    console.info(\"Bokeh: all callbacks have finished\");\n",
       "  }\n",
       "\n",
       "  function load_libs(js_urls, callback) {\n",
       "    root._bokeh_onload_callbacks.push(callback);\n",
       "    if (root._bokeh_is_loading > 0) {\n",
       "      console.log(\"Bokeh: BokehJS is being loaded, scheduling callback at\", now());\n",
       "      return null;\n",
       "    }\n",
       "    if (js_urls == null || js_urls.length === 0) {\n",
       "      run_callbacks();\n",
       "      return null;\n",
       "    }\n",
       "    console.log(\"Bokeh: BokehJS not loaded, scheduling load and callback at\", now());\n",
       "    root._bokeh_is_loading = js_urls.length;\n",
       "    for (var i = 0; i < js_urls.length; i++) {\n",
       "      var url = js_urls[i];\n",
       "      var s = document.createElement('script');\n",
       "      s.src = url;\n",
       "      s.async = false;\n",
       "      s.onreadystatechange = s.onload = function() {\n",
       "        root._bokeh_is_loading--;\n",
       "        if (root._bokeh_is_loading === 0) {\n",
       "          console.log(\"Bokeh: all BokehJS libraries loaded\");\n",
       "          run_callbacks()\n",
       "        }\n",
       "      };\n",
       "      s.onerror = function() {\n",
       "        console.warn(\"failed to load library \" + url);\n",
       "      };\n",
       "      console.log(\"Bokeh: injecting script tag for BokehJS library: \", url);\n",
       "      document.getElementsByTagName(\"head\")[0].appendChild(s);\n",
       "    }\n",
       "  };var element = document.getElementById(\"fc146e81-e5a9-4081-a92c-2b73337f336a\");\n",
       "  if (element == null) {\n",
       "    console.log(\"Bokeh: ERROR: autoload.js configured with elementid 'fc146e81-e5a9-4081-a92c-2b73337f336a' but no matching script tag was found. \")\n",
       "    return false;\n",
       "  }\n",
       "\n",
       "  var js_urls = [\"https://cdn.pydata.org/bokeh/release/bokeh-0.12.10.min.js\", \"https://cdn.pydata.org/bokeh/release/bokeh-widgets-0.12.10.min.js\", \"https://cdn.pydata.org/bokeh/release/bokeh-tables-0.12.10.min.js\", \"https://cdn.pydata.org/bokeh/release/bokeh-gl-0.12.10.min.js\"];\n",
       "\n",
       "  var inline_js = [\n",
       "    function(Bokeh) {\n",
       "      Bokeh.set_log_level(\"info\");\n",
       "    },\n",
       "    \n",
       "    function(Bokeh) {\n",
       "      \n",
       "    },\n",
       "    function(Bokeh) {\n",
       "      console.log(\"Bokeh: injecting CSS: https://cdn.pydata.org/bokeh/release/bokeh-0.12.10.min.css\");\n",
       "      Bokeh.embed.inject_css(\"https://cdn.pydata.org/bokeh/release/bokeh-0.12.10.min.css\");\n",
       "      console.log(\"Bokeh: injecting CSS: https://cdn.pydata.org/bokeh/release/bokeh-widgets-0.12.10.min.css\");\n",
       "      Bokeh.embed.inject_css(\"https://cdn.pydata.org/bokeh/release/bokeh-widgets-0.12.10.min.css\");\n",
       "      console.log(\"Bokeh: injecting CSS: https://cdn.pydata.org/bokeh/release/bokeh-tables-0.12.10.min.css\");\n",
       "      Bokeh.embed.inject_css(\"https://cdn.pydata.org/bokeh/release/bokeh-tables-0.12.10.min.css\");\n",
       "    }\n",
       "  ];\n",
       "\n",
       "  function run_inline_js() {\n",
       "    \n",
       "    if ((root.Bokeh !== undefined) || (force === true)) {\n",
       "      for (var i = 0; i < inline_js.length; i++) {\n",
       "        inline_js[i].call(root, root.Bokeh);\n",
       "      }if (force === true) {\n",
       "        display_loaded();\n",
       "      }} else if (Date.now() < root._bokeh_timeout) {\n",
       "      setTimeout(run_inline_js, 100);\n",
       "    } else if (!root._bokeh_failed_load) {\n",
       "      console.log(\"Bokeh: BokehJS failed to load within specified timeout.\");\n",
       "      root._bokeh_failed_load = true;\n",
       "    } else if (force !== true) {\n",
       "      var cell = $(document.getElementById(\"fc146e81-e5a9-4081-a92c-2b73337f336a\")).parents('.cell').data().cell;\n",
       "      cell.output_area.append_execute_result(NB_LOAD_WARNING)\n",
       "    }\n",
       "\n",
       "  }\n",
       "\n",
       "  if (root._bokeh_is_loading === 0) {\n",
       "    console.log(\"Bokeh: BokehJS loaded, going straight to plotting\");\n",
       "    run_inline_js();\n",
       "  } else {\n",
       "    load_libs(js_urls, function() {\n",
       "      console.log(\"Bokeh: BokehJS plotting callback run at\", now());\n",
       "      run_inline_js();\n",
       "    });\n",
       "  }\n",
       "}(window));"
      ],
      "application/vnd.bokehjs_load.v0+json": "\n(function(root) {\n  function now() {\n    return new Date();\n  }\n\n  var force = true;\n\n  if (typeof (root._bokeh_onload_callbacks) === \"undefined\" || force === true) {\n    root._bokeh_onload_callbacks = [];\n    root._bokeh_is_loading = undefined;\n  }\n\n  \n\n  \n  if (typeof (root._bokeh_timeout) === \"undefined\" || force === true) {\n    root._bokeh_timeout = Date.now() + 5000;\n    root._bokeh_failed_load = false;\n  }\n\n  var NB_LOAD_WARNING = {'data': {'text/html':\n     \"<div style='background-color: #fdd'>\\n\"+\n     \"<p>\\n\"+\n     \"BokehJS does not appear to have successfully loaded. If loading BokehJS from CDN, this \\n\"+\n     \"may be due to a slow or bad network connection. Possible fixes:\\n\"+\n     \"</p>\\n\"+\n     \"<ul>\\n\"+\n     \"<li>re-rerun `output_notebook()` to attempt to load from CDN again, or</li>\\n\"+\n     \"<li>use INLINE resources instead, as so:</li>\\n\"+\n     \"</ul>\\n\"+\n     \"<code>\\n\"+\n     \"from bokeh.resources import INLINE\\n\"+\n     \"output_notebook(resources=INLINE)\\n\"+\n     \"</code>\\n\"+\n     \"</div>\"}};\n\n  function display_loaded() {\n    var el = document.getElementById(\"fc146e81-e5a9-4081-a92c-2b73337f336a\");\n    if (el != null) {\n      el.textContent = \"BokehJS is loading...\";\n    }\n    if (root.Bokeh !== undefined) {\n      if (el != null) {\n        el.textContent = \"BokehJS \" + root.Bokeh.version + \" successfully loaded.\";\n      }\n    } else if (Date.now() < root._bokeh_timeout) {\n      setTimeout(display_loaded, 100)\n    }\n  }\n\n\n  function run_callbacks() {\n    try {\n      root._bokeh_onload_callbacks.forEach(function(callback) { callback() });\n    }\n    finally {\n      delete root._bokeh_onload_callbacks\n    }\n    console.info(\"Bokeh: all callbacks have finished\");\n  }\n\n  function load_libs(js_urls, callback) {\n    root._bokeh_onload_callbacks.push(callback);\n    if (root._bokeh_is_loading > 0) {\n      console.log(\"Bokeh: BokehJS is being loaded, scheduling callback at\", now());\n      return null;\n    }\n    if (js_urls == null || js_urls.length === 0) {\n      run_callbacks();\n      return null;\n    }\n    console.log(\"Bokeh: BokehJS not loaded, scheduling load and callback at\", now());\n    root._bokeh_is_loading = js_urls.length;\n    for (var i = 0; i < js_urls.length; i++) {\n      var url = js_urls[i];\n      var s = document.createElement('script');\n      s.src = url;\n      s.async = false;\n      s.onreadystatechange = s.onload = function() {\n        root._bokeh_is_loading--;\n        if (root._bokeh_is_loading === 0) {\n          console.log(\"Bokeh: all BokehJS libraries loaded\");\n          run_callbacks()\n        }\n      };\n      s.onerror = function() {\n        console.warn(\"failed to load library \" + url);\n      };\n      console.log(\"Bokeh: injecting script tag for BokehJS library: \", url);\n      document.getElementsByTagName(\"head\")[0].appendChild(s);\n    }\n  };var element = document.getElementById(\"fc146e81-e5a9-4081-a92c-2b73337f336a\");\n  if (element == null) {\n    console.log(\"Bokeh: ERROR: autoload.js configured with elementid 'fc146e81-e5a9-4081-a92c-2b73337f336a' but no matching script tag was found. \")\n    return false;\n  }\n\n  var js_urls = [\"https://cdn.pydata.org/bokeh/release/bokeh-0.12.10.min.js\", \"https://cdn.pydata.org/bokeh/release/bokeh-widgets-0.12.10.min.js\", \"https://cdn.pydata.org/bokeh/release/bokeh-tables-0.12.10.min.js\", \"https://cdn.pydata.org/bokeh/release/bokeh-gl-0.12.10.min.js\"];\n\n  var inline_js = [\n    function(Bokeh) {\n      Bokeh.set_log_level(\"info\");\n    },\n    \n    function(Bokeh) {\n      \n    },\n    function(Bokeh) {\n      console.log(\"Bokeh: injecting CSS: https://cdn.pydata.org/bokeh/release/bokeh-0.12.10.min.css\");\n      Bokeh.embed.inject_css(\"https://cdn.pydata.org/bokeh/release/bokeh-0.12.10.min.css\");\n      console.log(\"Bokeh: injecting CSS: https://cdn.pydata.org/bokeh/release/bokeh-widgets-0.12.10.min.css\");\n      Bokeh.embed.inject_css(\"https://cdn.pydata.org/bokeh/release/bokeh-widgets-0.12.10.min.css\");\n      console.log(\"Bokeh: injecting CSS: https://cdn.pydata.org/bokeh/release/bokeh-tables-0.12.10.min.css\");\n      Bokeh.embed.inject_css(\"https://cdn.pydata.org/bokeh/release/bokeh-tables-0.12.10.min.css\");\n    }\n  ];\n\n  function run_inline_js() {\n    \n    if ((root.Bokeh !== undefined) || (force === true)) {\n      for (var i = 0; i < inline_js.length; i++) {\n        inline_js[i].call(root, root.Bokeh);\n      }if (force === true) {\n        display_loaded();\n      }} else if (Date.now() < root._bokeh_timeout) {\n      setTimeout(run_inline_js, 100);\n    } else if (!root._bokeh_failed_load) {\n      console.log(\"Bokeh: BokehJS failed to load within specified timeout.\");\n      root._bokeh_failed_load = true;\n    } else if (force !== true) {\n      var cell = $(document.getElementById(\"fc146e81-e5a9-4081-a92c-2b73337f336a\")).parents('.cell').data().cell;\n      cell.output_area.append_execute_result(NB_LOAD_WARNING)\n    }\n\n  }\n\n  if (root._bokeh_is_loading === 0) {\n    console.log(\"Bokeh: BokehJS loaded, going straight to plotting\");\n    run_inline_js();\n  } else {\n    load_libs(js_urls, function() {\n      console.log(\"Bokeh: BokehJS plotting callback run at\", now());\n      run_inline_js();\n    });\n  }\n}(window));"
     },
     "metadata": {},
     "output_type": "display_data"
    }
   ],
   "source": [
    "output_notebook()"
   ]
  },
  {
   "cell_type": "code",
   "execution_count": 6,
   "metadata": {},
   "outputs": [
    {
     "name": "stdout",
     "output_type": "stream",
     "text": [
      "(17, 5)\n",
      "False\n"
     ]
    },
    {
     "data": {
      "text/html": [
       "\n",
       "<div class=\"bk-root\">\n",
       "    <div class=\"bk-plotdiv\" id=\"be53f681-3aa0-4904-b36e-34b0150f48e2\"></div>\n",
       "</div>"
      ]
     },
     "metadata": {},
     "output_type": "display_data"
    },
    {
     "data": {
      "application/javascript": [
       "(function(root) {\n",
       "  function embed_document(root) {\n",
       "    var docs_json = {\"78b9e3f6-f8ae-45b2-ad21-eb3c44eba992\":{\"roots\":{\"references\":[{\"attributes\":{\"base\":60,\"mantissas\":[1,2,5,10,15,20,30],\"max_interval\":1800000.0,\"min_interval\":1000.0,\"num_minor_ticks\":0},\"id\":\"bcf86c6b-31d0-499e-a634-830a55cf3638\",\"type\":\"AdaptiveTicker\"},{\"attributes\":{\"data_source\":{\"id\":\"23b9eee2-6935-4a0c-9946-fdea879baca6\",\"type\":\"ColumnDataSource\"},\"glyph\":{\"id\":\"272ac506-39fa-464d-99b3-180df8032833\",\"type\":\"MultiLine\"},\"hover_glyph\":null,\"muted_glyph\":null,\"nonselection_glyph\":{\"id\":\"789e5b33-28bb-4588-bdce-b8b46300cc4c\",\"type\":\"MultiLine\"},\"selection_glyph\":null,\"view\":{\"id\":\"39c73fd0-8df9-47a5-a326-a0d99a372042\",\"type\":\"CDSView\"}},\"id\":\"ce8bba0b-d7b3-49c0-9453-cfbff58c7305\",\"type\":\"GlyphRenderer\"},{\"attributes\":{},\"id\":\"fd39ed46-5217-41c1-9033-9754d2d42c69\",\"type\":\"LinearScale\"},{\"attributes\":{\"base\":24,\"mantissas\":[1,2,4,6,8,12],\"max_interval\":43200000.0,\"min_interval\":3600000.0,\"num_minor_ticks\":0},\"id\":\"5d1747ca-913c-4760-9311-7d9e870487e8\",\"type\":\"AdaptiveTicker\"},{\"attributes\":{\"days\":[1,2,3,4,5,6,7,8,9,10,11,12,13,14,15,16,17,18,19,20,21,22,23,24,25,26,27,28,29,30,31]},\"id\":\"68f08df2-70c9-443e-afeb-b34876540b85\",\"type\":\"DaysTicker\"},{\"attributes\":{\"days\":[1,4,7,10,13,16,19,22,25,28]},\"id\":\"cf364d28-452d-44d0-b5fd-203fd813b208\",\"type\":\"DaysTicker\"},{\"attributes\":{\"months\":[0,1,2,3,4,5,6,7,8,9,10,11]},\"id\":\"2ca0abb7-5439-4c89-a73e-6c0bb8bb28ac\",\"type\":\"MonthsTicker\"},{\"attributes\":{\"months\":[0,2,4,6,8,10]},\"id\":\"5f059d78-73d2-48ef-9a59-1df179d3991c\",\"type\":\"MonthsTicker\"},{\"attributes\":{\"below\":[{\"id\":\"9971ae7a-3e9b-427e-aea2-df58c5f350df\",\"type\":\"DatetimeAxis\"}],\"left\":[{\"id\":\"bdcdc626-bc90-47d9-90c1-cd973b1fd6f1\",\"type\":\"LinearAxis\"}],\"plot_height\":400,\"plot_width\":500,\"renderers\":[{\"id\":\"9971ae7a-3e9b-427e-aea2-df58c5f350df\",\"type\":\"DatetimeAxis\"},{\"id\":\"e5e9b8bd-a193-448f-bf7c-7c0870a3d0e3\",\"type\":\"Grid\"},{\"id\":\"bdcdc626-bc90-47d9-90c1-cd973b1fd6f1\",\"type\":\"LinearAxis\"},{\"id\":\"46980cb1-3626-4367-948b-0d110bccb33f\",\"type\":\"Grid\"},{\"id\":\"b23708f8-727b-42a6-aadb-d253f756b213\",\"type\":\"BoxAnnotation\"},{\"id\":\"ce8bba0b-d7b3-49c0-9453-cfbff58c7305\",\"type\":\"GlyphRenderer\"}],\"title\":{\"id\":\"eb6ffabb-da14-48ec-8e54-bcea9e15dc97\",\"type\":\"Title\"},\"toolbar\":{\"id\":\"dd085f5e-f698-499c-a660-485f09179a22\",\"type\":\"Toolbar\"},\"x_range\":{\"id\":\"4e8067a2-6cd6-4ff9-8b1f-159121158ea8\",\"type\":\"DataRange1d\"},\"x_scale\":{\"id\":\"2ee2f429-b584-4946-9aca-4d72f897d94d\",\"type\":\"LinearScale\"},\"y_range\":{\"id\":\"b3b3601c-15b1-4ad0-9bd1-76ec9add7577\",\"type\":\"DataRange1d\"},\"y_scale\":{\"id\":\"fd39ed46-5217-41c1-9033-9754d2d42c69\",\"type\":\"LinearScale\"}},\"id\":\"1535d01d-69b4-4736-b9a2-db6254fb6079\",\"subtype\":\"Figure\",\"type\":\"Plot\"},{\"attributes\":{\"months\":[0,4,8]},\"id\":\"4583742d-515d-4a38-afa9-8208740c02af\",\"type\":\"MonthsTicker\"},{\"attributes\":{\"months\":[0,6]},\"id\":\"4f0cb97c-ed03-49c3-8438-20e218f63337\",\"type\":\"MonthsTicker\"},{\"attributes\":{},\"id\":\"72b4f9b7-6e13-47ce-aa70-3009a81c6a8c\",\"type\":\"YearsTicker\"},{\"attributes\":{\"active_drag\":\"auto\",\"active_inspect\":\"auto\",\"active_scroll\":\"auto\",\"active_tap\":\"auto\",\"tools\":[{\"id\":\"27b55e36-c1cf-425a-8cf0-e3365f0629fa\",\"type\":\"PanTool\"},{\"id\":\"4c3333ca-1a6e-4831-a64a-35a838097a94\",\"type\":\"WheelZoomTool\"},{\"id\":\"699468e5-c341-4adc-b6d1-ae297686bb08\",\"type\":\"BoxZoomTool\"},{\"id\":\"b1ce5757-4828-492e-87cf-73fde820735f\",\"type\":\"SaveTool\"},{\"id\":\"c83bbc00-14b2-4109-a889-75bcc7c14939\",\"type\":\"ResetTool\"},{\"id\":\"914a4c37-499d-4032-9dab-4f100e4a18dd\",\"type\":\"HelpTool\"}]},\"id\":\"dd085f5e-f698-499c-a660-485f09179a22\",\"type\":\"Toolbar\"},{\"attributes\":{},\"id\":\"2ee2f429-b584-4946-9aca-4d72f897d94d\",\"type\":\"LinearScale\"},{\"attributes\":{\"plot\":{\"id\":\"1535d01d-69b4-4736-b9a2-db6254fb6079\",\"subtype\":\"Figure\",\"type\":\"Plot\"},\"ticker\":{\"id\":\"fcf7b6b2-1dc7-44c4-860c-d9d834054787\",\"type\":\"DatetimeTicker\"}},\"id\":\"e5e9b8bd-a193-448f-bf7c-7c0870a3d0e3\",\"type\":\"Grid\"},{\"attributes\":{\"formatter\":{\"id\":\"9bfef72d-60f9-4ffa-9a1b-c00516051bc6\",\"type\":\"DatetimeTickFormatter\"},\"plot\":{\"id\":\"1535d01d-69b4-4736-b9a2-db6254fb6079\",\"subtype\":\"Figure\",\"type\":\"Plot\"},\"ticker\":{\"id\":\"fcf7b6b2-1dc7-44c4-860c-d9d834054787\",\"type\":\"DatetimeTicker\"}},\"id\":\"9971ae7a-3e9b-427e-aea2-df58c5f350df\",\"type\":\"DatetimeAxis\"},{\"attributes\":{\"num_minor_ticks\":5,\"tickers\":[{\"id\":\"724a9078-4fb8-4d48-badb-80ec12ff8225\",\"type\":\"AdaptiveTicker\"},{\"id\":\"bcf86c6b-31d0-499e-a634-830a55cf3638\",\"type\":\"AdaptiveTicker\"},{\"id\":\"5d1747ca-913c-4760-9311-7d9e870487e8\",\"type\":\"AdaptiveTicker\"},{\"id\":\"68f08df2-70c9-443e-afeb-b34876540b85\",\"type\":\"DaysTicker\"},{\"id\":\"cf364d28-452d-44d0-b5fd-203fd813b208\",\"type\":\"DaysTicker\"},{\"id\":\"50a4cfad-7e67-4259-a734-f999e20edd9a\",\"type\":\"DaysTicker\"},{\"id\":\"cd966f9a-9e2e-43f8-9c83-16424ea4cf6e\",\"type\":\"DaysTicker\"},{\"id\":\"2ca0abb7-5439-4c89-a73e-6c0bb8bb28ac\",\"type\":\"MonthsTicker\"},{\"id\":\"5f059d78-73d2-48ef-9a59-1df179d3991c\",\"type\":\"MonthsTicker\"},{\"id\":\"4583742d-515d-4a38-afa9-8208740c02af\",\"type\":\"MonthsTicker\"},{\"id\":\"4f0cb97c-ed03-49c3-8438-20e218f63337\",\"type\":\"MonthsTicker\"},{\"id\":\"72b4f9b7-6e13-47ce-aa70-3009a81c6a8c\",\"type\":\"YearsTicker\"}]},\"id\":\"fcf7b6b2-1dc7-44c4-860c-d9d834054787\",\"type\":\"DatetimeTicker\"},{\"attributes\":{\"formatter\":{\"id\":\"deda5f74-7583-4012-a760-a445b51522e1\",\"type\":\"BasicTickFormatter\"},\"plot\":{\"id\":\"1535d01d-69b4-4736-b9a2-db6254fb6079\",\"subtype\":\"Figure\",\"type\":\"Plot\"},\"ticker\":{\"id\":\"18b68ca3-9f82-49af-a6ce-47f6af90e1d8\",\"type\":\"BasicTicker\"}},\"id\":\"bdcdc626-bc90-47d9-90c1-cd973b1fd6f1\",\"type\":\"LinearAxis\"},{\"attributes\":{},\"id\":\"18b68ca3-9f82-49af-a6ce-47f6af90e1d8\",\"type\":\"BasicTicker\"},{\"attributes\":{\"dimension\":1,\"plot\":{\"id\":\"1535d01d-69b4-4736-b9a2-db6254fb6079\",\"subtype\":\"Figure\",\"type\":\"Plot\"},\"ticker\":{\"id\":\"18b68ca3-9f82-49af-a6ce-47f6af90e1d8\",\"type\":\"BasicTicker\"}},\"id\":\"46980cb1-3626-4367-948b-0d110bccb33f\",\"type\":\"Grid\"},{\"attributes\":{\"callback\":null,\"column_names\":[\"xs\",\"ys\",\"line_color\"],\"data\":{\"line_color\":[\"#241b66\",\"#51ee82\",\"#0f6173\",\"#01992a\",\"#8b46ce\"],\"xs\":[[0.0,3600000.0,7200000.0,10800000.0,14400000.0,\"od\",\"od_time\",\"fd\",\"fd_time\",\"td\",\"td_time\",\"omd\",\"omd_time\",\"fmd\",\"fmd_time\",\"tmd\",\"tmd_time\"],[0.0,3600000.0,7200000.0,10800000.0,14400000.0,\"od\",\"od_time\",\"fd\",\"fd_time\",\"td\",\"td_time\",\"omd\",\"omd_time\",\"fmd\",\"fmd_time\",\"tmd\",\"tmd_time\"],[0.0,3600000.0,7200000.0,10800000.0,14400000.0,\"od\",\"od_time\",\"fd\",\"fd_time\",\"td\",\"td_time\",\"omd\",\"omd_time\",\"fmd\",\"fmd_time\",\"tmd\",\"tmd_time\"],[0.0,3600000.0,7200000.0,10800000.0,14400000.0,\"od\",\"od_time\",\"fd\",\"fd_time\",\"td\",\"td_time\",\"omd\",\"omd_time\",\"fmd\",\"fmd_time\",\"tmd\",\"tmd_time\"],[0.0,3600000.0,7200000.0,10800000.0,14400000.0,\"od\",\"od_time\",\"fd\",\"fd_time\",\"td\",\"td_time\",\"omd\",\"omd_time\",\"fmd\",\"fmd_time\",\"tmd\",\"tmd_time\"]],\"ys\":[{\"__ndarray__\":\"AAAAAAAAAEAAAAAAAAAAQAAAAAAAAABAAAAAAAAAAEAAAAAAAAAAQJqZmZmZmdk/je21oPfGwD6amZmZmZnZPwAAAAAAAAAAmpmZmZmZ2T/xaOOItfjUPpqZmZmZmdk/je21oPfGwD6amZmZmZnZPwAAAAAAAAAAmpmZmZmZ2T+4Xz5ZMVzdPg==\",\"dtype\":\"float64\",\"shape\":[17]},{\"__ndarray__\":\"AAAAAAAAHEAAAAAAAAAcQAAAAAAAABxAAAAAAAAAHEAAAAAAAAAcQJqZmZmZmdk/je21oPfGwD6amZmZmZnZPwAAAAAAAAAAmpmZmZmZ2T/xaOOItfjUPnE9CtejcN0/VOQQcXMqyT5xPQrXo3DdPwAAAAAAAAAAcT0K16Nw3T/xaOOItfjUPg==\",\"dtype\":\"float64\",\"shape\":[17]},{\"__ndarray__\":\"AAAAAAAAEEAAAAAAAAAQQAAAAAAAACBAAAAAAAAAEEAAAAAAAAAQQJqZmZmZmdk/VOQQcXMqyT6amZmZmZnZPwAAAAAAAAAAmpmZmZmZ2T/xaOOItfjUPgrXo3A9Cuc/VOQQcXMqyT4K16NwPQrnPwAAAAAAAAAACtejcD0K5z/xaOOItfjUPg==\",\"dtype\":\"float64\",\"shape\":[17]},{\"__ndarray__\":\"AAAAAAAAFEAAAAAAAAAUQAAAAAAAABRAAAAAAAAAFEAAAAAAAAAUQDMzMzMzM+M/VOQQcXMqyT4zMzMzMzPjPwAAAAAAAAAAMzMzMzMz4z9U5BBxcyrZPgrXo3A9Cuc/je21oPfGwD4K16NwPQrnPwAAAAAAAAAACtejcD0K5z9U5BBxcyrZPg==\",\"dtype\":\"float64\",\"shape\":[17]},{\"__ndarray__\":\"AAAAAAAACEAAAAAAAAAIQAAAAAAAAAhAAAAAAAAACEAAAAAAAAAIQGZmZmZmZuY/je21oPfGwD5mZmZmZmbmPwAAAAAAAAAAZmZmZmZm5j+N7bWg98bQPmZmZmZmZuY/VOQQcXMqyT5mZmZmZmbmPwAAAAAAAAAAZmZmZmZm5j9U5BBxcyrZPg==\",\"dtype\":\"float64\",\"shape\":[17]}]}},\"id\":\"23b9eee2-6935-4a0c-9946-fdea879baca6\",\"type\":\"ColumnDataSource\"},{\"attributes\":{\"bottom_units\":\"screen\",\"fill_alpha\":{\"value\":0.5},\"fill_color\":{\"value\":\"lightgrey\"},\"left_units\":\"screen\",\"level\":\"overlay\",\"line_alpha\":{\"value\":1.0},\"line_color\":{\"value\":\"black\"},\"line_dash\":[4,4],\"line_width\":{\"value\":2},\"plot\":null,\"render_mode\":\"css\",\"right_units\":\"screen\",\"top_units\":\"screen\"},\"id\":\"b23708f8-727b-42a6-aadb-d253f756b213\",\"type\":\"BoxAnnotation\"},{\"attributes\":{},\"id\":\"27b55e36-c1cf-425a-8cf0-e3365f0629fa\",\"type\":\"PanTool\"},{\"attributes\":{\"source\":{\"id\":\"23b9eee2-6935-4a0c-9946-fdea879baca6\",\"type\":\"ColumnDataSource\"}},\"id\":\"39c73fd0-8df9-47a5-a326-a0d99a372042\",\"type\":\"CDSView\"},{\"attributes\":{},\"id\":\"4c3333ca-1a6e-4831-a64a-35a838097a94\",\"type\":\"WheelZoomTool\"},{\"attributes\":{\"overlay\":{\"id\":\"b23708f8-727b-42a6-aadb-d253f756b213\",\"type\":\"BoxAnnotation\"}},\"id\":\"699468e5-c341-4adc-b6d1-ae297686bb08\",\"type\":\"BoxZoomTool\"},{\"attributes\":{},\"id\":\"b1ce5757-4828-492e-87cf-73fde820735f\",\"type\":\"SaveTool\"},{\"attributes\":{\"callback\":null},\"id\":\"b3b3601c-15b1-4ad0-9bd1-76ec9add7577\",\"type\":\"DataRange1d\"},{\"attributes\":{},\"id\":\"c83bbc00-14b2-4109-a889-75bcc7c14939\",\"type\":\"ResetTool\"},{\"attributes\":{},\"id\":\"914a4c37-499d-4032-9dab-4f100e4a18dd\",\"type\":\"HelpTool\"},{\"attributes\":{\"plot\":null,\"text\":\"\"},\"id\":\"eb6ffabb-da14-48ec-8e54-bcea9e15dc97\",\"type\":\"Title\"},{\"attributes\":{\"mantissas\":[1,2,5],\"max_interval\":500.0,\"num_minor_ticks\":0},\"id\":\"724a9078-4fb8-4d48-badb-80ec12ff8225\",\"type\":\"AdaptiveTicker\"},{\"attributes\":{\"days\":[1,8,15,22]},\"id\":\"50a4cfad-7e67-4259-a734-f999e20edd9a\",\"type\":\"DaysTicker\"},{\"attributes\":{\"line_alpha\":{\"value\":0.1},\"line_color\":{\"value\":\"#1f77b4\"},\"line_width\":{\"value\":5},\"xs\":{\"field\":\"xs\"},\"ys\":{\"field\":\"ys\"}},\"id\":\"789e5b33-28bb-4588-bdce-b8b46300cc4c\",\"type\":\"MultiLine\"},{\"attributes\":{},\"id\":\"deda5f74-7583-4012-a760-a445b51522e1\",\"type\":\"BasicTickFormatter\"},{\"attributes\":{},\"id\":\"9bfef72d-60f9-4ffa-9a1b-c00516051bc6\",\"type\":\"DatetimeTickFormatter\"},{\"attributes\":{\"callback\":null},\"id\":\"4e8067a2-6cd6-4ff9-8b1f-159121158ea8\",\"type\":\"DataRange1d\"},{\"attributes\":{\"line_color\":{\"field\":\"line_color\"},\"line_width\":{\"value\":5},\"xs\":{\"field\":\"xs\"},\"ys\":{\"field\":\"ys\"}},\"id\":\"272ac506-39fa-464d-99b3-180df8032833\",\"type\":\"MultiLine\"},{\"attributes\":{\"days\":[1,15]},\"id\":\"cd966f9a-9e2e-43f8-9c83-16424ea4cf6e\",\"type\":\"DaysTicker\"}],\"root_ids\":[\"1535d01d-69b4-4736-b9a2-db6254fb6079\"]},\"title\":\"Bokeh Application\",\"version\":\"0.12.10\"}};\n",
       "    var render_items = [{\"docid\":\"78b9e3f6-f8ae-45b2-ad21-eb3c44eba992\",\"elementid\":\"be53f681-3aa0-4904-b36e-34b0150f48e2\",\"modelid\":\"1535d01d-69b4-4736-b9a2-db6254fb6079\"}];\n",
       "\n",
       "    root.Bokeh.embed.embed_items(docs_json, render_items);\n",
       "  }\n",
       "\n",
       "  if (root.Bokeh !== undefined) {\n",
       "    embed_document(root);\n",
       "  } else {\n",
       "    var attempts = 0;\n",
       "    var timer = setInterval(function(root) {\n",
       "      if (root.Bokeh !== undefined) {\n",
       "        embed_document(root);\n",
       "        clearInterval(timer);\n",
       "      }\n",
       "      attempts++;\n",
       "      if (attempts > 100) {\n",
       "        console.log(\"Bokeh: ERROR: Unable to embed document because BokehJS library is missing\")\n",
       "        clearInterval(timer);\n",
       "      }\n",
       "    }, 10, root)\n",
       "  }\n",
       "})(window);"
      ],
      "application/vnd.bokehjs_exec.v0+json": ""
     },
     "metadata": {
      "application/vnd.bokehjs_exec.v0+json": {
       "id": "1535d01d-69b4-4736-b9a2-db6254fb6079"
      }
     },
     "output_type": "display_data"
    }
   ],
   "source": [
    "data, plot_lines_test = plot_lines('../data/infile.csv',\"../outputs/outfile_out.txt\",'od','1/1/2018','1/5/2018', 5)\n",
    "show(plot_lines_test)"
   ]
  },
  {
   "cell_type": "code",
   "execution_count": 10,
   "metadata": {},
   "outputs": [
    {
     "name": "stdout",
     "output_type": "stream",
     "text": [
      "(17, 5)\n"
     ]
    },
    {
     "data": {
      "text/html": [
       "\n",
       "<div class=\"bk-root\">\n",
       "    <div class=\"bk-plotdiv\" id=\"59f7562a-9738-4c6f-b1b1-3d2cea46d7c8\"></div>\n",
       "</div>"
      ]
     },
     "metadata": {},
     "output_type": "display_data"
    },
    {
     "data": {
      "application/javascript": [
       "(function(root) {\n",
       "  function embed_document(root) {\n",
       "    var docs_json = {\"13d6a0d8-e7a4-47fd-aeb6-2dff5231b6ed\":{\"roots\":{\"references\":[{\"attributes\":{\"source\":{\"id\":\"cdf0df1e-4ec2-4ad8-a448-f352f6d57416\",\"type\":\"ColumnDataSource\"}},\"id\":\"767b73d7-c795-4799-9ff7-d9209a8100b1\",\"type\":\"CDSView\"},{\"attributes\":{\"plot\":null,\"text\":\"\"},\"id\":\"d568a4cb-61b0-4a93-aace-9b82320174cd\",\"type\":\"Title\"},{\"attributes\":{\"base\":60,\"mantissas\":[1,2,5,10,15,20,30],\"max_interval\":1800000.0,\"min_interval\":1000.0,\"num_minor_ticks\":0},\"id\":\"1471c916-66b2-4863-a389-e96547105a98\",\"type\":\"AdaptiveTicker\"},{\"attributes\":{\"plot\":{\"id\":\"9c6ecafc-6a37-4167-8d1f-64c863a6d1ce\",\"subtype\":\"Figure\",\"type\":\"Plot\"},\"ticker\":{\"id\":\"9552904d-7b47-456b-98b8-d6a035076ab8\",\"type\":\"DatetimeTicker\"}},\"id\":\"95fbafa9-d05f-4f87-b56d-b95b883a4f26\",\"type\":\"Grid\"},{\"attributes\":{\"below\":[{\"id\":\"7b54d063-bdd9-463f-90ca-9d1e8678b035\",\"type\":\"DatetimeAxis\"}],\"left\":[{\"id\":\"9af8769d-28b4-4ea5-b240-dda8805fd058\",\"type\":\"LinearAxis\"}],\"plot_height\":400,\"plot_width\":500,\"renderers\":[{\"id\":\"7b54d063-bdd9-463f-90ca-9d1e8678b035\",\"type\":\"DatetimeAxis\"},{\"id\":\"95fbafa9-d05f-4f87-b56d-b95b883a4f26\",\"type\":\"Grid\"},{\"id\":\"9af8769d-28b4-4ea5-b240-dda8805fd058\",\"type\":\"LinearAxis\"},{\"id\":\"7ba1c3f4-c9d2-4890-8eea-3df2598327c4\",\"type\":\"Grid\"},{\"id\":\"cf7ad88b-0edf-4905-a8f7-ef21d6c7963b\",\"type\":\"BoxAnnotation\"},{\"id\":\"f22b4a62-5be1-4550-b8cb-5a9a1ff8c1e4\",\"type\":\"GlyphRenderer\"}],\"title\":{\"id\":\"d568a4cb-61b0-4a93-aace-9b82320174cd\",\"type\":\"Title\"},\"toolbar\":{\"id\":\"6ad2544d-bc1b-477b-92f7-03f2e5770e43\",\"type\":\"Toolbar\"},\"x_range\":{\"id\":\"f4ae2a81-2a60-4576-be3e-ce2462a3feb9\",\"type\":\"DataRange1d\"},\"x_scale\":{\"id\":\"a9f3e4af-2fb6-4275-b63f-2da6f3ac1fdd\",\"type\":\"LinearScale\"},\"y_range\":{\"id\":\"e76262ed-5b51-4012-a31f-9ae7887bd5d0\",\"type\":\"DataRange1d\"},\"y_scale\":{\"id\":\"db700082-764b-4d88-b45a-874a9cb5a381\",\"type\":\"LinearScale\"}},\"id\":\"9c6ecafc-6a37-4167-8d1f-64c863a6d1ce\",\"subtype\":\"Figure\",\"type\":\"Plot\"},{\"attributes\":{\"months\":[0,6]},\"id\":\"4e961165-d81c-418c-9379-0878cf7ff563\",\"type\":\"MonthsTicker\"},{\"attributes\":{},\"id\":\"db700082-764b-4d88-b45a-874a9cb5a381\",\"type\":\"LinearScale\"},{\"attributes\":{\"base\":24,\"mantissas\":[1,2,4,6,8,12],\"max_interval\":43200000.0,\"min_interval\":3600000.0,\"num_minor_ticks\":0},\"id\":\"72bb69ec-3d91-4610-a40f-7d8468f626d7\",\"type\":\"AdaptiveTicker\"},{\"attributes\":{\"days\":[1,8,15,22]},\"id\":\"52f44936-57b7-47e3-9c86-7ffb70b77bd8\",\"type\":\"DaysTicker\"},{\"attributes\":{\"days\":[1,2,3,4,5,6,7,8,9,10,11,12,13,14,15,16,17,18,19,20,21,22,23,24,25,26,27,28,29,30,31]},\"id\":\"867c6dce-a782-4ea2-8a0b-3cfe6c3e61db\",\"type\":\"DaysTicker\"},{\"attributes\":{\"days\":[1,4,7,10,13,16,19,22,25,28]},\"id\":\"c40d14b8-6bc6-48af-b0c5-61b5760bbf10\",\"type\":\"DaysTicker\"},{\"attributes\":{\"callback\":null},\"id\":\"f4ae2a81-2a60-4576-be3e-ce2462a3feb9\",\"type\":\"DataRange1d\"},{\"attributes\":{\"months\":[0,4,8]},\"id\":\"373bed52-4517-4de1-b677-6869a9c16801\",\"type\":\"MonthsTicker\"},{\"attributes\":{\"callback\":null},\"id\":\"e76262ed-5b51-4012-a31f-9ae7887bd5d0\",\"type\":\"DataRange1d\"},{\"attributes\":{},\"id\":\"a9f3e4af-2fb6-4275-b63f-2da6f3ac1fdd\",\"type\":\"LinearScale\"},{\"attributes\":{\"months\":[0,1,2,3,4,5,6,7,8,9,10,11]},\"id\":\"2c359770-a0a2-4f16-a73e-118daf0dfaee\",\"type\":\"MonthsTicker\"},{\"attributes\":{\"active_drag\":\"auto\",\"active_inspect\":\"auto\",\"active_scroll\":\"auto\",\"active_tap\":\"auto\",\"tools\":[{\"id\":\"432b1eb1-2cd3-4c54-8867-81d2408296b2\",\"type\":\"PanTool\"},{\"id\":\"a61fce94-109c-4646-b66c-d183cd73618f\",\"type\":\"WheelZoomTool\"},{\"id\":\"494eaacc-3a06-44f5-859e-d050bea8d05f\",\"type\":\"BoxZoomTool\"},{\"id\":\"e8f58a84-2132-41fd-b62e-9c02c1b457f9\",\"type\":\"SaveTool\"},{\"id\":\"3e613fc6-1937-4242-ba09-44b442528144\",\"type\":\"ResetTool\"},{\"id\":\"206bc275-df7a-494f-8e24-9f3f60ff69c9\",\"type\":\"HelpTool\"}]},\"id\":\"6ad2544d-bc1b-477b-92f7-03f2e5770e43\",\"type\":\"Toolbar\"},{\"attributes\":{\"formatter\":{\"id\":\"302cf232-8778-49d8-abaa-c1900ec1f5a4\",\"type\":\"DatetimeTickFormatter\"},\"plot\":{\"id\":\"9c6ecafc-6a37-4167-8d1f-64c863a6d1ce\",\"subtype\":\"Figure\",\"type\":\"Plot\"},\"ticker\":{\"id\":\"9552904d-7b47-456b-98b8-d6a035076ab8\",\"type\":\"DatetimeTicker\"}},\"id\":\"7b54d063-bdd9-463f-90ca-9d1e8678b035\",\"type\":\"DatetimeAxis\"},{\"attributes\":{\"num_minor_ticks\":5,\"tickers\":[{\"id\":\"4dcef8a9-467d-42b2-bdf4-066395271cc1\",\"type\":\"AdaptiveTicker\"},{\"id\":\"1471c916-66b2-4863-a389-e96547105a98\",\"type\":\"AdaptiveTicker\"},{\"id\":\"72bb69ec-3d91-4610-a40f-7d8468f626d7\",\"type\":\"AdaptiveTicker\"},{\"id\":\"867c6dce-a782-4ea2-8a0b-3cfe6c3e61db\",\"type\":\"DaysTicker\"},{\"id\":\"c40d14b8-6bc6-48af-b0c5-61b5760bbf10\",\"type\":\"DaysTicker\"},{\"id\":\"52f44936-57b7-47e3-9c86-7ffb70b77bd8\",\"type\":\"DaysTicker\"},{\"id\":\"078a4b3d-a863-471c-99be-1977ce42920c\",\"type\":\"DaysTicker\"},{\"id\":\"2c359770-a0a2-4f16-a73e-118daf0dfaee\",\"type\":\"MonthsTicker\"},{\"id\":\"9825bd03-e830-4017-a1f3-f9f8344d904e\",\"type\":\"MonthsTicker\"},{\"id\":\"373bed52-4517-4de1-b677-6869a9c16801\",\"type\":\"MonthsTicker\"},{\"id\":\"4e961165-d81c-418c-9379-0878cf7ff563\",\"type\":\"MonthsTicker\"},{\"id\":\"f50a9ed7-d2db-4edd-8331-97fde4fe3b2a\",\"type\":\"YearsTicker\"}]},\"id\":\"9552904d-7b47-456b-98b8-d6a035076ab8\",\"type\":\"DatetimeTicker\"},{\"attributes\":{\"formatter\":{\"id\":\"a8cd802d-2090-47b2-afff-21d57ad34be3\",\"type\":\"BasicTickFormatter\"},\"plot\":{\"id\":\"9c6ecafc-6a37-4167-8d1f-64c863a6d1ce\",\"subtype\":\"Figure\",\"type\":\"Plot\"},\"ticker\":{\"id\":\"a4b03b8d-a251-4f3b-98f5-f29a7b55819e\",\"type\":\"BasicTicker\"}},\"id\":\"9af8769d-28b4-4ea5-b240-dda8805fd058\",\"type\":\"LinearAxis\"},{\"attributes\":{},\"id\":\"a4b03b8d-a251-4f3b-98f5-f29a7b55819e\",\"type\":\"BasicTicker\"},{\"attributes\":{\"dimension\":1,\"plot\":{\"id\":\"9c6ecafc-6a37-4167-8d1f-64c863a6d1ce\",\"subtype\":\"Figure\",\"type\":\"Plot\"},\"ticker\":{\"id\":\"a4b03b8d-a251-4f3b-98f5-f29a7b55819e\",\"type\":\"BasicTicker\"}},\"id\":\"7ba1c3f4-c9d2-4890-8eea-3df2598327c4\",\"type\":\"Grid\"},{\"attributes\":{\"callback\":null,\"column_names\":[\"xs\",\"ys\",\"line_color\"],\"data\":{\"line_color\":[\"#fef0d9\",\"#fef0d9\",\"#fdcc8a\",\"#fc8d59\",\"#fc8d59\"],\"xs\":[[0.0,3600000.0,7200000.0,10800000.0,14400000.0,\"od\",\"od_time\",\"fd\",\"fd_time\",\"td\",\"td_time\",\"omd\",\"omd_time\",\"fmd\",\"fmd_time\",\"tmd\",\"tmd_time\"],[0.0,3600000.0,7200000.0,10800000.0,14400000.0,\"od\",\"od_time\",\"fd\",\"fd_time\",\"td\",\"td_time\",\"omd\",\"omd_time\",\"fmd\",\"fmd_time\",\"tmd\",\"tmd_time\"],[0.0,3600000.0,7200000.0,10800000.0,14400000.0,\"od\",\"od_time\",\"fd\",\"fd_time\",\"td\",\"td_time\",\"omd\",\"omd_time\",\"fmd\",\"fmd_time\",\"tmd\",\"tmd_time\"],[0.0,3600000.0,7200000.0,10800000.0,14400000.0,\"od\",\"od_time\",\"fd\",\"fd_time\",\"td\",\"td_time\",\"omd\",\"omd_time\",\"fmd\",\"fmd_time\",\"tmd\",\"tmd_time\"],[0.0,3600000.0,7200000.0,10800000.0,14400000.0,\"od\",\"od_time\",\"fd\",\"fd_time\",\"td\",\"td_time\",\"omd\",\"omd_time\",\"fmd\",\"fmd_time\",\"tmd\",\"tmd_time\"]],\"ys\":[{\"__ndarray__\":\"AAAAAAAAAEAAAAAAAAAAQAAAAAAAAABAAAAAAAAAAEAAAAAAAAAAQJqZmZmZmdk/je21oPfGwD6amZmZmZnZPwAAAAAAAAAAmpmZmZmZ2T/xaOOItfjUPpqZmZmZmdk/je21oPfGwD6amZmZmZnZPwAAAAAAAAAAmpmZmZmZ2T+4Xz5ZMVzdPg==\",\"dtype\":\"float64\",\"shape\":[17]},{\"__ndarray__\":\"AAAAAAAAHEAAAAAAAAAcQAAAAAAAABxAAAAAAAAAHEAAAAAAAAAcQJqZmZmZmdk/je21oPfGwD6amZmZmZnZPwAAAAAAAAAAmpmZmZmZ2T/xaOOItfjUPnE9CtejcN0/VOQQcXMqyT5xPQrXo3DdPwAAAAAAAAAAcT0K16Nw3T/xaOOItfjUPg==\",\"dtype\":\"float64\",\"shape\":[17]},{\"__ndarray__\":\"AAAAAAAACEAAAAAAAAAIQAAAAAAAAAhAAAAAAAAACEAAAAAAAAAIQGZmZmZmZuY/je21oPfGwD5mZmZmZmbmPwAAAAAAAAAAZmZmZmZm5j+N7bWg98bQPmZmZmZmZuY/VOQQcXMqyT5mZmZmZmbmPwAAAAAAAAAAZmZmZmZm5j9U5BBxcyrZPg==\",\"dtype\":\"float64\",\"shape\":[17]},{\"__ndarray__\":\"AAAAAAAAFEAAAAAAAAAUQAAAAAAAABRAAAAAAAAAFEAAAAAAAAAUQDMzMzMzM+M/VOQQcXMqyT4zMzMzMzPjPwAAAAAAAAAAMzMzMzMz4z9U5BBxcyrZPgrXo3A9Cuc/je21oPfGwD4K16NwPQrnPwAAAAAAAAAACtejcD0K5z9U5BBxcyrZPg==\",\"dtype\":\"float64\",\"shape\":[17]},{\"__ndarray__\":\"AAAAAAAAEEAAAAAAAAAQQAAAAAAAACBAAAAAAAAAEEAAAAAAAAAQQJqZmZmZmdk/VOQQcXMqyT6amZmZmZnZPwAAAAAAAAAAmpmZmZmZ2T/xaOOItfjUPgrXo3A9Cuc/VOQQcXMqyT4K16NwPQrnPwAAAAAAAAAACtejcD0K5z/xaOOItfjUPg==\",\"dtype\":\"float64\",\"shape\":[17]}]}},\"id\":\"cdf0df1e-4ec2-4ad8-a448-f352f6d57416\",\"type\":\"ColumnDataSource\"},{\"attributes\":{\"bottom_units\":\"screen\",\"fill_alpha\":{\"value\":0.5},\"fill_color\":{\"value\":\"lightgrey\"},\"left_units\":\"screen\",\"level\":\"overlay\",\"line_alpha\":{\"value\":1.0},\"line_color\":{\"value\":\"black\"},\"line_dash\":[4,4],\"line_width\":{\"value\":2},\"plot\":null,\"render_mode\":\"css\",\"right_units\":\"screen\",\"top_units\":\"screen\"},\"id\":\"cf7ad88b-0edf-4905-a8f7-ef21d6c7963b\",\"type\":\"BoxAnnotation\"},{\"attributes\":{},\"id\":\"f50a9ed7-d2db-4edd-8331-97fde4fe3b2a\",\"type\":\"YearsTicker\"},{\"attributes\":{},\"id\":\"432b1eb1-2cd3-4c54-8867-81d2408296b2\",\"type\":\"PanTool\"},{\"attributes\":{},\"id\":\"a8cd802d-2090-47b2-afff-21d57ad34be3\",\"type\":\"BasicTickFormatter\"},{\"attributes\":{\"days\":[1,15]},\"id\":\"078a4b3d-a863-471c-99be-1977ce42920c\",\"type\":\"DaysTicker\"},{\"attributes\":{},\"id\":\"a61fce94-109c-4646-b66c-d183cd73618f\",\"type\":\"WheelZoomTool\"},{\"attributes\":{\"overlay\":{\"id\":\"cf7ad88b-0edf-4905-a8f7-ef21d6c7963b\",\"type\":\"BoxAnnotation\"}},\"id\":\"494eaacc-3a06-44f5-859e-d050bea8d05f\",\"type\":\"BoxZoomTool\"},{\"attributes\":{},\"id\":\"e8f58a84-2132-41fd-b62e-9c02c1b457f9\",\"type\":\"SaveTool\"},{\"attributes\":{\"months\":[0,2,4,6,8,10]},\"id\":\"9825bd03-e830-4017-a1f3-f9f8344d904e\",\"type\":\"MonthsTicker\"},{\"attributes\":{},\"id\":\"3e613fc6-1937-4242-ba09-44b442528144\",\"type\":\"ResetTool\"},{\"attributes\":{},\"id\":\"206bc275-df7a-494f-8e24-9f3f60ff69c9\",\"type\":\"HelpTool\"},{\"attributes\":{\"data_source\":{\"id\":\"cdf0df1e-4ec2-4ad8-a448-f352f6d57416\",\"type\":\"ColumnDataSource\"},\"glyph\":{\"id\":\"8c6f4c46-78d3-4fca-aadd-35866085422a\",\"type\":\"MultiLine\"},\"hover_glyph\":null,\"muted_glyph\":null,\"nonselection_glyph\":{\"id\":\"91ae1c93-f7d4-46d2-9ab0-f4a8cdac7201\",\"type\":\"MultiLine\"},\"selection_glyph\":null,\"view\":{\"id\":\"767b73d7-c795-4799-9ff7-d9209a8100b1\",\"type\":\"CDSView\"}},\"id\":\"f22b4a62-5be1-4550-b8cb-5a9a1ff8c1e4\",\"type\":\"GlyphRenderer\"},{\"attributes\":{\"line_alpha\":{\"value\":0.1},\"line_color\":{\"value\":\"#1f77b4\"},\"line_width\":{\"value\":5},\"xs\":{\"field\":\"xs\"},\"ys\":{\"field\":\"ys\"}},\"id\":\"91ae1c93-f7d4-46d2-9ab0-f4a8cdac7201\",\"type\":\"MultiLine\"},{\"attributes\":{},\"id\":\"302cf232-8778-49d8-abaa-c1900ec1f5a4\",\"type\":\"DatetimeTickFormatter\"},{\"attributes\":{\"line_color\":{\"field\":\"line_color\"},\"line_width\":{\"value\":5},\"xs\":{\"field\":\"xs\"},\"ys\":{\"field\":\"ys\"}},\"id\":\"8c6f4c46-78d3-4fca-aadd-35866085422a\",\"type\":\"MultiLine\"},{\"attributes\":{\"mantissas\":[1,2,5],\"max_interval\":500.0,\"num_minor_ticks\":0},\"id\":\"4dcef8a9-467d-42b2-bdf4-066395271cc1\",\"type\":\"AdaptiveTicker\"}],\"root_ids\":[\"9c6ecafc-6a37-4167-8d1f-64c863a6d1ce\"]},\"title\":\"Bokeh Application\",\"version\":\"0.12.10\"}};\n",
       "    var render_items = [{\"docid\":\"13d6a0d8-e7a4-47fd-aeb6-2dff5231b6ed\",\"elementid\":\"59f7562a-9738-4c6f-b1b1-3d2cea46d7c8\",\"modelid\":\"9c6ecafc-6a37-4167-8d1f-64c863a6d1ce\"}];\n",
       "\n",
       "    root.Bokeh.embed.embed_items(docs_json, render_items);\n",
       "  }\n",
       "\n",
       "  if (root.Bokeh !== undefined) {\n",
       "    embed_document(root);\n",
       "  } else {\n",
       "    var attempts = 0;\n",
       "    var timer = setInterval(function(root) {\n",
       "      if (root.Bokeh !== undefined) {\n",
       "        embed_document(root);\n",
       "        clearInterval(timer);\n",
       "      }\n",
       "      attempts++;\n",
       "      if (attempts > 100) {\n",
       "        console.log(\"Bokeh: ERROR: Unable to embed document because BokehJS library is missing\")\n",
       "        clearInterval(timer);\n",
       "      }\n",
       "    }, 10, root)\n",
       "  }\n",
       "})(window);"
      ],
      "application/vnd.bokehjs_exec.v0+json": ""
     },
     "metadata": {
      "application/vnd.bokehjs_exec.v0+json": {
       "id": "9c6ecafc-6a37-4167-8d1f-64c863a6d1ce"
      }
     },
     "output_type": "display_data"
    }
   ],
   "source": [
    "data, plot_lines_depth = plot_lines('../data/infile.csv',\"../outputs/outfile_out.txt\",'omd','1/1/2018','1/5/2018',\n",
    "                              5, depth_color=True)\n",
    "data.head()\n",
    "show(plot_lines_depth)"
   ]
  },
  {
   "cell_type": "code",
   "execution_count": null,
   "metadata": {},
   "outputs": [],
   "source": [
    "data, plot_lines_depth = plot_lines('../data/taxis_v1.csv',\"../outputs/taxis_v1_out.txt\",'fd','1/1/2018','12/31/2018',\n",
    "                                    24, depth_color=True)\n",
    "data.head()\n",
    "show(plot_lines_depth)"
   ]
  },
  {
   "cell_type": "code",
   "execution_count": null,
   "metadata": {
    "collapsed": true
   },
   "outputs": [],
   "source": [
    "output_file('fbplot_taxisv1.html')\n",
    "fbplot_taxisv1 = functional_boxplot('../data/taxis_v1.csv',\"../outputs/taxis_v1_out.txt\",'01/01/2018','12/31/2018', 24,'tmd')\n",
    "show(fbplot_taxisv1)"
   ]
  },
  {
   "cell_type": "code",
   "execution_count": null,
   "metadata": {
    "collapsed": true
   },
   "outputs": [],
   "source": [
    "data_weekdays_taxi, data_weekends_taxi = split_datasets('../data/taxis_v1.csv',\"../outputs/taxis_v1_out.txt\",'01/01/2018','12/31/2018')\n",
    "print(data_weekdays_taxi.shape, data_weekends_taxi.shape)"
   ]
  },
  {
   "cell_type": "code",
   "execution_count": null,
   "metadata": {
    "collapsed": true
   },
   "outputs": [],
   "source": [
    "fbplot_taxisv1_weekday_od = functional_boxplot_from_df(data_weekdays_taxi,'od','Taxi trips on weekdays using original depth')\n",
    "show(fbplot_taxisv1_weekday_od)"
   ]
  },
  {
   "cell_type": "code",
   "execution_count": null,
   "metadata": {
    "collapsed": true
   },
   "outputs": [],
   "source": []
  }
 ],
 "metadata": {
  "kernelspec": {
   "display_name": "Python 3",
   "language": "python",
   "name": "python3"
  },
  "language_info": {
   "codemirror_mode": {
    "name": "ipython",
    "version": 3
   },
   "file_extension": ".py",
   "mimetype": "text/x-python",
   "name": "python",
   "nbconvert_exporter": "python",
   "pygments_lexer": "ipython3",
   "version": "3.6.9"
  }
 },
 "nbformat": 4,
 "nbformat_minor": 2
}
