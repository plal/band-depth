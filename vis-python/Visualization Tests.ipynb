{
 "cells": [
  {
   "cell_type": "code",
   "execution_count": 1,
   "metadata": {
    "collapsed": true
   },
   "outputs": [],
   "source": [
    "import pandas as pd\n",
    "import numpy as np\n",
    "from bokeh.plotting import figure, show, output_file\n",
    "from bokeh.models import Band, ColumnDataSource, HoverTool, DatetimeTickFormatter\n",
    "from bokeh.models.annotations import Title"
   ]
  },
  {
   "cell_type": "code",
   "execution_count": 2,
   "metadata": {
    "collapsed": true
   },
   "outputs": [],
   "source": [
    "import random\n",
    "\n",
    "def plot_lines(data_file, output_file, depth_type, start_date, end_date, num_outliers, use_top50=False):\n",
    "    data = pd.read_csv(data_file)\n",
    "    data = data.set_index(pd.date_range(start=start_date, end=end_date).date)\n",
    "    data = data.transpose()\n",
    "    data = data.set_index(pd.date_range(start=start_date, periods=24, freq='H').time)\n",
    "\n",
    "    data_outputs = pd.read_csv(output_file).set_index(pd.date_range(start=start_date, end=end_date).date)\n",
    "\n",
    "    data_outputs = data_outputs.transpose()\n",
    "\n",
    "    data_final = pd.concat([data,data_outputs])\n",
    "\n",
    "    data_final = data_final.sort_values(by=depth_type,axis=1)\n",
    "    \n",
    "    data_ordered = data_final\n",
    "    \n",
    "    color_top50 = [\"#fbb4b9\"] * (data_ordered.shape[1] - (num_outliers+1))\n",
    "    color_median = [\"Blue\"]\n",
    "    color_outliers = [\"Red\"] * num_outliers\n",
    "    color_list = color_top50 + color_outliers + color_median\n",
    "    '''\n",
    "    color_list = []\n",
    "    for i in range(data_ordered.shape[1]):\n",
    "      color_list.append(\"#{:06x}\".format(random.randint(0, 0xFFFFFF)))\n",
    "    '''\n",
    "    \n",
    "    alpha_list = [0.5] * data_final.shape[1]\n",
    "    alpha_list[0:num_outliers] = [1] * num_outliers\n",
    "    alpha_list[len(alpha_list)-1] = 1\n",
    "\n",
    "    numlines = len(data_ordered.columns)\n",
    "\n",
    "    p = figure(width=1000, height=800, x_axis_type=\"datetime\") \n",
    "    p.multi_line(xs=[data_ordered.index.values]*numlines,\n",
    "                 ys=[data_ordered[name].values for name in data_ordered.iloc[0:24]],\n",
    "                 line_color=color_list,\n",
    "                 line_width=5)\n",
    "    \n",
    "    p.xaxis.major_label_text_font_size = \"18pt\"\n",
    "    p.xaxis.formatter = DatetimeTickFormatter(days=\"%H:%M\",hours=\"%H:%M\")\n",
    "    p.yaxis.major_label_text_font_size = \"18pt\"\n",
    "    \n",
    "    return p"
   ]
  },
  {
   "cell_type": "code",
   "execution_count": 4,
   "metadata": {
    "collapsed": true
   },
   "outputs": [],
   "source": [
    "output_file('taxis_v3_top50.html')\n",
    "plot_taxis_v3 = plot_lines('../data/taxis_v3.csv',\"../outputs/taxis_v3_out.txt\",'tmd','1/1/2014','12/31/2018', 20, use_top50=False)\n",
    "show(plot_taxis_v3)"
   ]
  },
  {
   "cell_type": "code",
   "execution_count": 53,
   "metadata": {},
   "outputs": [
    {
     "name": "stdout",
     "output_type": "stream",
     "text": [
      "(36, 1826)\n"
     ]
    }
   ],
   "source": [
    "output_file('taxis_v3_full.html')\n",
    "plot_taxis_v3 = plot_lines('../data/taxis_v3.csv',\"../outputs/taxis_v3_out.txt\",'tmd','1/1/2014','12/31/2018', 20)\n",
    "show(plot_taxis_v3)"
   ]
  },
  {
   "cell_type": "code",
   "execution_count": 54,
   "metadata": {},
   "outputs": [
    {
     "name": "stdout",
     "output_type": "stream",
     "text": [
      "(36, 568)\n"
     ]
    }
   ],
   "source": [
    "output_file('taxis_v2_top50.html')\n",
    "plot_taxis_v2 = plot_lines('../data/taxis_v2.csv',\"../outputs/taxis_v2_out.txt\",'tmd','1/1/2016','12/31/2018', 20, use_top50=True)\n",
    "show(plot_taxis_v2)"
   ]
  },
  {
   "cell_type": "code",
   "execution_count": 55,
   "metadata": {},
   "outputs": [
    {
     "name": "stdout",
     "output_type": "stream",
     "text": [
      "(36, 1096)\n"
     ]
    }
   ],
   "source": [
    "output_file('taxis_v2_full.html')\n",
    "plot_taxis_v2 = plot_lines('../data/taxis_v2.csv',\"../outputs/taxis_v2_out.txt\",'tmd','1/1/2016','12/31/2018', 20)\n",
    "show(plot_taxis_v2)"
   ]
  },
  {
   "cell_type": "code",
   "execution_count": 56,
   "metadata": {},
   "outputs": [
    {
     "name": "stdout",
     "output_type": "stream",
     "text": [
      "(36, 203)\n"
     ]
    }
   ],
   "source": [
    "output_file('taxis_v1_top50.html')\n",
    "plot_taxis_v1 = plot_lines('../data/taxis_v1.csv',\"../outputs/taxis_v1_out.txt\",'tmd','1/1/2018','12/31/2018', 20, use_top50=True)\n",
    "show(plot_taxis_v1)"
   ]
  },
  {
   "cell_type": "code",
   "execution_count": 30,
   "metadata": {
    "collapsed": true,
    "scrolled": true
   },
   "outputs": [],
   "source": [
    "output_file('taxis_v1_full.html')\n",
    "plot_taxis_v1 = plot_lines('../data/taxis_v1.csv',\"../outputs/taxis_v1_out.txt\",'td','1/1/2018','12/31/2018', 20)\n",
    "show(plot_taxis_v1)"
   ]
  },
  {
   "cell_type": "code",
   "execution_count": 31,
   "metadata": {
    "collapsed": true,
    "scrolled": true
   },
   "outputs": [],
   "source": [
    "output_file('taxis_v1_sliding.html')\n",
    "plot_taxis_v1 = plot_lines('../data/taxis_v1.csv',\"../outputs/taxis_v1_sliding_out.txt\",'sd','1/1/2018','12/31/2018', 20)\n",
    "show(plot_taxis_v1)"
   ]
  },
  {
   "cell_type": "code",
   "execution_count": 58,
   "metadata": {},
   "outputs": [
    {
     "name": "stdout",
     "output_type": "stream",
     "text": [
      "(36, 216)\n"
     ]
    }
   ],
   "source": [
    "output_file('airquality_v1_top50.html')\n",
    "plot_airquality_v1 = plot_lines('../data/airquality_v1.csv',\"../outputs/airquality_v1_out.txt\",'fd','03/10/2004','04/04/2005',20, use_top50=True)\n",
    "show(plot_airquality_v1)"
   ]
  },
  {
   "cell_type": "code",
   "execution_count": 59,
   "metadata": {},
   "outputs": [
    {
     "name": "stdout",
     "output_type": "stream",
     "text": [
      "(36, 391)\n"
     ]
    }
   ],
   "source": [
    "output_file('airquality_v1_full.html')\n",
    "plot_airquality_v1 = plot_lines('../data/airquality_v1.csv',\"../outputs/airquality_v1_out.txt\",'fd','03/10/2004','04/04/2005',20)\n",
    "show(plot_airquality_v1)"
   ]
  },
  {
   "cell_type": "markdown",
   "metadata": {},
   "source": [
    "# Functional Boxplot"
   ]
  },
  {
   "cell_type": "code",
   "execution_count": 58,
   "metadata": {
    "collapsed": true
   },
   "outputs": [],
   "source": [
    "def prepare_data(data_file, output_file, start_date, end_date, use_weekday=False):\n",
    "    data = pd.read_csv(data_file)\n",
    "    \n",
    "    data = data.set_index(pd.date_range(start=start_date, end=end_date).date)\n",
    "    data = data.transpose()\n",
    "    data = data.set_index(pd.date_range(start=start_date, periods=24, freq='H').time)\n",
    "\n",
    "    data_outputs = pd.read_csv(output_file).set_index(pd.date_range(start=start_date, end=end_date).date)\n",
    "    data_outputs = data_outputs.transpose()\n",
    "\n",
    "    data_final   = pd.concat([data,data_outputs])\n",
    "    if use_weekday:\n",
    "        data_final = data_final.transpose()\n",
    "        data_final = data_final[data_final['sd'] != 0.00000]\n",
    "        data_final = data_final.transpose()\n",
    "        \n",
    "    #print(data_final.head)\n",
    "    return data_final\n",
    "\n",
    "def get_envelopes(data_top50):\n",
    "    df_max = data_top50.max(axis=1)\n",
    "    df_min = data_top50.min(axis=1)\n",
    "    \n",
    "    iqr = df_max - df_min\n",
    "    mid = (df_max + df_min)//2\n",
    "    out_top = mid + (0.75*iqr)\n",
    "    out_bot = mid - (0.75*iqr)\n",
    "    \n",
    "    return pd.concat({'top':df_max,'bot':df_min,'out_top':out_top,'out_bot':out_bot},axis=1)\n",
    "\n",
    "def get_outliers(raw_outliers, data_envelopes):\n",
    "    data_outliers = pd.DataFrame()\n",
    "    for col in raw_outliers.columns:\n",
    "        if (raw_outliers[col][:24] > data_envelopes['out_top'][:24]).any() or (raw_outliers[col][:24] < data_envelopes['out_bot'][:24]).any():\n",
    "            data_outliers = pd.concat([data_outliers,raw_outliers[col]],axis=1)\n",
    "    return data_outliers\n",
    "\n",
    "def functional_boxplot(data_file, output_file, start_date, end_date, depth_type):\n",
    "\n",
    "    data_final   = prepare_data(data_file, output_file, start_date, end_date)\n",
    "    data_final   = data_final.sort_values(by=depth_type,axis=1)\n",
    "    \n",
    "    data_median    = data_final.iloc[:,data_final.shape[1]-1]\n",
    "    data_top50     = data_final.iloc[:,(data_final.shape[1]//2):data_final.shape[1]-1]\n",
    "    data_envelopes = get_envelopes(data_top50)\n",
    "    '''\n",
    "    raw_outliers   = data_final.iloc[:,:(data_final.shape[1]//2)]\n",
    "    data_outliers  = get_outliers(raw_outliers,data_envelopes)\n",
    "    print(raw_outliers.shape)\n",
    "    print(data_outliers.shape)\n",
    "    '''\n",
    "    data_ordered   = pd.concat([data_envelopes,data_median],axis=1)\n",
    "\n",
    "    color_list = [\"#f768a1\",\"black\",\"black\",\"#f768a1\"]+[\"blue\"]\n",
    "    alpha_list = [1.0]*4 + [1.0]\n",
    "    \n",
    "    numlines = len(data_ordered.columns)\n",
    "\n",
    "    p = figure(width=1000, height=800, x_axis_type=\"datetime\") \n",
    "    \n",
    "    upper_band = np.array(data_envelopes['top'].iloc[0:24])\n",
    "    lower_band = np.array(data_envelopes['bot'].iloc[0:24])\n",
    "    x          = np.array(data_ordered.index[0:24])\n",
    "    \n",
    "    xs = np.concatenate([x, x[::-1]])\n",
    "    ys = np.concatenate([lower_band, upper_band[::-1]])\n",
    "    \n",
    "    p.patch(x=xs, y=ys, fill_color=\"#f768a1\", fill_alpha=0.8, line_alpha=0, legend=\"IQR\")\n",
    "    \n",
    "    p.multi_line(xs=[data_ordered.index.values]*numlines,\n",
    "                 ys=[data_ordered[name].values for name in data_ordered.iloc[0:24]],\n",
    "                 line_color=color_list,\n",
    "                 line_width=5,\n",
    "                 alpha=alpha_list)\n",
    "    \n",
    "    p.xaxis.major_label_text_font_size = \"18pt\"\n",
    "    p.xaxis.formatter = DatetimeTickFormatter(days=\"%H:%M\",hours=\"%H:%M\")\n",
    "    p.yaxis.major_label_text_font_size = \"18pt\"\n",
    "\n",
    "    return p"
   ]
  },
  {
   "cell_type": "markdown",
   "metadata": {},
   "source": [
    "## Plot 1 year of taxis data"
   ]
  },
  {
   "cell_type": "code",
   "execution_count": 7,
   "metadata": {
    "collapsed": true,
    "scrolled": true
   },
   "outputs": [],
   "source": [
    "output_file('fbplot_taxisv1.html')\n",
    "fbplot_taxisv1 = functional_boxplot('../data/taxis_v1.csv',\"../outputs/taxis_v1_out.txt\",'01/01/2018','12/31/2018','omd')\n",
    "show(fbplot_taxisv1)"
   ]
  },
  {
   "cell_type": "code",
   "execution_count": 6,
   "metadata": {
    "collapsed": true,
    "scrolled": true
   },
   "outputs": [],
   "source": [
    "output_file('fbplot_taxisv1_s.html')\n",
    "fbplot_taxisv1_s = functional_boxplot('../data/taxis_v1.csv',\"../outputs/taxis_v1_sliding_out.txt\",'01/01/2018','12/31/2018','sd')\n",
    "show(fbplot_taxisv1_s)"
   ]
  },
  {
   "cell_type": "markdown",
   "metadata": {},
   "source": [
    "## Plot 1 year of air quality data"
   ]
  },
  {
   "cell_type": "code",
   "execution_count": 152,
   "metadata": {},
   "outputs": [
    {
     "name": "stderr",
     "output_type": "stream",
     "text": [
      "/home/pedro/anaconda3/lib/python3.6/site-packages/ipykernel_launcher.py:28: FutureWarning: Sorting because non-concatenation axis is not aligned. A future version\n",
      "of pandas will change to not sort by default.\n",
      "\n",
      "To accept the future behavior, pass 'sort=False'.\n",
      "\n",
      "To retain the current behavior and silence the warning, pass 'sort=True'.\n",
      "\n"
     ]
    },
    {
     "name": "stdout",
     "output_type": "stream",
     "text": [
      "(36, 195)\n",
      "(36, 100)\n"
     ]
    }
   ],
   "source": [
    "output_file('fbplot_airquality_v1.html')\n",
    "fbplot_taxisv1 = functional_boxplot('../data/airquality_v1.csv',\"../outputs/airquality_v1_out.txt\",'03/10/2004','04/04/2005','fd')\n",
    "show(fbplot_taxisv1)"
   ]
  },
  {
   "cell_type": "markdown",
   "metadata": {},
   "source": [
    "# Split datasets into weekdays and weekends"
   ]
  },
  {
   "cell_type": "code",
   "execution_count": 4,
   "metadata": {},
   "outputs": [
    {
     "name": "stdout",
     "output_type": "stream",
     "text": [
      "(36, 261) (36, 104)\n",
      "(36, 279) (36, 112)\n"
     ]
    }
   ],
   "source": [
    "def split_datasets(data_file, output_file, start_date, end_date):\n",
    "\n",
    "    data_aux = prepare_data(data_file, output_file, start_date, end_date)\n",
    "\n",
    "    aux = []\n",
    "    for col in data_aux.columns:\n",
    "        aux.append(col.isoweekday())\n",
    "\n",
    "    data_aux = data_aux.transpose()\n",
    "    data_aux[\"weekday\"] = aux\n",
    "    data_weekends = data_aux.loc[data_aux[\"weekday\"] > 5].drop(\"weekday\",axis=1).transpose()\n",
    "    data_weekdays = data_aux.loc[data_aux[\"weekday\"] < 6].drop(\"weekday\",axis=1).transpose()\n",
    "    return data_weekdays, data_weekends\n",
    "\n",
    "data_weekdays_taxi, data_weekends_taxi = split_datasets('../data/taxis_v1.csv',\"../outputs/taxis_v1_out.txt\",'01/01/2018','12/31/2018')\n",
    "data_weekdays_airquality, data_weekends_airquality = split_datasets('../data/airquality_v1.csv',\"../outputs/airquality_v1_out.txt\",'03/10/2004','04/04/2005')\n",
    "\n",
    "print(data_weekdays_taxi.shape, data_weekends_taxi.shape)\n",
    "print(data_weekdays_airquality.shape, data_weekends_airquality.shape)"
   ]
  },
  {
   "cell_type": "code",
   "execution_count": 56,
   "metadata": {},
   "outputs": [],
   "source": [
    "def functional_boxplot_from_df(data, depth_type, title):\n",
    "    \n",
    "    data_final   = data.sort_values(by=depth_type,axis=1)\n",
    "    \n",
    "    print(data_final.shape)\n",
    "    \n",
    "    data_median    = data_final.iloc[:,data_final.shape[1]-1]\n",
    "    data_top50     = data_final.iloc[:,(data_final.shape[1]//2):data_final.shape[1]-1]\n",
    "    print(data_top50.shape)\n",
    "    data_envelopes = get_envelopes(data_top50)\n",
    "    #print(data_envelopes)\n",
    "    data_inner_envelopes = data_envelopes[['bot','top']]\n",
    "    data_outer_envelopes = data_envelopes[['out_bot','out_top']]\n",
    "    raw_outliers   = data_final.iloc[:,:(data_final.shape[1]//2)]\n",
    "    #print(raw_outliers)\n",
    "    data_outliers  = get_outliers(raw_outliers,data_envelopes)\n",
    "    #print(data_outliers)\n",
    "    data_top_outliers = data_outliers.iloc[:,:5]\n",
    "    data_outliers.drop(data_outliers.iloc[:,:5], inplace=True, axis=1)\n",
    "\n",
    "    print(data_outliers.shape)\n",
    "    print(data_top_outliers.shape)\n",
    "    \n",
    "    data_ordered   = pd.concat([data_inner_envelopes,data_outliers,data_median],axis=1)\n",
    "    #print(data_ordered.shape)\n",
    "    \n",
    "    color_inner_envelopes = [\"#cccccc\",\"#cccccc\"]\n",
    "    color_outliers = [\"#fcbba1\"]*(data_outliers.shape[1])\n",
    "    color_median = [\"black\"]\n",
    "    colors_general = color_inner_envelopes + color_outliers + color_median \n",
    "    \n",
    "    numlines_general = len(data_ordered.columns)\n",
    "    \n",
    "    \n",
    "    colors_outer_envelopes = [\"#969696\",\"#969696\"]\n",
    "    numlines_outer_envelopes = len(data_outer_envelopes.columns)\n",
    "\n",
    "    \n",
    "    colors_top_outliers = ['#e41a1c','#377eb8','#4daf4a','#984ea3','#ff7f00']\n",
    "    numlines_top_outliers = len(data_top_outliers.columns)    \n",
    "    print(pd.to_datetime(data_top_outliers.columns))\n",
    "    \n",
    "    p = figure(width=1000, height=800, x_axis_type=\"datetime\", title=title) \n",
    "    \n",
    "    upper_band = np.array(data_envelopes['top'].iloc[0:24])\n",
    "    lower_band = np.array(data_envelopes['bot'].iloc[0:24])\n",
    "    x          = np.array(data_ordered.index[0:24])\n",
    "    \n",
    "    xs = np.concatenate([x, x[::-1]])\n",
    "    ys = np.concatenate([lower_band, upper_band[::-1]])\n",
    "    \n",
    "    p.patch(x=xs, y=ys, fill_color=\"#cccccc\", fill_alpha=0.8, line_alpha=0, legend=\"IQR\")    \n",
    "    \n",
    "    src_outer_envelopes = ColumnDataSource(data={\n",
    "        'xs_outer_envelopes': [data_outer_envelopes.index.values]*numlines_outer_envelopes,\n",
    "        'ys_outer_envelopes': [data_outer_envelopes[name].values for name in data_outer_envelopes.iloc[0:24]],\n",
    "        'colors_outer_envelopes':colors_outer_envelopes,\n",
    "        'dates':data_outer_envelopes.columns.astype(str)\n",
    "    })\n",
    "    \n",
    "    p.multi_line('xs_outer_envelopes',\n",
    "                 'ys_outer_envelopes',\n",
    "                 source=src_outer_envelopes,\n",
    "                 line_color='colors_outer_envelopes',\n",
    "                 line_width=5,\n",
    "                 line_dash='dashed')\n",
    "    \n",
    "    src_general = ColumnDataSource(data={\n",
    "        'xs_general': [data_ordered.index.values]*numlines_general,\n",
    "        'ys_general': [data_ordered[name].values for name in data_ordered.iloc[0:24]],\n",
    "        'colors_general': colors_general,\n",
    "        'dates':data_ordered.columns.astype(str)\n",
    "    })\n",
    "    \n",
    "    p.multi_line('xs_general',\n",
    "                 'ys_general',\n",
    "                 source=src_general,\n",
    "                 line_color='colors_general',\n",
    "                 line_width=5,\n",
    "                 line_alpha=0.6,\n",
    "                 hover_line_color='colors_general',\n",
    "                 hover_line_alpha=1.0)\n",
    "    \n",
    "    src_top_outliers = ColumnDataSource(data={\n",
    "        'xs_top_outliers': [data_top_outliers.index.values]*numlines_top_outliers,\n",
    "        'ys_top_outliers': [data_top_outliers[name].values for name in data_top_outliers.iloc[0:24]],\n",
    "        'colors_top_outliers': colors_top_outliers,\n",
    "        'dates': data_top_outliers.columns.astype(str)\n",
    "    })\n",
    "    \n",
    "    p.multi_line('xs_top_outliers',\n",
    "                 'ys_top_outliers',\n",
    "                 source=src_top_outliers,\n",
    "                 line_color='colors_top_outliers',\n",
    "                 line_width=5,\n",
    "                 line_alpha=0.6,\n",
    "                 hover_line_color='colors_top_outliers',\n",
    "                 hover_line_alpha=1.0,\n",
    "                 legend='dates')\n",
    "    \n",
    "    p.legend.location = 'bottom_right'\n",
    "    p.legend.background_fill_alpha = 0.5\n",
    "    \n",
    "    p.title.text_font_size = '20pt'\n",
    "    \n",
    "    p.xaxis.major_label_text_font_size = \"18pt\"\n",
    "    p.xaxis.formatter = DatetimeTickFormatter(days=\"%H:%M\",hours=\"%H:%M\")\n",
    "    p.yaxis.major_label_text_font_size = \"18pt\"\n",
    "    \n",
    "    p.add_tools(HoverTool(show_arrow=False, line_policy='next', tooltips=[\n",
    "        ('Date', '@dates'),\n",
    "    ]))\n",
    "    \n",
    "    return p"
   ]
  },
  {
   "cell_type": "markdown",
   "metadata": {},
   "source": [
    "# EXPERIMENTS USING WEEKDAYS SLIDING DEPTH WSIZE = 15"
   ]
  },
  {
   "cell_type": "code",
   "execution_count": 61,
   "metadata": {},
   "outputs": [
    {
     "name": "stdout",
     "output_type": "stream",
     "text": [
      "(38, 53)\n",
      "(38, 26)\n",
      "(38, 10)\n",
      "(38, 5)\n",
      "DatetimeIndex(['2018-05-28', '2018-01-01', '2018-09-03', '2018-12-24',\n",
      "               '2018-12-31'],\n",
      "              dtype='datetime64[ns]', freq=None)\n"
     ]
    },
    {
     "name": "stderr",
     "output_type": "stream",
     "text": [
      "/home/pedro/anaconda3/lib/python3.6/site-packages/ipykernel_launcher.py:35: FutureWarning: Sorting because non-concatenation axis is not aligned. A future version\n",
      "of pandas will change to not sort by default.\n",
      "\n",
      "To accept the future behavior, pass 'sort=False'.\n",
      "\n",
      "To retain the current behavior and silence the warning, pass 'sort=True'.\n",
      "\n"
     ]
    }
   ],
   "source": [
    "output_file('sdepth/fbplot_sdepth_w15_mon.html')\n",
    "data_s15_mon = prepare_data('../data/taxis_v1.csv', \"../outputs/taxis_v1_s15_mon_out.txt\",'01/01/2018','12/31/2018', use_weekday=True)\n",
    "fbplot_taxisv1_s15_mon = functional_boxplot_from_df(data_s15_mon, 'sd', 'Taxi trips on mondays using sliding depth with winsize 15')\n",
    "show(fbplot_taxisv1_s15_mon)"
   ]
  },
  {
   "cell_type": "code",
   "execution_count": 62,
   "metadata": {},
   "outputs": [
    {
     "name": "stdout",
     "output_type": "stream",
     "text": [
      "(38, 52)\n",
      "(38, 25)\n",
      "(38, 10)\n",
      "(38, 5)\n",
      "DatetimeIndex(['2018-12-25', '2018-01-02', '2018-07-03', '2018-08-21',\n",
      "               '2018-05-15'],\n",
      "              dtype='datetime64[ns]', freq=None)\n"
     ]
    },
    {
     "name": "stderr",
     "output_type": "stream",
     "text": [
      "/home/pedro/anaconda3/lib/python3.6/site-packages/ipykernel_launcher.py:35: FutureWarning: Sorting because non-concatenation axis is not aligned. A future version\n",
      "of pandas will change to not sort by default.\n",
      "\n",
      "To accept the future behavior, pass 'sort=False'.\n",
      "\n",
      "To retain the current behavior and silence the warning, pass 'sort=True'.\n",
      "\n"
     ]
    }
   ],
   "source": [
    "output_file('sdepth/fbplot_sdepth_w15_tue.html')\n",
    "data_s15_tue = prepare_data('../data/taxis_v1.csv', \"../outputs/taxis_v1_s15_tue_out.txt\",'01/01/2018','12/31/2018', use_weekday=True)\n",
    "fbplot_taxisv1_s15_tue = functional_boxplot_from_df(data_s15_tue, 'sd', 'Taxi trips on tuesdays using sliding depth with winsize 15')\n",
    "show(fbplot_taxisv1_s15_tue)"
   ]
  },
  {
   "cell_type": "code",
   "execution_count": 64,
   "metadata": {},
   "outputs": [
    {
     "name": "stdout",
     "output_type": "stream",
     "text": [
      "(38, 52)\n",
      "(38, 25)\n",
      "(38, 11)\n",
      "(38, 5)\n",
      "DatetimeIndex(['2018-12-26', '2018-07-04', '2018-03-21', '2018-11-21',\n",
      "               '2018-03-07'],\n",
      "              dtype='datetime64[ns]', freq=None)\n"
     ]
    },
    {
     "name": "stderr",
     "output_type": "stream",
     "text": [
      "/home/pedro/anaconda3/lib/python3.6/site-packages/ipykernel_launcher.py:35: FutureWarning: Sorting because non-concatenation axis is not aligned. A future version\n",
      "of pandas will change to not sort by default.\n",
      "\n",
      "To accept the future behavior, pass 'sort=False'.\n",
      "\n",
      "To retain the current behavior and silence the warning, pass 'sort=True'.\n",
      "\n"
     ]
    }
   ],
   "source": [
    "output_file('sdepth/fbplot_sdepth_w15_wed.html')\n",
    "data_s15_wed = prepare_data('../data/taxis_v1.csv', \"../outputs/taxis_v1_s15_wed_out.txt\",'01/01/2018','12/31/2018', use_weekday=True)\n",
    "fbplot_taxisv1_s15_wed = functional_boxplot_from_df(data_s15_wed, 'sd', 'Taxi trips on wednesdays using sliding depth with winsize 15')\n",
    "show(fbplot_taxisv1_s15_wed)"
   ]
  },
  {
   "cell_type": "code",
   "execution_count": 65,
   "metadata": {},
   "outputs": [
    {
     "name": "stdout",
     "output_type": "stream",
     "text": [
      "(38, 52)\n",
      "(38, 25)\n",
      "(38, 12)\n",
      "(38, 5)\n",
      "DatetimeIndex(['2018-11-22', '2018-11-15', '2018-07-05', '2018-12-20',\n",
      "               '2018-01-04'],\n",
      "              dtype='datetime64[ns]', freq=None)\n"
     ]
    },
    {
     "name": "stderr",
     "output_type": "stream",
     "text": [
      "/home/pedro/anaconda3/lib/python3.6/site-packages/ipykernel_launcher.py:35: FutureWarning: Sorting because non-concatenation axis is not aligned. A future version\n",
      "of pandas will change to not sort by default.\n",
      "\n",
      "To accept the future behavior, pass 'sort=False'.\n",
      "\n",
      "To retain the current behavior and silence the warning, pass 'sort=True'.\n",
      "\n"
     ]
    }
   ],
   "source": [
    "output_file('sdepth/fbplot_sdepth_w15_thu.html')\n",
    "data_s15_thu = prepare_data('../data/taxis_v1.csv', \"../outputs/taxis_v1_s15_thu_out.txt\",'01/01/2018','12/31/2018', use_weekday=True)\n",
    "fbplot_taxisv1_s15_thu = functional_boxplot_from_df(data_s15_thu, 'sd', 'Taxi trips on thursdays using sliding depth with winsize 15')\n",
    "show(fbplot_taxisv1_s15_thu)"
   ]
  },
  {
   "cell_type": "code",
   "execution_count": 66,
   "metadata": {},
   "outputs": [
    {
     "name": "stdout",
     "output_type": "stream",
     "text": [
      "(38, 52)\n",
      "(38, 25)\n",
      "(38, 11)\n",
      "(38, 5)\n",
      "DatetimeIndex(['2018-12-14', '2018-07-06', '2018-11-16', '2018-01-05',\n",
      "               '2018-03-30'],\n",
      "              dtype='datetime64[ns]', freq=None)\n"
     ]
    },
    {
     "name": "stderr",
     "output_type": "stream",
     "text": [
      "/home/pedro/anaconda3/lib/python3.6/site-packages/ipykernel_launcher.py:35: FutureWarning: Sorting because non-concatenation axis is not aligned. A future version\n",
      "of pandas will change to not sort by default.\n",
      "\n",
      "To accept the future behavior, pass 'sort=False'.\n",
      "\n",
      "To retain the current behavior and silence the warning, pass 'sort=True'.\n",
      "\n"
     ]
    }
   ],
   "source": [
    "output_file('sdepth/fbplot_sdepth_w15_fri.html')\n",
    "data_s15_fri = prepare_data('../data/taxis_v1.csv', \"../outputs/taxis_v1_s15_fri_out.txt\",'01/01/2018','12/31/2018', use_weekday=True)\n",
    "fbplot_taxisv1_s15_fri = functional_boxplot_from_df(data_s15_fri, 'sd', 'Taxi trips on fridays using sliding depth with winsize 15')\n",
    "show(fbplot_taxisv1_s15_fri)"
   ]
  },
  {
   "cell_type": "code",
   "execution_count": 67,
   "metadata": {
    "scrolled": true
   },
   "outputs": [
    {
     "name": "stdout",
     "output_type": "stream",
     "text": [
      "(38, 52)\n",
      "(38, 25)\n",
      "(38, 11)\n",
      "(38, 5)\n",
      "DatetimeIndex(['2018-07-07', '2018-12-29', '2018-09-01', '2018-12-22',\n",
      "               '2018-11-24'],\n",
      "              dtype='datetime64[ns]', freq=None)\n"
     ]
    },
    {
     "name": "stderr",
     "output_type": "stream",
     "text": [
      "/home/pedro/anaconda3/lib/python3.6/site-packages/ipykernel_launcher.py:35: FutureWarning: Sorting because non-concatenation axis is not aligned. A future version\n",
      "of pandas will change to not sort by default.\n",
      "\n",
      "To accept the future behavior, pass 'sort=False'.\n",
      "\n",
      "To retain the current behavior and silence the warning, pass 'sort=True'.\n",
      "\n"
     ]
    }
   ],
   "source": [
    "output_file('sdepth/fbplot_sdepth_w15_sat.html')\n",
    "data_s15_sat = prepare_data('../data/taxis_v1.csv', \"../outputs/taxis_v1_s15_sat_out.txt\",'01/01/2018','12/31/2018', use_weekday=True)\n",
    "fbplot_taxisv1_s15_sat = functional_boxplot_from_df(data_s15_sat, 'sd', 'Taxi trips on saturdays using sliding depth with winsize 15')\n",
    "show(fbplot_taxisv1_s15_sat)"
   ]
  },
  {
   "cell_type": "code",
   "execution_count": 67,
   "metadata": {
    "scrolled": true
   },
   "outputs": [
    {
     "name": "stdout",
     "output_type": "stream",
     "text": [
      "(38, 52)\n",
      "(38, 25)\n",
      "(38, 11)\n",
      "(38, 5)\n",
      "DatetimeIndex(['2018-07-07', '2018-12-29', '2018-09-01', '2018-12-22',\n",
      "               '2018-11-24'],\n",
      "              dtype='datetime64[ns]', freq=None)\n"
     ]
    },
    {
     "name": "stderr",
     "output_type": "stream",
     "text": [
      "/home/pedro/anaconda3/lib/python3.6/site-packages/ipykernel_launcher.py:35: FutureWarning: Sorting because non-concatenation axis is not aligned. A future version\n",
      "of pandas will change to not sort by default.\n",
      "\n",
      "To accept the future behavior, pass 'sort=False'.\n",
      "\n",
      "To retain the current behavior and silence the warning, pass 'sort=True'.\n",
      "\n"
     ]
    }
   ],
   "source": [
    "output_file('sdepth/fbplot_sdepth_w15_sun.html')\n",
    "data_s15_sun = prepare_data('../data/taxis_v1.csv', \"../outputs/taxis_v1_s15_sun_out.txt\",'01/01/2018','12/31/2018', use_weekday=True)\n",
    "fbplot_taxisv1_s15_sun = functional_boxplot_from_df(data_s15_sun, 'sd', 'Taxi trips on sundays using sliding depth with winsize 15')\n",
    "show(fbplot_taxisv1_s15_sun)"
   ]
  },
  {
   "cell_type": "code",
   "execution_count": 6,
   "metadata": {},
   "outputs": [
    {
     "name": "stdout",
     "output_type": "stream",
     "text": [
      "(36, 365)\n",
      "(36, 182)\n"
     ]
    },
    {
     "name": "stderr",
     "output_type": "stream",
     "text": [
      "/home/pedro/anaconda3/lib/python3.6/site-packages/ipykernel_launcher.py:31: FutureWarning: Sorting because non-concatenation axis is not aligned. A future version\n",
      "of pandas will change to not sort by default.\n",
      "\n",
      "To accept the future behavior, pass 'sort=False'.\n",
      "\n",
      "To retain the current behavior and silence the warning, pass 'sort=True'.\n",
      "\n"
     ]
    },
    {
     "name": "stdout",
     "output_type": "stream",
     "text": [
      "(36, 53)\n",
      "(36, 5)\n",
      "DatetimeIndex(['2018-01-01', '2018-12-25', '2018-12-26', '2018-08-19',\n",
      "               '2018-12-30'],\n",
      "              dtype='datetime64[ns]', freq=None)\n"
     ]
    }
   ],
   "source": [
    "output_file('sdepth/fbplot_depth.html')\n",
    "data = prepare_data('../data/taxis_v1.csv', \"../outputs/taxis_v1_out.txt\",'01/01/2018','12/31/2018')\n",
    "fbplot_taxisv1 = functional_boxplot_from_df(data, 'omd', 'Taxi trips using modified depth')\n",
    "show(fbplot_taxisv1)"
   ]
  },
  {
   "cell_type": "code",
   "execution_count": 24,
   "metadata": {},
   "outputs": [
    {
     "name": "stdout",
     "output_type": "stream",
     "text": [
      "<bound method NDFrame.head of          0      1      2      3     4     5     6      7      8      9  ...  \\\n",
      "0    16458  18985  16561  12611  8726  4220  3407   3420   3634   4930  ...   \n",
      "1     3581   1724   1205    918  1214  2865  7049  10914  13731  13129  ...   \n",
      "2     4547   2614   1537   1144  1368  2687  7539  12073  15021  14828  ...   \n",
      "3     5356   2899   1908   1294  1386  2259  5172   6975   7567   6716  ...   \n",
      "4     3619   2161   1348   1016  1145  2276  6279  11079  13669  13145  ...   \n",
      "5    11282   8746   6675   4784  3405  1992  3043   4538   6657  10038  ...   \n",
      "6    11981   9662   7595   5726  3446  1760  2503   3526   5846   8789  ...   \n",
      "7     3968   2331   1671   1223  1479  3312  8132  13524  16322  15109  ...   \n",
      "8     6174   2927   1778   1181  1446  2845  8080  14274  17158  16396  ...   \n",
      "9     5470   3225   2002   1370  1439  2920  7979  14584  17588  15865  ...   \n",
      "10    6384   3515   2252   1490  1611  2895  8046  14668  17555  15867  ...   \n",
      "11    8866   5394   3346   2349  2081  3313  8111  14659  17471  16009  ...   \n",
      "12   13353  11223   9485   6438  4037  2186  3220   4727   7349  11265  ...   \n",
      "13   16127  13447  11137   8313  5111  2235  2564   4049   6442   9866  ...   \n",
      "14    7163   4667   3108   2213  2108  2155  4244   6196   9820  11287  ...   \n",
      "15    4415   2593   1464   1087  1384  3177  8593  15385  18752  17073  ...   \n",
      "16    5678   3196   2028   1383  1618  3085  8793  16120  18368  16265  ...   \n",
      "17    6738   3688   2240   1596  1626  3026  8710  16295  19325  17273  ...   \n",
      "18    9397   5624   3813   2532  2092  2966  7954  14852  18125  16948  ...   \n",
      "19   14446  11580   9512   6768  4217  2257  3097   4566   7766  11345  ...   \n",
      "20   15507  13792  11519   8444  5159  2189  2465   4029   5829   8596  ...   \n",
      "21    3797   2416   1505   1129  1441  2934  7927  13679  15906  14362  ...   \n",
      "22    4402   2548   1587   1131  1315  2931  8507  14248  17778  17064  ...   \n",
      "23    5544   3098   1926   1335  1480  3131  7897  14362  17536  16143  ...   \n",
      "24    7050   3978   2538   1610  1586  3133  8600  15445  18867  16840  ...   \n",
      "25    9990   5782   3816   2576  2200  3179  8161  14832  17847  16299  ...   \n",
      "26   15612  12815  10171   7432  4790  2340  3272   4833   8186  12055  ...   \n",
      "27   16623  14929  12467   9224  5670  2551  2500   3660   5825   9288  ...   \n",
      "28    4422   3064   2275   1829  1865  3250  8134  13484  15798  14485  ...   \n",
      "29    5198   2685   1607   1115  1378  3011  8508  15083  17690  15608  ...   \n",
      "..     ...    ...    ...    ...   ...   ...   ...    ...    ...    ...  ...   \n",
      "335  15172  13705  10802   7901  4789  2130  2482   4052   6727  10487  ...   \n",
      "336   4184   2085   1422   1062  1447  3040  8064  13268  15020  13812  ...   \n",
      "337   5314   2900   1729   1125  1441  2887  7804  14250  16008  14812  ...   \n",
      "338   7535   4063   2334   1450  1547  2857  7213  13978  17025  15612  ...   \n",
      "339   8405   4618   2673   1632  1753  3067  8165  15112  17051  15527  ...   \n",
      "340  11438   7134   4223   2630  2141  3099  7787  13943  16011  14998  ...   \n",
      "341  14621  11641   8555   5720  3691  2129  3153   5383   8541  12236  ...   \n",
      "342  14895  12433   9560   6582  4262  1926  2510   3810   6325   9765  ...   \n",
      "343   3886   2054   1380   1037  1362  3116  8079  13180  14991  13949  ...   \n",
      "344   5372   2853   1740   1047  1339  2881  7623  14150  16092  14771  ...   \n",
      "345   7954   4025   2344   1442  1451  3047  7792  14103  16436  15285  ...   \n",
      "346   9350   5260   3086   1919  1822  3098  8144  14296  16779  15719  ...   \n",
      "347  13517   9012   5305   3095  2520  3293  7682  13534  15260  14571  ...   \n",
      "348  15210  12645  10011   7151  4398  2236  3018   4552   7474  10878  ...   \n",
      "349  16569  14635  11988   9334  5135  2136  2686   3603   6259  10086  ...   \n",
      "350   3998   2191   1441   1044  1478  3213  7758  12856  14659  13345  ...   \n",
      "351   6350   3243   1889   1259  1413  2982  7857  13867  16004  15293  ...   \n",
      "352   8005   4207   2482   1679  1714  3046  8036  14380  16626  15339  ...   \n",
      "353   9130   5334   3245   1982  2026  3162  7766  13512  15921  15154  ...   \n",
      "354  10560   6757   4453   2804  2457  3379  8061  12202  15114  14355  ...   \n",
      "355  11000   8960   7426   5054  3658  2207  3042   4157   6213   9148  ...   \n",
      "356   8733   6944   5642   4575  3596  1825  2414   3358   4760   7538  ...   \n",
      "357   4311   2453   1645   1185  1260  1523  3256   4588   6245   8144  ...   \n",
      "358   5300   3622   2174   1416  1206   835  1515   2027   2534   3677  ...   \n",
      "359   3026   1559    938    719   846  1673  3810   5195   6943   8308  ...   \n",
      "360   4763   2712   1767   1288  1296  1882  4481   5751   7976   9317  ...   \n",
      "361   6360   4411   2848   2026  1666  2158  4993   6472   8606  10630  ...   \n",
      "362   9082   7022   5351   3977  2867  1752  2394   3269   4716   7261  ...   \n",
      "363   9517   7700   6396   4933  3424  1672  2159   2897   4287   6368  ...   \n",
      "364   5877   3875   2565   1806  1526  1680  3305   4393   6125   7036  ...   \n",
      "\n",
      "        14     15     16     17     18     19     20     21     22     23  \n",
      "0    12403  13256  12548  12748  11815  10449   8356   8850   7895   5389  \n",
      "1    14140  14315  14045  16015  17349  14390  12371  11812  10276   6590  \n",
      "2    15405  15111  14598  17020  18909  17495  14808  13841  12758   8382  \n",
      "3     5278   5106   5076   5782   6956   6711   6313   6524   6022   4907  \n",
      "4    14704  14753  13904  16597  18808  18878  16121  15078  16007  13848  \n",
      "5    15758  18087  17433  17253  18455  18123  13751  13398  14347  14860  \n",
      "6    15164  15118  15615  15071  14494  12027  10231   9162   7250   6204  \n",
      "7    14869  15844  14389  16191  17571  16142  14548  12938  11074   7564  \n",
      "8    15035  15798  14459  16970  19685  18151  17465  16966  14207   9194  \n",
      "9    15464  16036  14513  16666  19675  18714  17411  17336  15670  10243  \n",
      "10   16297  16236  15003  17488  20776  19788  18300  18247  17320  13612  \n",
      "11   19012  17017  13868  16566  19452  21340  16666  18446  17506  16872  \n",
      "12   16611  18510  18570  19468  20965  21435  16852  16789  17902  18359  \n",
      "13   17061  17350  17177  17086  17367  14758  14490  13098  11781   9584  \n",
      "14   15234  15877  15551  16912  17259  14930  12305  11995  11013   7766  \n",
      "15   17023  16828  15429  17580  19938  17948  16989  17312  14431   8965  \n",
      "16   15668  16059  14679  18130  20706  19757  18811  19400  16869  11217  \n",
      "17   17466  17745  16451  19073  21993  21269  19968  20617  19265  14241  \n",
      "18   17240  17172  15860  18477  21134  21411  17805  17244  17679  16741  \n",
      "19   14412  16141  14967  17252  18872  18542  15015  15059  16571  16637  \n",
      "20   15126  15397  14682  14094  14883  11557  10398  10514   8057   5796  \n",
      "21   15147  15281  14852  16190  18281  16695  15115  14638  12179   7770  \n",
      "22   14469  14851  15763  16820  19662  18610  17755  17583  15634   9647  \n",
      "23   16542  17806  15803  18879  21746  21202  20622  20804  18258  11988  \n",
      "24   17483  17843  16160  18664  22121  21598  20318  20884  19528  14652  \n",
      "25   17200  17393  16170  19874  22688  21999  19277  18337  19146  17761  \n",
      "26   16006  16528  16314  17537  18751  18823  14848  14749  16912  16842  \n",
      "27   14874  14679  14416  14121  13775  11578  10016   9455   8043   6817  \n",
      "28   14865  15371  14406  16093  18429  17299  15444  14702  12076   8104  \n",
      "29   16293  16072  15236  18455  21480  20622  19640  19535  16425  11062  \n",
      "..     ...    ...    ...    ...    ...    ...    ...    ...    ...    ...  \n",
      "335  15797  15701  14616  14867  14175  12783  11545  10275   8103   5939  \n",
      "336  15065  15134  14148  15856  18158  17018  16044  15990  14167   9485  \n",
      "337  15594  15927  13985  16976  18893  18153  17992  18506  16747  12701  \n",
      "338  16695  15943  13517  16036  18111  17990  18328  18475  16941  13379  \n",
      "339  16220  16026  13941  16380  18967  18373  18216  18628  17248  15298  \n",
      "340  16558  16145  14385  17732  20244  20551  17897  18280  18404  17204  \n",
      "341  17232  17290  14876  15665  17521  17502  14954  15338  16150  16541  \n",
      "342  16388  15687  14834  14973  14718  13308  11521  11205   9305   6229  \n",
      "343  14937  15713  14542  16945  19889  18820  16937  16999  14849   9708  \n",
      "344  15209  15449  13349  15801  18478  18056  18003  18592  16627  13541  \n",
      "345  16133  16129  13594  16458  19152  18519  18504  18943  17522  14510  \n",
      "346  16222  15398  13625  16238  18381  18395  18404  18730  18082  16168  \n",
      "347  16462  15385  13757  16939  19276  19887  18608  18691  18275  17156  \n",
      "348  16458  16319  14982  16150  18127  18416  15718  15207  16278  16657  \n",
      "349  17013  15197  13526  14701  15194  14625  12456  10752   8587   6029  \n",
      "350  15288  16191  14186  16648  18683  18033  16937  17027  15046  10339  \n",
      "351  16613  16867  14381  16932  19795  19245  19036  19451  17897  13252  \n",
      "352  16545  16063  14042  16079  19082  18607  18024  18586  17848  14192  \n",
      "353  17525  16123  14023  16189  18516  18836  17937  17575  16822  14517  \n",
      "354  15809  15722  14406  16381  17949  17306  13774  13589  14220  12828  \n",
      "355  15036  15278  14239  14473  14437  13934  11686  11319  12045  10625  \n",
      "356  12599  12972  12392  12009  11475   9751   8941   8484   7451   5811  \n",
      "357  12970  13986  12840  12242  11772   9917   8902   9004   8220   6725  \n",
      "358   8292   8494   7966   7758   7813   7443   7313   7740   6774   4875  \n",
      "359  12017  12473  11912  12045  12447  11171   9813  10056   9311   7212  \n",
      "360  13569  13948  12823  13356  14265  12514  11220  12126  11213   8493  \n",
      "361  13253  13844  12464  12551  12598  11817   9838   9975  10743   9368  \n",
      "362  12878  13931  12717  12529  13152  13057  11078  10671  11088  11340  \n",
      "363  11752  11912  11870  11878  11453  10710   9092   8950   8146   7166  \n",
      "364  14480  13303  12990  13033  14242  14869  14426  14083  10665   8284  \n",
      "\n",
      "[365 rows x 24 columns]>\n",
      "(38, 365)\n",
      "(38, 182)\n"
     ]
    },
    {
     "name": "stderr",
     "output_type": "stream",
     "text": [
      "/home/pedro/anaconda3/lib/python3.6/site-packages/ipykernel_launcher.py:33: FutureWarning: Sorting because non-concatenation axis is not aligned. A future version\n",
      "of pandas will change to not sort by default.\n",
      "\n",
      "To accept the future behavior, pass 'sort=False'.\n",
      "\n",
      "To retain the current behavior and silence the warning, pass 'sort=True'.\n",
      "\n"
     ]
    },
    {
     "name": "stdout",
     "output_type": "stream",
     "text": [
      "(38, 1)\n",
      "(38, 5)\n",
      "DatetimeIndex(['2018-07-04', '2018-12-25', '2018-11-22', '2018-03-21',\n",
      "               '2018-01-04'],\n",
      "              dtype='datetime64[ns]', freq=None)\n"
     ]
    }
   ],
   "source": [
    "output_file('sdepth/fbplot_sdepth_w7.html')\n",
    "data_s7 = prepare_data('../data/taxis_v1.csv', \"../outputs/taxis_v1_s7_out.txt\",'01/01/2018','12/31/2018')\n",
    "fbplot_taxisv1_s7 = functional_boxplot_from_df(data_s7, 'sd', 'Taxi trips using sliding depth with winsize 7')\n",
    "show(fbplot_taxisv1_s7)"
   ]
  },
  {
   "cell_type": "code",
   "execution_count": 12,
   "metadata": {},
   "outputs": [
    {
     "name": "stdout",
     "output_type": "stream",
     "text": [
      "(38, 365)\n",
      "(38, 182)\n"
     ]
    },
    {
     "name": "stderr",
     "output_type": "stream",
     "text": [
      "/home/pedro/anaconda3/lib/python3.6/site-packages/ipykernel_launcher.py:31: FutureWarning: Sorting because non-concatenation axis is not aligned. A future version\n",
      "of pandas will change to not sort by default.\n",
      "\n",
      "To accept the future behavior, pass 'sort=False'.\n",
      "\n",
      "To retain the current behavior and silence the warning, pass 'sort=True'.\n",
      "\n"
     ]
    },
    {
     "name": "stdout",
     "output_type": "stream",
     "text": [
      "(38, 12)\n",
      "(38, 5)\n",
      "DatetimeIndex(['2018-12-16', '2018-12-25', '2018-01-28', '2018-01-01',\n",
      "               '2018-02-25'],\n",
      "              dtype='datetime64[ns]', freq=None)\n"
     ]
    }
   ],
   "source": [
    "output_file('sdepth/fbplot_sdepth_w15.html')\n",
    "data_s15 = prepare_data('../data/taxis_v1.csv', \"../outputs/taxis_v1_s15_out.txt\",'01/01/2018','12/31/2018')\n",
    "fbplot_taxisv1_s15 = functional_boxplot_from_df(data_s15, 'sd', 'Taxi trips using sliding depth with winsize 15')\n",
    "show(fbplot_taxisv1_s15)"
   ]
  },
  {
   "cell_type": "code",
   "execution_count": 13,
   "metadata": {},
   "outputs": [
    {
     "name": "stdout",
     "output_type": "stream",
     "text": [
      "(38, 365)\n",
      "(38, 182)\n"
     ]
    },
    {
     "name": "stderr",
     "output_type": "stream",
     "text": [
      "/home/pedro/anaconda3/lib/python3.6/site-packages/ipykernel_launcher.py:31: FutureWarning: Sorting because non-concatenation axis is not aligned. A future version\n",
      "of pandas will change to not sort by default.\n",
      "\n",
      "To accept the future behavior, pass 'sort=False'.\n",
      "\n",
      "To retain the current behavior and silence the warning, pass 'sort=True'.\n",
      "\n"
     ]
    },
    {
     "name": "stdout",
     "output_type": "stream",
     "text": [
      "(38, 10)\n",
      "(38, 5)\n",
      "DatetimeIndex(['2018-01-01', '2018-12-25', '2018-07-04', '2018-01-28',\n",
      "               '2018-11-22'],\n",
      "              dtype='datetime64[ns]', freq=None)\n"
     ]
    }
   ],
   "source": [
    "output_file('sdepth/fbplot_sdepth_w31.html')\n",
    "data_s31 = prepare_data('../data/taxis_v1.csv', \"../outputs/taxis_v1_s31_out.txt\",'01/01/2018','12/31/2018')\n",
    "fbplot_taxisv1_s31 = functional_boxplot_from_df(data_s31, 'sd', 'Taxi trips using sliding depth with winsize 31')\n",
    "show(fbplot_taxisv1_s31)"
   ]
  },
  {
   "cell_type": "code",
   "execution_count": 14,
   "metadata": {},
   "outputs": [
    {
     "name": "stdout",
     "output_type": "stream",
     "text": [
      "(38, 365)\n",
      "(38, 182)\n"
     ]
    },
    {
     "name": "stderr",
     "output_type": "stream",
     "text": [
      "/home/pedro/anaconda3/lib/python3.6/site-packages/ipykernel_launcher.py:31: FutureWarning: Sorting because non-concatenation axis is not aligned. A future version\n",
      "of pandas will change to not sort by default.\n",
      "\n",
      "To accept the future behavior, pass 'sort=False'.\n",
      "\n",
      "To retain the current behavior and silence the warning, pass 'sort=True'.\n",
      "\n"
     ]
    },
    {
     "name": "stdout",
     "output_type": "stream",
     "text": [
      "(38, 28)\n",
      "(38, 5)\n",
      "DatetimeIndex(['2018-01-01', '2018-12-25', '2018-05-28', '2018-05-27',\n",
      "               '2018-09-02'],\n",
      "              dtype='datetime64[ns]', freq=None)\n"
     ]
    }
   ],
   "source": [
    "output_file('sdepth/fbplot_sdepth_w61.html')\n",
    "data_s61 = prepare_data('../data/taxis_v1.csv', \"../outputs/taxis_v1_s61_out.txt\",'01/01/2018','12/31/2018')\n",
    "fbplot_taxisv1_s61 = functional_boxplot_from_df(data_s61, 'sd', 'Taxi trips using sliding depth with winsize 61')\n",
    "show(fbplot_taxisv1_s61)"
   ]
  },
  {
   "cell_type": "markdown",
   "metadata": {},
   "source": [
    "# Plotting weekdays and weekends original depth"
   ]
  },
  {
   "cell_type": "code",
   "execution_count": 27,
   "metadata": {},
   "outputs": [
    {
     "name": "stdout",
     "output_type": "stream",
     "text": [
      "(36, 261)\n",
      "(36, 130)\n",
      "(36, 5)\n",
      "(36, 5)\n",
      "DatetimeIndex(['2018-01-01', '2018-04-03', '2018-04-19', '2018-05-31',\n",
      "               '2018-01-04'],\n",
      "              dtype='datetime64[ns]', freq=None)\n"
     ]
    },
    {
     "name": "stderr",
     "output_type": "stream",
     "text": [
      "/home/pedro/anaconda3/lib/python3.6/site-packages/ipykernel_launcher.py:31: FutureWarning: Sorting because non-concatenation axis is not aligned. A future version\n",
      "of pandas will change to not sort by default.\n",
      "\n",
      "To accept the future behavior, pass 'sort=False'.\n",
      "\n",
      "To retain the current behavior and silence the warning, pass 'sort=True'.\n",
      "\n"
     ]
    },
    {
     "name": "stdout",
     "output_type": "stream",
     "text": [
      "(36, 261)\n",
      "(36, 130)\n"
     ]
    },
    {
     "name": "stderr",
     "output_type": "stream",
     "text": [
      "/home/pedro/anaconda3/lib/python3.6/site-packages/ipykernel_launcher.py:31: FutureWarning: Sorting because non-concatenation axis is not aligned. A future version\n",
      "of pandas will change to not sort by default.\n",
      "\n",
      "To accept the future behavior, pass 'sort=False'.\n",
      "\n",
      "To retain the current behavior and silence the warning, pass 'sort=True'.\n",
      "\n"
     ]
    },
    {
     "name": "stdout",
     "output_type": "stream",
     "text": [
      "(36, 18)\n",
      "(36, 5)\n",
      "DatetimeIndex(['2018-01-01', '2018-03-20', '2018-04-19', '2018-12-25',\n",
      "               '2018-04-25'],\n",
      "              dtype='datetime64[ns]', freq=None)\n",
      "(36, 261)\n",
      "(36, 130)\n"
     ]
    },
    {
     "name": "stderr",
     "output_type": "stream",
     "text": [
      "/home/pedro/anaconda3/lib/python3.6/site-packages/ipykernel_launcher.py:31: FutureWarning: Sorting because non-concatenation axis is not aligned. A future version\n",
      "of pandas will change to not sort by default.\n",
      "\n",
      "To accept the future behavior, pass 'sort=False'.\n",
      "\n",
      "To retain the current behavior and silence the warning, pass 'sort=True'.\n",
      "\n"
     ]
    },
    {
     "name": "stdout",
     "output_type": "stream",
     "text": [
      "(36, 18)\n",
      "(36, 5)\n",
      "DatetimeIndex(['2018-01-01', '2018-03-20', '2018-04-19', '2018-12-25',\n",
      "               '2018-04-25'],\n",
      "              dtype='datetime64[ns]', freq=None)\n"
     ]
    }
   ],
   "source": [
    "fbplot_taxisv1_weekday_od = functional_boxplot_from_df(data_weekdays_taxi,'od','Taxi trips on weekdays using original depth')\n",
    "show(fbplot_taxisv1_weekday_od)\n",
    "fbplot_taxisv1_weekday_fd = functional_boxplot_from_df(data_weekdays_taxi,'fd','Taxi trips on weekdays using rank matrix depth')\n",
    "show(fbplot_taxisv1_weekday_fd)\n",
    "fbplot_taxisv1_weekday_td = functional_boxplot_from_df(data_weekdays_taxi,'td','Taxi trips on weekdays using t-digest depth')\n",
    "show(fbplot_taxisv1_weekday_td)\n"
   ]
  },
  {
   "cell_type": "code",
   "execution_count": 6,
   "metadata": {},
   "outputs": [
    {
     "name": "stderr",
     "output_type": "stream",
     "text": [
      "/home/pedro/anaconda3/lib/python3.6/site-packages/ipykernel_launcher.py:31: FutureWarning: Sorting because non-concatenation axis is not aligned. A future version\n",
      "of pandas will change to not sort by default.\n",
      "\n",
      "To accept the future behavior, pass 'sort=False'.\n",
      "\n",
      "To retain the current behavior and silence the warning, pass 'sort=True'.\n",
      "\n"
     ]
    },
    {
     "name": "stdout",
     "output_type": "stream",
     "text": [
      "(36, 20)\n",
      "(36, 5)\n",
      "DatetimeIndex(['2018-04-08', '2018-05-12', '2018-05-13', '2018-03-25',\n",
      "               '2018-05-19'],\n",
      "              dtype='datetime64[ns]', freq=None)\n"
     ]
    },
    {
     "name": "stderr",
     "output_type": "stream",
     "text": [
      "/home/pedro/anaconda3/lib/python3.6/site-packages/ipykernel_launcher.py:31: FutureWarning: Sorting because non-concatenation axis is not aligned. A future version\n",
      "of pandas will change to not sort by default.\n",
      "\n",
      "To accept the future behavior, pass 'sort=False'.\n",
      "\n",
      "To retain the current behavior and silence the warning, pass 'sort=True'.\n",
      "\n"
     ]
    },
    {
     "name": "stdout",
     "output_type": "stream",
     "text": [
      "(36, 12)\n",
      "(36, 5)\n",
      "DatetimeIndex(['2018-02-24', '2018-03-11', '2018-11-04', '2018-05-13',\n",
      "               '2018-02-10'],\n",
      "              dtype='datetime64[ns]', freq=None)\n"
     ]
    },
    {
     "name": "stderr",
     "output_type": "stream",
     "text": [
      "/home/pedro/anaconda3/lib/python3.6/site-packages/ipykernel_launcher.py:31: FutureWarning: Sorting because non-concatenation axis is not aligned. A future version\n",
      "of pandas will change to not sort by default.\n",
      "\n",
      "To accept the future behavior, pass 'sort=False'.\n",
      "\n",
      "To retain the current behavior and silence the warning, pass 'sort=True'.\n",
      "\n"
     ]
    },
    {
     "name": "stdout",
     "output_type": "stream",
     "text": [
      "(36, 12)\n",
      "(36, 5)\n",
      "DatetimeIndex(['2018-02-24', '2018-03-11', '2018-11-04', '2018-05-13',\n",
      "               '2018-02-10'],\n",
      "              dtype='datetime64[ns]', freq=None)\n"
     ]
    }
   ],
   "source": [
    "fbplot_taxisv1_weekend_od = functional_boxplot_from_df(data_weekends_taxi,'od','Taxi trips on weekends using original depth')\n",
    "show(fbplot_taxisv1_weekend_od)\n",
    "fbplot_taxisv1_weekend_fd = functional_boxplot_from_df(data_weekends_taxi,'fd','Taxi trips on weekends using rank matrix depth')\n",
    "show(fbplot_taxisv1_weekend_fd)\n",
    "fbplot_taxisv1_weekend_td = functional_boxplot_from_df(data_weekends_taxi,'td','Taxi trips on weekends using t-digest depth')\n",
    "show(fbplot_taxisv1_weekend_td)\n"
   ]
  },
  {
   "cell_type": "code",
   "execution_count": null,
   "metadata": {
    "collapsed": true
   },
   "outputs": [],
   "source": []
  },
  {
   "cell_type": "markdown",
   "metadata": {},
   "source": [
    "# Plotting weekdays and weekends modified depth"
   ]
  },
  {
   "cell_type": "code",
   "execution_count": 7,
   "metadata": {
    "scrolled": false
   },
   "outputs": [
    {
     "name": "stderr",
     "output_type": "stream",
     "text": [
      "/home/pedro/anaconda3/lib/python3.6/site-packages/ipykernel_launcher.py:31: FutureWarning: Sorting because non-concatenation axis is not aligned. A future version\n",
      "of pandas will change to not sort by default.\n",
      "\n",
      "To accept the future behavior, pass 'sort=False'.\n",
      "\n",
      "To retain the current behavior and silence the warning, pass 'sort=True'.\n",
      "\n"
     ]
    },
    {
     "name": "stdout",
     "output_type": "stream",
     "text": [
      "(36, 50)\n",
      "(36, 5)\n",
      "DatetimeIndex(['2018-01-01', '2018-12-25', '2018-12-26', '2018-01-04',\n",
      "               '2018-07-04'],\n",
      "              dtype='datetime64[ns]', freq=None)\n"
     ]
    },
    {
     "name": "stderr",
     "output_type": "stream",
     "text": [
      "/home/pedro/anaconda3/lib/python3.6/site-packages/ipykernel_launcher.py:31: FutureWarning: Sorting because non-concatenation axis is not aligned. A future version\n",
      "of pandas will change to not sort by default.\n",
      "\n",
      "To accept the future behavior, pass 'sort=False'.\n",
      "\n",
      "To retain the current behavior and silence the warning, pass 'sort=True'.\n",
      "\n"
     ]
    },
    {
     "name": "stdout",
     "output_type": "stream",
     "text": [
      "(36, 50)\n",
      "(36, 5)\n",
      "DatetimeIndex(['2018-01-01', '2018-12-25', '2018-12-26', '2018-01-04',\n",
      "               '2018-07-04'],\n",
      "              dtype='datetime64[ns]', freq=None)\n"
     ]
    },
    {
     "name": "stderr",
     "output_type": "stream",
     "text": [
      "/home/pedro/anaconda3/lib/python3.6/site-packages/ipykernel_launcher.py:31: FutureWarning: Sorting because non-concatenation axis is not aligned. A future version\n",
      "of pandas will change to not sort by default.\n",
      "\n",
      "To accept the future behavior, pass 'sort=False'.\n",
      "\n",
      "To retain the current behavior and silence the warning, pass 'sort=True'.\n",
      "\n"
     ]
    },
    {
     "name": "stdout",
     "output_type": "stream",
     "text": [
      "(36, 51)\n",
      "(36, 5)\n",
      "DatetimeIndex(['2018-01-01', '2018-12-25', '2018-12-26', '2018-01-04',\n",
      "               '2018-07-04'],\n",
      "              dtype='datetime64[ns]', freq=None)\n"
     ]
    }
   ],
   "source": [
    "fbplot_taxisv1_weekday_omd = functional_boxplot_from_df(data_weekdays_taxi,'omd','Taxi trips on weekdays using original modified depth')\n",
    "show(fbplot_taxisv1_weekday_omd)\n",
    "fbplot_taxisv1_weekday_fmd = functional_boxplot_from_df(data_weekdays_taxi,'fmd','Taxi trips on weekdays using rank matrix modified depth')\n",
    "show(fbplot_taxisv1_weekday_fmd)\n",
    "fbplot_taxisv1_weekday_tmd = functional_boxplot_from_df(data_weekdays_taxi,'tmd','Taxi trips on weekdays using t-digest modified depth')\n",
    "show(fbplot_taxisv1_weekday_tmd)\n"
   ]
  },
  {
   "cell_type": "code",
   "execution_count": 21,
   "metadata": {},
   "outputs": [
    {
     "name": "stderr",
     "output_type": "stream",
     "text": [
      "/home/pedro/anaconda3/lib/python3.6/site-packages/ipykernel_launcher.py:31: FutureWarning: Sorting because non-concatenation axis is not aligned. A future version\n",
      "of pandas will change to not sort by default.\n",
      "\n",
      "To accept the future behavior, pass 'sort=False'.\n",
      "\n",
      "To retain the current behavior and silence the warning, pass 'sort=True'.\n",
      "\n"
     ]
    },
    {
     "name": "stdout",
     "output_type": "stream",
     "text": [
      "(36, 51)\n",
      "(36, 5)\n",
      "DatetimeIndex(['2018-01-01', '2018-12-25', '2018-12-26', '2018-01-04',\n",
      "               '2018-07-04'],\n",
      "              dtype='datetime64[ns]', freq=None)\n"
     ]
    },
    {
     "name": "stderr",
     "output_type": "stream",
     "text": [
      "/home/pedro/anaconda3/lib/python3.6/site-packages/selenium/webdriver/phantomjs/webdriver.py:49: UserWarning: Selenium support for PhantomJS has been deprecated, please use headless versions of Chrome or Firefox instead\n",
      "  warnings.warn('Selenium support for PhantomJS has been deprecated, please use headless '\n"
     ]
    },
    {
     "data": {
      "text/plain": [
       "['fbplot_taxisv1_weekday_tmd.svg']"
      ]
     },
     "execution_count": 21,
     "metadata": {},
     "output_type": "execute_result"
    }
   ],
   "source": [
    "from bokeh.io import export_svgs\n",
    "fbplot_taxisv1_weekday_tmd = functional_boxplot_from_df(data_weekdays_taxi,'tmd','Taxi trips on weekdays using t-digest modified depth')\n",
    "fbplot_taxisv1_weekday_tmd.output_backend = 'svg'\n",
    "export_svgs(fbplot_taxisv1_weekday_tmd, filename=\"fbplot_taxisv1_weekday_tmd.svg\")"
   ]
  },
  {
   "cell_type": "code",
   "execution_count": 8,
   "metadata": {},
   "outputs": [
    {
     "name": "stderr",
     "output_type": "stream",
     "text": [
      "/home/pedro/anaconda3/lib/python3.6/site-packages/ipykernel_launcher.py:31: FutureWarning: Sorting because non-concatenation axis is not aligned. A future version\n",
      "of pandas will change to not sort by default.\n",
      "\n",
      "To accept the future behavior, pass 'sort=False'.\n",
      "\n",
      "To retain the current behavior and silence the warning, pass 'sort=True'.\n",
      "\n"
     ]
    },
    {
     "name": "stdout",
     "output_type": "stream",
     "text": [
      "(36, 11)\n",
      "(36, 5)\n",
      "DatetimeIndex(['2018-08-19', '2018-12-30', '2018-09-02', '2018-07-08',\n",
      "               '2018-08-26'],\n",
      "              dtype='datetime64[ns]', freq=None)\n"
     ]
    },
    {
     "name": "stderr",
     "output_type": "stream",
     "text": [
      "/home/pedro/anaconda3/lib/python3.6/site-packages/ipykernel_launcher.py:31: FutureWarning: Sorting because non-concatenation axis is not aligned. A future version\n",
      "of pandas will change to not sort by default.\n",
      "\n",
      "To accept the future behavior, pass 'sort=False'.\n",
      "\n",
      "To retain the current behavior and silence the warning, pass 'sort=True'.\n",
      "\n"
     ]
    },
    {
     "name": "stdout",
     "output_type": "stream",
     "text": [
      "(36, 11)\n",
      "(36, 5)\n",
      "DatetimeIndex(['2018-08-19', '2018-12-30', '2018-09-02', '2018-07-08',\n",
      "               '2018-08-26'],\n",
      "              dtype='datetime64[ns]', freq=None)\n"
     ]
    },
    {
     "name": "stderr",
     "output_type": "stream",
     "text": [
      "/home/pedro/anaconda3/lib/python3.6/site-packages/ipykernel_launcher.py:31: FutureWarning: Sorting because non-concatenation axis is not aligned. A future version\n",
      "of pandas will change to not sort by default.\n",
      "\n",
      "To accept the future behavior, pass 'sort=False'.\n",
      "\n",
      "To retain the current behavior and silence the warning, pass 'sort=True'.\n",
      "\n"
     ]
    },
    {
     "name": "stdout",
     "output_type": "stream",
     "text": [
      "(36, 11)\n",
      "(36, 5)\n",
      "DatetimeIndex(['2018-08-19', '2018-12-30', '2018-09-02', '2018-07-08',\n",
      "               '2018-08-26'],\n",
      "              dtype='datetime64[ns]', freq=None)\n"
     ]
    }
   ],
   "source": [
    "fbplot_taxisv1_weekend_omd = functional_boxplot_from_df(data_weekends_taxi,'omd','Taxi trips on weekends using original modified depth')\n",
    "show(fbplot_taxisv1_weekend_omd)\n",
    "fbplot_taxisv1_weekend_fmd = functional_boxplot_from_df(data_weekends_taxi,'fmd','Taxi trips on weekends using rank matrix modified depth')\n",
    "show(fbplot_taxisv1_weekend_fmd)\n",
    "fbplot_taxisv1_weekend_tmd = functional_boxplot_from_df(data_weekends_taxi,'tmd','Taxi trips on weekends using t-digest modified depth')\n",
    "show(fbplot_taxisv1_weekend_tmd)\n"
   ]
  },
  {
   "cell_type": "code",
   "execution_count": 185,
   "metadata": {},
   "outputs": [
    {
     "name": "stderr",
     "output_type": "stream",
     "text": [
      "/home/pedro/anaconda3/lib/python3.6/site-packages/ipykernel_launcher.py:28: FutureWarning: Sorting because non-concatenation axis is not aligned. A future version\n",
      "of pandas will change to not sort by default.\n",
      "\n",
      "To accept the future behavior, pass 'sort=False'.\n",
      "\n",
      "To retain the current behavior and silence the warning, pass 'sort=True'.\n",
      "\n",
      "/home/pedro/anaconda3/lib/python3.6/site-packages/ipykernel_launcher.py:28: FutureWarning: Sorting because non-concatenation axis is not aligned. A future version\n",
      "of pandas will change to not sort by default.\n",
      "\n",
      "To accept the future behavior, pass 'sort=False'.\n",
      "\n",
      "To retain the current behavior and silence the warning, pass 'sort=True'.\n",
      "\n"
     ]
    },
    {
     "name": "stdout",
     "output_type": "stream",
     "text": [
      "(36, 56)\n",
      "(36, 13)\n",
      "median: 2004-05-09\n",
      "(36, 139)\n",
      "(36, 64)\n",
      "median: 2004-04-20\n"
     ]
    }
   ],
   "source": [
    "fbplot_aqv1_weekend = functional_boxplot_from_df(data_weekends_airquality,'od')\n",
    "fbplot_aqv1_weekday = functional_boxplot_from_df(data_weekdays_airquality,'od')\n"
   ]
  },
  {
   "cell_type": "code",
   "execution_count": 186,
   "metadata": {
    "collapsed": true
   },
   "outputs": [],
   "source": [
    "show(fbplot_aqv1_weekday)\n",
    "show(fbplot_aqv1_weekend)"
   ]
  },
  {
   "cell_type": "markdown",
   "metadata": {},
   "source": [
    "# Tests and sandbox"
   ]
  },
  {
   "cell_type": "code",
   "execution_count": null,
   "metadata": {
    "collapsed": true
   },
   "outputs": [],
   "source": [
    "def get_color_from_depth(depth):\n",
    "    '''\n",
    "    if depth < 0.270425: return '#fef0d9'\n",
    "    if depth < 0.353502: return '#fdcc8a'\n",
    "    '''\n",
    "    if depth < 0.074495: return '#fef0d9'\n",
    "    else: return '#fdcc8a' \n",
    "\n",
    "\n",
    "data_outputs['color'] = data_outputs['td'].map(lambda x: get_color_from_depth(x))"
   ]
  },
  {
   "cell_type": "code",
   "execution_count": 9,
   "metadata": {
    "collapsed": true
   },
   "outputs": [],
   "source": [
    "p = figure(x_axis_type=\"datetime\", plot_width=950, title = \"Band plot\")\n",
    "#p.xaxis.major_label_orientation = pi/4\n",
    "p.xaxis.axis_label = \"X\"\n",
    "p.xaxis.axis_label_text_font_style='normal'\n",
    "p.yaxis.axis_label = \"Y\"\n",
    "p.yaxis.axis_label_text_font_style='normal'\n",
    "p.grid.grid_line_alpha=0.3\n",
    "\n",
    "# Values to be plotted\n",
    "upper_band = np.array([30,  32, 34, 35, 35, 33, 32, 31, 30])\n",
    "lower_band = np.array([25,  27, 30, 31, 32, 30, 30, 29, 28])\n",
    "x          = np.array([1,   2,  3,  4,  5,  6,  7,  8,  9])\n",
    "\n",
    "# Bands are drawn as patches. That is, a polygon specified by a series of 2D points\n",
    "# Because points are specified in clockwise order, the lower band needs to be reverse (Hence the [::-1])\n",
    "xs = np.concatenate([x, x[::-1]])\n",
    "ys = np.concatenate([upper_band, lower_band[::-1]])\n",
    "\n",
    "# Draw the area patch without border\n",
    "p.patch(x=xs, y=ys, fill_alpha=0.3, line_alpha=0, legend=\"Band\")\n",
    "\n",
    "# Draw the respective lines\n",
    "p.line(x, upper_band, line_alpha=0.8)\n",
    "p.line(x, lower_band, line_alpha=0.8)\n",
    "\n",
    "show(p)"
   ]
  },
  {
   "cell_type": "code",
   "execution_count": 25,
   "metadata": {},
   "outputs": [
    {
     "data": {
      "text/html": [
       "<div>\n",
       "<style scoped>\n",
       "    .dataframe tbody tr th:only-of-type {\n",
       "        vertical-align: middle;\n",
       "    }\n",
       "\n",
       "    .dataframe tbody tr th {\n",
       "        vertical-align: top;\n",
       "    }\n",
       "\n",
       "    .dataframe thead th {\n",
       "        text-align: right;\n",
       "    }\n",
       "</style>\n",
       "<table border=\"1\" class=\"dataframe\">\n",
       "  <thead>\n",
       "    <tr style=\"text-align: right;\">\n",
       "      <th></th>\n",
       "      <th>A</th>\n",
       "      <th>B</th>\n",
       "      <th>C</th>\n",
       "      <th>D</th>\n",
       "      <th>MAX</th>\n",
       "      <th>MIN</th>\n",
       "    </tr>\n",
       "  </thead>\n",
       "  <tbody>\n",
       "    <tr>\n",
       "      <th>0</th>\n",
       "      <td>0.444939</td>\n",
       "      <td>0.407554</td>\n",
       "      <td>0.460148</td>\n",
       "      <td>0.465239</td>\n",
       "      <td>1.0</td>\n",
       "      <td>0.5</td>\n",
       "    </tr>\n",
       "    <tr>\n",
       "      <th>1</th>\n",
       "      <td>0.462691</td>\n",
       "      <td>0.016545</td>\n",
       "      <td>0.850445</td>\n",
       "      <td>0.817744</td>\n",
       "      <td>1.0</td>\n",
       "      <td>0.5</td>\n",
       "    </tr>\n",
       "    <tr>\n",
       "      <th>2</th>\n",
       "      <td>0.777962</td>\n",
       "      <td>0.757983</td>\n",
       "      <td>0.934829</td>\n",
       "      <td>0.831104</td>\n",
       "      <td>1.0</td>\n",
       "      <td>0.5</td>\n",
       "    </tr>\n",
       "    <tr>\n",
       "      <th>3</th>\n",
       "      <td>0.879891</td>\n",
       "      <td>0.926879</td>\n",
       "      <td>0.721535</td>\n",
       "      <td>0.117642</td>\n",
       "      <td>1.0</td>\n",
       "      <td>0.5</td>\n",
       "    </tr>\n",
       "    <tr>\n",
       "      <th>4</th>\n",
       "      <td>0.145906</td>\n",
       "      <td>0.199844</td>\n",
       "      <td>0.437564</td>\n",
       "      <td>0.100702</td>\n",
       "      <td>1.0</td>\n",
       "      <td>0.5</td>\n",
       "    </tr>\n",
       "    <tr>\n",
       "      <th>5</th>\n",
       "      <td>0.278735</td>\n",
       "      <td>0.609862</td>\n",
       "      <td>0.085823</td>\n",
       "      <td>0.836997</td>\n",
       "      <td>1.0</td>\n",
       "      <td>0.5</td>\n",
       "    </tr>\n",
       "    <tr>\n",
       "      <th>6</th>\n",
       "      <td>0.739635</td>\n",
       "      <td>0.866059</td>\n",
       "      <td>0.691271</td>\n",
       "      <td>0.377185</td>\n",
       "      <td>1.0</td>\n",
       "      <td>0.5</td>\n",
       "    </tr>\n",
       "    <tr>\n",
       "      <th>7</th>\n",
       "      <td>0.225146</td>\n",
       "      <td>0.435280</td>\n",
       "      <td>0.700900</td>\n",
       "      <td>0.700946</td>\n",
       "      <td>1.0</td>\n",
       "      <td>0.5</td>\n",
       "    </tr>\n",
       "    <tr>\n",
       "      <th>8</th>\n",
       "      <td>0.796487</td>\n",
       "      <td>0.018688</td>\n",
       "      <td>0.700566</td>\n",
       "      <td>0.900749</td>\n",
       "      <td>1.0</td>\n",
       "      <td>0.5</td>\n",
       "    </tr>\n",
       "    <tr>\n",
       "      <th>9</th>\n",
       "      <td>0.764869</td>\n",
       "      <td>0.253200</td>\n",
       "      <td>0.548054</td>\n",
       "      <td>0.778883</td>\n",
       "      <td>1.0</td>\n",
       "      <td>0.5</td>\n",
       "    </tr>\n",
       "  </tbody>\n",
       "</table>\n",
       "</div>"
      ],
      "text/plain": [
       "          A         B         C         D  MAX  MIN\n",
       "0  0.444939  0.407554  0.460148  0.465239  1.0  0.5\n",
       "1  0.462691  0.016545  0.850445  0.817744  1.0  0.5\n",
       "2  0.777962  0.757983  0.934829  0.831104  1.0  0.5\n",
       "3  0.879891  0.926879  0.721535  0.117642  1.0  0.5\n",
       "4  0.145906  0.199844  0.437564  0.100702  1.0  0.5\n",
       "5  0.278735  0.609862  0.085823  0.836997  1.0  0.5\n",
       "6  0.739635  0.866059  0.691271  0.377185  1.0  0.5\n",
       "7  0.225146  0.435280  0.700900  0.700946  1.0  0.5\n",
       "8  0.796487  0.018688  0.700566  0.900749  1.0  0.5\n",
       "9  0.764869  0.253200  0.548054  0.778883  1.0  0.5"
      ]
     },
     "execution_count": 25,
     "metadata": {},
     "output_type": "execute_result"
    }
   ],
   "source": [
    "np.random.seed([3,1415])\n",
    "df = pd.DataFrame(np.random.rand(10, 4), columns=list('ABCD'))\n",
    "df['MAX'] = np.ones(10)\n",
    "df['MIN'] = [0.5] * 10\n",
    "df"
   ]
  },
  {
   "cell_type": "code",
   "execution_count": 36,
   "metadata": {
    "scrolled": false
   },
   "outputs": [
    {
     "data": {
      "text/html": [
       "<div>\n",
       "<style scoped>\n",
       "    .dataframe tbody tr th:only-of-type {\n",
       "        vertical-align: middle;\n",
       "    }\n",
       "\n",
       "    .dataframe tbody tr th {\n",
       "        vertical-align: top;\n",
       "    }\n",
       "\n",
       "    .dataframe thead th {\n",
       "        text-align: right;\n",
       "    }\n",
       "</style>\n",
       "<table border=\"1\" class=\"dataframe\">\n",
       "  <thead>\n",
       "    <tr style=\"text-align: right;\">\n",
       "      <th></th>\n",
       "      <th>A</th>\n",
       "      <th>C</th>\n",
       "      <th>D</th>\n",
       "    </tr>\n",
       "  </thead>\n",
       "  <tbody>\n",
       "    <tr>\n",
       "      <th>0</th>\n",
       "      <td>0.444939</td>\n",
       "      <td>0.460148</td>\n",
       "      <td>0.465239</td>\n",
       "    </tr>\n",
       "    <tr>\n",
       "      <th>1</th>\n",
       "      <td>0.462691</td>\n",
       "      <td>0.850445</td>\n",
       "      <td>0.817744</td>\n",
       "    </tr>\n",
       "    <tr>\n",
       "      <th>2</th>\n",
       "      <td>0.777962</td>\n",
       "      <td>0.934829</td>\n",
       "      <td>0.831104</td>\n",
       "    </tr>\n",
       "    <tr>\n",
       "      <th>3</th>\n",
       "      <td>0.879891</td>\n",
       "      <td>0.721535</td>\n",
       "      <td>0.117642</td>\n",
       "    </tr>\n",
       "    <tr>\n",
       "      <th>4</th>\n",
       "      <td>0.145906</td>\n",
       "      <td>0.437564</td>\n",
       "      <td>0.100702</td>\n",
       "    </tr>\n",
       "    <tr>\n",
       "      <th>5</th>\n",
       "      <td>0.278735</td>\n",
       "      <td>0.085823</td>\n",
       "      <td>0.836997</td>\n",
       "    </tr>\n",
       "    <tr>\n",
       "      <th>6</th>\n",
       "      <td>0.739635</td>\n",
       "      <td>0.691271</td>\n",
       "      <td>0.377185</td>\n",
       "    </tr>\n",
       "    <tr>\n",
       "      <th>7</th>\n",
       "      <td>0.225146</td>\n",
       "      <td>0.700900</td>\n",
       "      <td>0.700946</td>\n",
       "    </tr>\n",
       "    <tr>\n",
       "      <th>8</th>\n",
       "      <td>0.796487</td>\n",
       "      <td>0.700566</td>\n",
       "      <td>0.900749</td>\n",
       "    </tr>\n",
       "    <tr>\n",
       "      <th>9</th>\n",
       "      <td>0.764869</td>\n",
       "      <td>0.548054</td>\n",
       "      <td>0.778883</td>\n",
       "    </tr>\n",
       "  </tbody>\n",
       "</table>\n",
       "</div>"
      ],
      "text/plain": [
       "          A         C         D\n",
       "0  0.444939  0.460148  0.465239\n",
       "1  0.462691  0.850445  0.817744\n",
       "2  0.777962  0.934829  0.831104\n",
       "3  0.879891  0.721535  0.117642\n",
       "4  0.145906  0.437564  0.100702\n",
       "5  0.278735  0.085823  0.836997\n",
       "6  0.739635  0.691271  0.377185\n",
       "7  0.225146  0.700900  0.700946\n",
       "8  0.796487  0.700566  0.900749\n",
       "9  0.764869  0.548054  0.778883"
      ]
     },
     "execution_count": 36,
     "metadata": {},
     "output_type": "execute_result"
    }
   ],
   "source": [
    "aux = pd.DataFrame()\n",
    "df['B'] = ([0.8]*10)\n",
    "df['A'] = \n",
    "for col in df.columns:\n",
    "    if col != 'MAX' and col != 'MIN':\n",
    "        if (df[col] > df['MAX']).any() or (df[col] < df['MIN']).any(): \n",
    "            aux = pd.concat([aux,df[col]],axis=1)\n",
    "aux"
   ]
  },
  {
   "cell_type": "code",
   "execution_count": 8,
   "metadata": {
    "collapsed": true
   },
   "outputs": [],
   "source": [
    "from bokeh.palettes import Spectral11\n",
    "data=[[4,9,3],[11,2,7],[6,8,10],[12,5,1]]\n",
    "toy_df = pd.DataFrame(data=data, columns = ('a', 'b' ,'c'))   \n",
    "\n",
    "numlines=len(toy_df.columns)\n",
    "mypalette=Spectral11[0:numlines]\n",
    "\n",
    "p = figure(width=700, height=500, x_axis_type=\"datetime\") \n",
    "p.multi_line(xs=[toy_df.index.values]*numlines,\n",
    "                ys=[toy_df[name].values for name in toy_df],\n",
    "                line_color=mypalette,\n",
    "                line_width=5)\n",
    "show(p)"
   ]
  },
  {
   "cell_type": "code",
   "execution_count": 67,
   "metadata": {},
   "outputs": [
    {
     "name": "stderr",
     "output_type": "stream",
     "text": [
      "/home/pedro/anaconda3/lib/python3.6/site-packages/ipykernel_launcher.py:1: FutureWarning: Creating a DatetimeIndex by passing range endpoints is deprecated.  Use `pandas.date_range` instead.\n",
      "  \"\"\"Entry point for launching an IPython kernel.\n"
     ]
    }
   ],
   "source": [
    "toy_df = pd.DataFrame(data=np.random.rand(5,3), columns = ('a', 'b' ,'c'), index = pd.DatetimeIndex(start='01-01-2019',periods=5, freq='d'))   \n",
    "\n",
    "numlines=len(toy_df.columns)\n",
    "mypalette=Spectral11[0:numlines]\n",
    "\n",
    "p = figure(width=1000, height=800, x_axis_type=\"datetime\") \n",
    "p.multi_line(xs=[toy_df.index.values]*numlines,\n",
    "                ys=[toy_df[name].values for name in toy_df],\n",
    "                line_color=mypalette,\n",
    "                line_width=5)\n",
    "\n",
    "p.xaxis.major_label_text_font_size = \"18pt\"\n",
    "p.xaxis.formatter = DatetimeTickFormatter(days=\"%H:%M\",hours=\"%H:%M\")\n",
    "p.yaxis.major_label_text_font_size = \"18pt\"\n",
    "\n",
    "show(p)"
   ]
  },
  {
   "cell_type": "code",
   "execution_count": null,
   "metadata": {
    "collapsed": true
   },
   "outputs": [],
   "source": []
  }
 ],
 "metadata": {
  "kernelspec": {
   "display_name": "Python 3",
   "language": "python",
   "name": "python3"
  },
  "language_info": {
   "codemirror_mode": {
    "name": "ipython",
    "version": 3
   },
   "file_extension": ".py",
   "mimetype": "text/x-python",
   "name": "python",
   "nbconvert_exporter": "python",
   "pygments_lexer": "ipython3",
   "version": "3.6.9"
  }
 },
 "nbformat": 4,
 "nbformat_minor": 2
}
