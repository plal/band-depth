{
 "cells": [
  {
   "cell_type": "code",
   "execution_count": 1,
   "metadata": {},
   "outputs": [],
   "source": [
    "import pandas as pd\n",
    "import numpy as np\n",
    "from bokeh.plotting import figure, show, output_file\n",
    "from bokeh.models import Band, ColumnDataSource, HoverTool, DatetimeTickFormatter\n",
    "from bokeh.models.annotations import Title"
   ]
  },
  {
   "cell_type": "code",
   "execution_count": 2,
   "metadata": {},
   "outputs": [],
   "source": [
    "import random\n",
    "\n",
    "def plot_lines(data_file, output_file, depth_type, start_date, end_date, num_outliers, use_top50=False):\n",
    "    data = pd.read_csv(data_file)\n",
    "    data = data.set_index(pd.date_range(start=start_date, end=end_date).date)\n",
    "    data = data.transpose()\n",
    "    data = data.set_index(pd.date_range(start=start_date, periods=24, freq='H').time)\n",
    "\n",
    "    data_outputs = pd.read_csv(output_file).set_index(pd.date_range(start=start_date, end=end_date).date)\n",
    "\n",
    "    data_outputs = data_outputs.transpose()\n",
    "\n",
    "    data_final = pd.concat([data,data_outputs])\n",
    "\n",
    "    data_final = data_final.sort_values(by=depth_type,axis=1)\n",
    "    \n",
    "    data_ordered = data_final\n",
    "    \n",
    "    color_top50 = [\"#fbb4b9\"] * (data_ordered.shape[1] - (num_outliers+1))\n",
    "    color_median = [\"Blue\"]\n",
    "    color_outliers = [\"Red\"] * num_outliers\n",
    "    color_list = color_top50 + color_outliers + color_median\n",
    "    '''\n",
    "    color_list = []\n",
    "    for i in range(data_ordered.shape[1]):\n",
    "      color_list.append(\"#{:06x}\".format(random.randint(0, 0xFFFFFF)))\n",
    "    '''\n",
    "    \n",
    "    alpha_list = [0.5] * data_final.shape[1]\n",
    "    alpha_list[0:num_outliers] = [1] * num_outliers\n",
    "    alpha_list[len(alpha_list)-1] = 1\n",
    "\n",
    "    numlines = len(data_ordered.columns)\n",
    "\n",
    "    p = figure(width=1000, height=800, x_axis_type=\"datetime\") \n",
    "    p.multi_line(xs=[data_ordered.index.values]*numlines,\n",
    "                 ys=[data_ordered[name].values for name in data_ordered.iloc[0:24]],\n",
    "                 line_color=color_list,\n",
    "                 line_width=5)\n",
    "    \n",
    "    p.xaxis.major_label_text_font_size = \"18pt\"\n",
    "    p.xaxis.formatter = DatetimeTickFormatter(days=\"%H:%M\",hours=\"%H:%M\")\n",
    "    p.yaxis.major_label_text_font_size = \"18pt\"\n",
    "    \n",
    "    return p"
   ]
  },
  {
   "cell_type": "code",
   "execution_count": 4,
   "metadata": {
    "collapsed": true
   },
   "outputs": [],
   "source": [
    "output_file('taxis_v3_top50.html')\n",
    "plot_taxis_v3 = plot_lines('../data/taxis_v3.csv',\"../outputs/taxis_v3_out.txt\",'tmd','1/1/2014','12/31/2018', 20, use_top50=False)\n",
    "show(plot_taxis_v3)"
   ]
  },
  {
   "cell_type": "code",
   "execution_count": 53,
   "metadata": {},
   "outputs": [
    {
     "name": "stdout",
     "output_type": "stream",
     "text": [
      "(36, 1826)\n"
     ]
    }
   ],
   "source": [
    "output_file('taxis_v3_full.html')\n",
    "plot_taxis_v3 = plot_lines('../data/taxis_v3.csv',\"../outputs/taxis_v3_out.txt\",'tmd','1/1/2014','12/31/2018', 20)\n",
    "show(plot_taxis_v3)"
   ]
  },
  {
   "cell_type": "code",
   "execution_count": 54,
   "metadata": {},
   "outputs": [
    {
     "name": "stdout",
     "output_type": "stream",
     "text": [
      "(36, 568)\n"
     ]
    }
   ],
   "source": [
    "output_file('taxis_v2_top50.html')\n",
    "plot_taxis_v2 = plot_lines('../data/taxis_v2.csv',\"../outputs/taxis_v2_out.txt\",'tmd','1/1/2016','12/31/2018', 20, use_top50=True)\n",
    "show(plot_taxis_v2)"
   ]
  },
  {
   "cell_type": "code",
   "execution_count": 55,
   "metadata": {},
   "outputs": [
    {
     "name": "stdout",
     "output_type": "stream",
     "text": [
      "(36, 1096)\n"
     ]
    }
   ],
   "source": [
    "output_file('taxis_v2_full.html')\n",
    "plot_taxis_v2 = plot_lines('../data/taxis_v2.csv',\"../outputs/taxis_v2_out.txt\",'tmd','1/1/2016','12/31/2018', 20)\n",
    "show(plot_taxis_v2)"
   ]
  },
  {
   "cell_type": "code",
   "execution_count": 56,
   "metadata": {},
   "outputs": [
    {
     "name": "stdout",
     "output_type": "stream",
     "text": [
      "(36, 203)\n"
     ]
    }
   ],
   "source": [
    "output_file('taxis_v1_top50.html')\n",
    "plot_taxis_v1 = plot_lines('../data/taxis_v1.csv',\"../outputs/taxis_v1_out.txt\",'tmd','1/1/2018','12/31/2018', 20, use_top50=True)\n",
    "show(plot_taxis_v1)"
   ]
  },
  {
   "cell_type": "code",
   "execution_count": 30,
   "metadata": {
    "collapsed": true,
    "scrolled": true
   },
   "outputs": [],
   "source": [
    "output_file('taxis_v1_full.html')\n",
    "plot_taxis_v1 = plot_lines('../data/taxis_v1.csv',\"../outputs/taxis_v1_out.txt\",'td','1/1/2018','12/31/2018', 20)\n",
    "show(plot_taxis_v1)"
   ]
  },
  {
   "cell_type": "code",
   "execution_count": 31,
   "metadata": {
    "collapsed": true,
    "scrolled": true
   },
   "outputs": [],
   "source": [
    "output_file('taxis_v1_sliding.html')\n",
    "plot_taxis_v1 = plot_lines('../data/taxis_v1.csv',\"../outputs/taxis_v1_sliding_out.txt\",'sd','1/1/2018','12/31/2018', 20)\n",
    "show(plot_taxis_v1)"
   ]
  },
  {
   "cell_type": "code",
   "execution_count": 58,
   "metadata": {},
   "outputs": [
    {
     "name": "stdout",
     "output_type": "stream",
     "text": [
      "(36, 216)\n"
     ]
    }
   ],
   "source": [
    "output_file('airquality_v1_top50.html')\n",
    "plot_airquality_v1 = plot_lines('../data/airquality_v1.csv',\"../outputs/airquality_v1_out.txt\",'fd','03/10/2004','04/04/2005',20, use_top50=True)\n",
    "show(plot_airquality_v1)"
   ]
  },
  {
   "cell_type": "code",
   "execution_count": 59,
   "metadata": {},
   "outputs": [
    {
     "name": "stdout",
     "output_type": "stream",
     "text": [
      "(36, 391)\n"
     ]
    }
   ],
   "source": [
    "output_file('airquality_v1_full.html')\n",
    "plot_airquality_v1 = plot_lines('../data/airquality_v1.csv',\"../outputs/airquality_v1_out.txt\",'fd','03/10/2004','04/04/2005',20)\n",
    "show(plot_airquality_v1)"
   ]
  },
  {
   "cell_type": "markdown",
   "metadata": {},
   "source": [
    "# Functional Boxplot"
   ]
  },
  {
   "cell_type": "code",
   "execution_count": 3,
   "metadata": {},
   "outputs": [],
   "source": [
    "def prepare_data(data_file, output_file, start_date, end_date, index_days=None):\n",
    "    data = pd.read_csv(data_file)\n",
    "    if index_days:\n",
    "        print(a)\n",
    "    else:\n",
    "        data = data.set_index(pd.date_range(start=start_date, end=end_date).date)\n",
    "    data = data.transpose()\n",
    "    data = data.set_index(pd.date_range(start=start_date, periods=24, freq='H').time)\n",
    "\n",
    "    data_outputs = pd.read_csv(output_file).set_index(pd.date_range(start=start_date, end=end_date).date)\n",
    "    data_outputs = data_outputs.transpose()\n",
    "\n",
    "    data_final   = pd.concat([data,data_outputs])\n",
    "    return data_final\n",
    "\n",
    "def get_envelopes(data_top50):\n",
    "    df_max = data_top50.max(axis=1)\n",
    "    df_min = data_top50.min(axis=1)\n",
    "    \n",
    "    iqr = df_max - df_min\n",
    "    mid = (df_max + df_min)//2\n",
    "    out_top = mid + (0.75*iqr)\n",
    "    out_bot = mid - (0.75*iqr)\n",
    "    \n",
    "    return pd.concat({'top':df_max,'bot':df_min,'out_top':out_top,'out_bot':out_bot},axis=1)\n",
    "\n",
    "def get_outliers(raw_outliers, data_envelopes):\n",
    "    data_outliers = pd.DataFrame()\n",
    "    for col in raw_outliers.columns:\n",
    "        if (raw_outliers[col][:24] > data_envelopes['out_top'][:24]).any() or (raw_outliers[col][:24] < data_envelopes['out_bot'][:24]).any():\n",
    "            data_outliers = pd.concat([data_outliers,raw_outliers[col]],axis=1)\n",
    "    return data_outliers\n",
    "\n",
    "def functional_boxplot(data_file, output_file, start_date, end_date, depth_type):\n",
    "\n",
    "    data_final   = prepare_data(data_file, output_file, start_date, end_date)\n",
    "    data_final   = data_final.sort_values(by=depth_type,axis=1)\n",
    "    \n",
    "    data_median    = data_final.iloc[:,data_final.shape[1]-1]\n",
    "    data_top50     = data_final.iloc[:,(data_final.shape[1]//2):data_final.shape[1]-1]\n",
    "    data_envelopes = get_envelopes(data_top50)\n",
    "    '''\n",
    "    raw_outliers   = data_final.iloc[:,:(data_final.shape[1]//2)]\n",
    "    data_outliers  = get_outliers(raw_outliers,data_envelopes)\n",
    "    print(raw_outliers.shape)\n",
    "    print(data_outliers.shape)\n",
    "    '''\n",
    "    data_ordered   = pd.concat([data_envelopes,data_median],axis=1)\n",
    "\n",
    "    color_list = [\"#f768a1\",\"black\",\"black\",\"#f768a1\"]+[\"blue\"]\n",
    "    alpha_list = [1.0]*4 + [1.0]\n",
    "    \n",
    "    numlines = len(data_ordered.columns)\n",
    "\n",
    "    p = figure(width=1000, height=800, x_axis_type=\"datetime\") \n",
    "    \n",
    "    upper_band = np.array(data_envelopes['top'].iloc[0:24])\n",
    "    lower_band = np.array(data_envelopes['bot'].iloc[0:24])\n",
    "    x          = np.array(data_ordered.index[0:24])\n",
    "    \n",
    "    xs = np.concatenate([x, x[::-1]])\n",
    "    ys = np.concatenate([lower_band, upper_band[::-1]])\n",
    "    \n",
    "    p.patch(x=xs, y=ys, fill_color=\"#f768a1\", fill_alpha=0.8, line_alpha=0, legend=\"IQR\")\n",
    "    \n",
    "    p.multi_line(xs=[data_ordered.index.values]*numlines,\n",
    "                 ys=[data_ordered[name].values for name in data_ordered.iloc[0:24]],\n",
    "                 line_color=color_list,\n",
    "                 line_width=5,\n",
    "                 alpha=alpha_list)\n",
    "    \n",
    "    p.xaxis.major_label_text_font_size = \"18pt\"\n",
    "    p.xaxis.formatter = DatetimeTickFormatter(days=\"%H:%M\",hours=\"%H:%M\")\n",
    "    p.yaxis.major_label_text_font_size = \"18pt\"\n",
    "\n",
    "    return p"
   ]
  },
  {
   "cell_type": "markdown",
   "metadata": {},
   "source": [
    "## Plot 1 year of taxis data"
   ]
  },
  {
   "cell_type": "code",
   "execution_count": 7,
   "metadata": {
    "collapsed": true,
    "scrolled": true
   },
   "outputs": [],
   "source": [
    "output_file('fbplot_taxisv1.html')\n",
    "fbplot_taxisv1 = functional_boxplot('../data/taxis_v1.csv',\"../outputs/taxis_v1_out.txt\",'01/01/2018','12/31/2018','omd')\n",
    "show(fbplot_taxisv1)"
   ]
  },
  {
   "cell_type": "code",
   "execution_count": 6,
   "metadata": {
    "collapsed": true,
    "scrolled": true
   },
   "outputs": [],
   "source": [
    "output_file('fbplot_taxisv1_s.html')\n",
    "fbplot_taxisv1_s = functional_boxplot('../data/taxis_v1.csv',\"../outputs/taxis_v1_sliding_out.txt\",'01/01/2018','12/31/2018','sd')\n",
    "show(fbplot_taxisv1_s)"
   ]
  },
  {
   "cell_type": "markdown",
   "metadata": {},
   "source": [
    "## Plot 1 year of air quality data"
   ]
  },
  {
   "cell_type": "code",
   "execution_count": 152,
   "metadata": {},
   "outputs": [
    {
     "name": "stderr",
     "output_type": "stream",
     "text": [
      "/home/pedro/anaconda3/lib/python3.6/site-packages/ipykernel_launcher.py:28: FutureWarning: Sorting because non-concatenation axis is not aligned. A future version\n",
      "of pandas will change to not sort by default.\n",
      "\n",
      "To accept the future behavior, pass 'sort=False'.\n",
      "\n",
      "To retain the current behavior and silence the warning, pass 'sort=True'.\n",
      "\n"
     ]
    },
    {
     "name": "stdout",
     "output_type": "stream",
     "text": [
      "(36, 195)\n",
      "(36, 100)\n"
     ]
    }
   ],
   "source": [
    "output_file('fbplot_airquality_v1.html')\n",
    "fbplot_taxisv1 = functional_boxplot('../data/airquality_v1.csv',\"../outputs/airquality_v1_out.txt\",'03/10/2004','04/04/2005','fd')\n",
    "show(fbplot_taxisv1)"
   ]
  },
  {
   "cell_type": "markdown",
   "metadata": {},
   "source": [
    "# Split datasets into weekdays and weekends"
   ]
  },
  {
   "cell_type": "code",
   "execution_count": 4,
   "metadata": {},
   "outputs": [
    {
     "name": "stdout",
     "output_type": "stream",
     "text": [
      "(36, 261) (36, 104)\n",
      "(36, 279) (36, 112)\n"
     ]
    }
   ],
   "source": [
    "def split_datasets(data_file, output_file, start_date, end_date):\n",
    "\n",
    "    data_aux = prepare_data(data_file, output_file, start_date, end_date)\n",
    "\n",
    "    aux = []\n",
    "    for col in data_aux.columns:\n",
    "        aux.append(col.isoweekday())\n",
    "\n",
    "    data_aux = data_aux.transpose()\n",
    "    data_aux[\"weekday\"] = aux\n",
    "    data_weekends = data_aux.loc[data_aux[\"weekday\"] > 5].drop(\"weekday\",axis=1).transpose()\n",
    "    data_weekdays = data_aux.loc[data_aux[\"weekday\"] < 6].drop(\"weekday\",axis=1).transpose()\n",
    "    return data_weekdays, data_weekends\n",
    "\n",
    "data_weekdays_taxi, data_weekends_taxi = split_datasets('../data/taxis_v1.csv',\"../outputs/taxis_v1_out.txt\",'01/01/2018','12/31/2018')\n",
    "data_weekdays_airquality, data_weekends_airquality = split_datasets('../data/airquality_v1.csv',\"../outputs/airquality_v1_out.txt\",'03/10/2004','04/04/2005')\n",
    "\n",
    "print(data_weekdays_taxi.shape, data_weekends_taxi.shape)\n",
    "print(data_weekdays_airquality.shape, data_weekends_airquality.shape)"
   ]
  },
  {
   "cell_type": "code",
   "execution_count": 5,
   "metadata": {},
   "outputs": [],
   "source": [
    "def functional_boxplot_from_df(data, depth_type, title):\n",
    "    \n",
    "    data_final   = data.sort_values(by=depth_type,axis=1)\n",
    "    \n",
    "    print(data_final.shape)\n",
    "    \n",
    "    data_median    = data_final.iloc[:,data_final.shape[1]-1]\n",
    "    data_top50     = data_final.iloc[:,(data_final.shape[1]//2):data_final.shape[1]-1]\n",
    "    print(data_top50.shape)\n",
    "    data_envelopes = get_envelopes(data_top50)\n",
    "    #print(data_envelopes)\n",
    "    data_inner_envelopes = data_envelopes[['bot','top']]\n",
    "    data_outer_envelopes = data_envelopes[['out_bot','out_top']]\n",
    "    raw_outliers   = data_final.iloc[:,:(data_final.shape[1]//2)]\n",
    "    #print(raw_outliers)\n",
    "    data_outliers  = get_outliers(raw_outliers,data_envelopes)\n",
    "    #print(data_outliers)\n",
    "    data_top_outliers = data_outliers.iloc[:,:5]\n",
    "    data_outliers.drop(data_outliers.iloc[:,:5], inplace=True, axis=1)\n",
    "\n",
    "    print(data_outliers.shape)\n",
    "    print(data_top_outliers.shape)\n",
    "    \n",
    "    data_ordered   = pd.concat([data_inner_envelopes,data_outliers,data_median],axis=1)\n",
    "    #print(data_ordered.shape)\n",
    "    \n",
    "    color_inner_envelopes = [\"#cccccc\",\"#cccccc\"]\n",
    "    color_outliers = [\"#fcbba1\"]*(data_outliers.shape[1])\n",
    "    color_median = [\"black\"]\n",
    "    colors_general = color_inner_envelopes + color_outliers + color_median \n",
    "    \n",
    "    numlines_general = len(data_ordered.columns)\n",
    "    \n",
    "    \n",
    "    colors_outer_envelopes = [\"#969696\",\"#969696\"]\n",
    "    numlines_outer_envelopes = len(data_outer_envelopes.columns)\n",
    "\n",
    "    \n",
    "    colors_top_outliers = ['#e41a1c','#377eb8','#4daf4a','#984ea3','#ff7f00']\n",
    "    numlines_top_outliers = len(data_top_outliers.columns)    \n",
    "    print(pd.to_datetime(data_top_outliers.columns))\n",
    "    \n",
    "    p = figure(width=1000, height=800, x_axis_type=\"datetime\", title=title) \n",
    "    \n",
    "    upper_band = np.array(data_envelopes['top'].iloc[0:24])\n",
    "    lower_band = np.array(data_envelopes['bot'].iloc[0:24])\n",
    "    x          = np.array(data_ordered.index[0:24])\n",
    "    \n",
    "    xs = np.concatenate([x, x[::-1]])\n",
    "    ys = np.concatenate([lower_band, upper_band[::-1]])\n",
    "    \n",
    "    p.patch(x=xs, y=ys, fill_color=\"#cccccc\", fill_alpha=0.8, line_alpha=0, legend=\"IQR\")    \n",
    "    \n",
    "    src_outer_envelopes = ColumnDataSource(data={\n",
    "        'xs_outer_envelopes': [data_outer_envelopes.index.values]*numlines_outer_envelopes,\n",
    "        'ys_outer_envelopes': [data_outer_envelopes[name].values for name in data_outer_envelopes.iloc[0:24]],\n",
    "        'colors_outer_envelopes':colors_outer_envelopes,\n",
    "        'dates':data_outer_envelopes.columns.astype(str)\n",
    "    })\n",
    "    \n",
    "    p.multi_line('xs_outer_envelopes',\n",
    "                 'ys_outer_envelopes',\n",
    "                 source=src_outer_envelopes,\n",
    "                 line_color='colors_outer_envelopes',\n",
    "                 line_width=5,\n",
    "                 line_dash='dashed')\n",
    "    \n",
    "    src_general = ColumnDataSource(data={\n",
    "        'xs_general': [data_ordered.index.values]*numlines_general,\n",
    "        'ys_general': [data_ordered[name].values for name in data_ordered.iloc[0:24]],\n",
    "        'colors_general': colors_general,\n",
    "        'dates':data_ordered.columns.astype(str)\n",
    "    })\n",
    "    \n",
    "    p.multi_line('xs_general',\n",
    "                 'ys_general',\n",
    "                 source=src_general,\n",
    "                 line_color='colors_general',\n",
    "                 line_width=5,\n",
    "                 line_alpha=0.6,\n",
    "                 hover_line_color='colors_general',\n",
    "                 hover_line_alpha=1.0)\n",
    "    \n",
    "    src_top_outliers = ColumnDataSource(data={\n",
    "        'xs_top_outliers': [data_top_outliers.index.values]*numlines_top_outliers,\n",
    "        'ys_top_outliers': [data_top_outliers[name].values for name in data_top_outliers.iloc[0:24]],\n",
    "        'colors_top_outliers': colors_top_outliers,\n",
    "        'dates': data_top_outliers.columns.astype(str)\n",
    "    })\n",
    "    \n",
    "    p.multi_line('xs_top_outliers',\n",
    "                 'ys_top_outliers',\n",
    "                 source=src_top_outliers,\n",
    "                 line_color='colors_top_outliers',\n",
    "                 line_width=5,\n",
    "                 line_alpha=0.6,\n",
    "                 hover_line_color='colors_top_outliers',\n",
    "                 hover_line_alpha=1.0,\n",
    "                 legend='dates',)\n",
    "    \n",
    "    p.legend.location = 'bottom_right'\n",
    "    p.legend.background_fill_alpha = 0.5\n",
    "    \n",
    "    p.title.text_font_size = '20pt'\n",
    "    \n",
    "    p.xaxis.major_label_text_font_size = \"18pt\"\n",
    "    p.xaxis.formatter = DatetimeTickFormatter(days=\"%H:%M\",hours=\"%H:%M\")\n",
    "    p.yaxis.major_label_text_font_size = \"18pt\"\n",
    "    \n",
    "    p.add_tools(HoverTool(show_arrow=False, line_policy='next', tooltips=[\n",
    "        ('Date', '@dates'),\n",
    "    ]))\n",
    "    \n",
    "    return p"
   ]
  },
  {
   "cell_type": "code",
   "execution_count": 6,
   "metadata": {},
   "outputs": [
    {
     "name": "stdout",
     "output_type": "stream",
     "text": [
      "(39, 365)\n",
      "(39, 182)\n",
      "(39, 30)\n",
      "(39, 5)\n",
      "DatetimeIndex(['2018-01-04', '2018-12-25', '2018-03-11', '2018-02-02',\n",
      "               '2018-01-01'],\n",
      "              dtype='datetime64[ns]', freq=None)\n"
     ]
    },
    {
     "name": "stderr",
     "output_type": "stream",
     "text": [
      "BokehDeprecationWarning: 'legend' keyword is deprecated, use explicit 'legend_label', 'legend_field', or 'legend_group' keywords instead\n",
      "BokehDeprecationWarning: 'legend' keyword is deprecated, use explicit 'legend_label', 'legend_field', or 'legend_group' keywords instead\n"
     ]
    }
   ],
   "source": [
    "output_file('fbplot_ed_taxisv1.html')\n",
    "ed_data = prepare_data('../data/taxis_v1.csv', \"../outputs/taxis_v1_ed_out.txt\",'01/01/2018','12/31/2018')\n",
    "fbplot_taxisv1_ed = functional_boxplot_from_df(ed_data,'ed', 'Taxi trips using extremal depth')\n",
    "show(fbplot_taxisv1_ed)"
   ]
  },
  {
   "cell_type": "code",
   "execution_count": 7,
   "metadata": {},
   "outputs": [
    {
     "name": "stdout",
     "output_type": "stream",
     "text": [
      "(36, 365)\n",
      "(36, 182)\n",
      "(36, 53)\n",
      "(36, 5)\n",
      "DatetimeIndex(['2018-01-01', '2018-12-25', '2018-12-26', '2018-08-19',\n",
      "               '2018-12-30'],\n",
      "              dtype='datetime64[ns]', freq=None)\n"
     ]
    },
    {
     "name": "stderr",
     "output_type": "stream",
     "text": [
      "BokehDeprecationWarning: 'legend' keyword is deprecated, use explicit 'legend_label', 'legend_field', or 'legend_group' keywords instead\n",
      "BokehDeprecationWarning: 'legend' keyword is deprecated, use explicit 'legend_label', 'legend_field', or 'legend_group' keywords instead\n"
     ]
    }
   ],
   "source": [
    "output_file('sdepth/fbplot_depth.html')\n",
    "data = prepare_data('../data/taxis_v1.csv', \"../outputs/taxis_v1_out.txt\",'01/01/2018','12/31/2018')\n",
    "fbplot_taxisv1 = functional_boxplot_from_df(data, 'omd', 'Taxi trips using modified depth')\n",
    "show(fbplot_taxisv1)"
   ]
  },
  {
   "cell_type": "code",
   "execution_count": 11,
   "metadata": {},
   "outputs": [
    {
     "name": "stdout",
     "output_type": "stream",
     "text": [
      "(38, 365)\n",
      "(38, 182)\n"
     ]
    },
    {
     "name": "stderr",
     "output_type": "stream",
     "text": [
      "/home/pedro/anaconda3/lib/python3.6/site-packages/ipykernel_launcher.py:31: FutureWarning: Sorting because non-concatenation axis is not aligned. A future version\n",
      "of pandas will change to not sort by default.\n",
      "\n",
      "To accept the future behavior, pass 'sort=False'.\n",
      "\n",
      "To retain the current behavior and silence the warning, pass 'sort=True'.\n",
      "\n"
     ]
    },
    {
     "name": "stdout",
     "output_type": "stream",
     "text": [
      "(38, 1)\n",
      "(38, 5)\n",
      "DatetimeIndex(['2018-07-04', '2018-12-25', '2018-11-22', '2018-03-21',\n",
      "               '2018-01-04'],\n",
      "              dtype='datetime64[ns]', freq=None)\n"
     ]
    }
   ],
   "source": [
    "output_file('sdepth/fbplot_sdepth_w7.html')\n",
    "data_s7 = prepare_data('../data/taxis_v1.csv', \"../outputs/taxis_v1_s7_out.txt\",'01/01/2018','12/31/2018')\n",
    "fbplot_taxisv1_s7 = functional_boxplot_from_df(data_s7, 'sd', 'Taxi trips using sliding depth with winsize 7')\n",
    "show(fbplot_taxisv1_s7)"
   ]
  },
  {
   "cell_type": "code",
   "execution_count": 12,
   "metadata": {},
   "outputs": [
    {
     "name": "stdout",
     "output_type": "stream",
     "text": [
      "(38, 365)\n",
      "(38, 182)\n"
     ]
    },
    {
     "name": "stderr",
     "output_type": "stream",
     "text": [
      "/home/pedro/anaconda3/lib/python3.6/site-packages/ipykernel_launcher.py:31: FutureWarning: Sorting because non-concatenation axis is not aligned. A future version\n",
      "of pandas will change to not sort by default.\n",
      "\n",
      "To accept the future behavior, pass 'sort=False'.\n",
      "\n",
      "To retain the current behavior and silence the warning, pass 'sort=True'.\n",
      "\n"
     ]
    },
    {
     "name": "stdout",
     "output_type": "stream",
     "text": [
      "(38, 12)\n",
      "(38, 5)\n",
      "DatetimeIndex(['2018-12-16', '2018-12-25', '2018-01-28', '2018-01-01',\n",
      "               '2018-02-25'],\n",
      "              dtype='datetime64[ns]', freq=None)\n"
     ]
    }
   ],
   "source": [
    "output_file('sdepth/fbplot_sdepth_w15.html')\n",
    "data_s15 = prepare_data('../data/taxis_v1.csv', \"../outputs/taxis_v1_s15_out.txt\",'01/01/2018','12/31/2018')\n",
    "fbplot_taxisv1_s15 = functional_boxplot_from_df(data_s15, 'sd', 'Taxi trips using sliding depth with winsize 15')\n",
    "show(fbplot_taxisv1_s15)"
   ]
  },
  {
   "cell_type": "code",
   "execution_count": 13,
   "metadata": {},
   "outputs": [
    {
     "name": "stdout",
     "output_type": "stream",
     "text": [
      "(38, 365)\n",
      "(38, 182)\n"
     ]
    },
    {
     "name": "stderr",
     "output_type": "stream",
     "text": [
      "/home/pedro/anaconda3/lib/python3.6/site-packages/ipykernel_launcher.py:31: FutureWarning: Sorting because non-concatenation axis is not aligned. A future version\n",
      "of pandas will change to not sort by default.\n",
      "\n",
      "To accept the future behavior, pass 'sort=False'.\n",
      "\n",
      "To retain the current behavior and silence the warning, pass 'sort=True'.\n",
      "\n"
     ]
    },
    {
     "name": "stdout",
     "output_type": "stream",
     "text": [
      "(38, 10)\n",
      "(38, 5)\n",
      "DatetimeIndex(['2018-01-01', '2018-12-25', '2018-07-04', '2018-01-28',\n",
      "               '2018-11-22'],\n",
      "              dtype='datetime64[ns]', freq=None)\n"
     ]
    }
   ],
   "source": [
    "output_file('sdepth/fbplot_sdepth_w31.html')\n",
    "data_s31 = prepare_data('../data/taxis_v1.csv', \"../outputs/taxis_v1_s31_out.txt\",'01/01/2018','12/31/2018')\n",
    "fbplot_taxisv1_s31 = functional_boxplot_from_df(data_s31, 'sd', 'Taxi trips using sliding depth with winsize 31')\n",
    "show(fbplot_taxisv1_s31)"
   ]
  },
  {
   "cell_type": "code",
   "execution_count": 14,
   "metadata": {},
   "outputs": [
    {
     "name": "stdout",
     "output_type": "stream",
     "text": [
      "(38, 365)\n",
      "(38, 182)\n"
     ]
    },
    {
     "name": "stderr",
     "output_type": "stream",
     "text": [
      "/home/pedro/anaconda3/lib/python3.6/site-packages/ipykernel_launcher.py:31: FutureWarning: Sorting because non-concatenation axis is not aligned. A future version\n",
      "of pandas will change to not sort by default.\n",
      "\n",
      "To accept the future behavior, pass 'sort=False'.\n",
      "\n",
      "To retain the current behavior and silence the warning, pass 'sort=True'.\n",
      "\n"
     ]
    },
    {
     "name": "stdout",
     "output_type": "stream",
     "text": [
      "(38, 28)\n",
      "(38, 5)\n",
      "DatetimeIndex(['2018-01-01', '2018-12-25', '2018-05-28', '2018-05-27',\n",
      "               '2018-09-02'],\n",
      "              dtype='datetime64[ns]', freq=None)\n"
     ]
    }
   ],
   "source": [
    "output_file('sdepth/fbplot_sdepth_w61.html')\n",
    "data_s61 = prepare_data('../data/taxis_v1.csv', \"../outputs/taxis_v1_s61_out.txt\",'01/01/2018','12/31/2018')\n",
    "fbplot_taxisv1_s61 = functional_boxplot_from_df(data_s61, 'sd', 'Taxi trips using sliding depth with winsize 61')\n",
    "show(fbplot_taxisv1_s61)"
   ]
  },
  {
   "cell_type": "markdown",
   "metadata": {},
   "source": [
    "# Plotting weekdays and weekends original depth"
   ]
  },
  {
   "cell_type": "code",
   "execution_count": 27,
   "metadata": {},
   "outputs": [
    {
     "name": "stdout",
     "output_type": "stream",
     "text": [
      "(36, 261)\n",
      "(36, 130)\n",
      "(36, 5)\n",
      "(36, 5)\n",
      "DatetimeIndex(['2018-01-01', '2018-04-03', '2018-04-19', '2018-05-31',\n",
      "               '2018-01-04'],\n",
      "              dtype='datetime64[ns]', freq=None)\n"
     ]
    },
    {
     "name": "stderr",
     "output_type": "stream",
     "text": [
      "/home/pedro/anaconda3/lib/python3.6/site-packages/ipykernel_launcher.py:31: FutureWarning: Sorting because non-concatenation axis is not aligned. A future version\n",
      "of pandas will change to not sort by default.\n",
      "\n",
      "To accept the future behavior, pass 'sort=False'.\n",
      "\n",
      "To retain the current behavior and silence the warning, pass 'sort=True'.\n",
      "\n"
     ]
    },
    {
     "name": "stdout",
     "output_type": "stream",
     "text": [
      "(36, 261)\n",
      "(36, 130)\n"
     ]
    },
    {
     "name": "stderr",
     "output_type": "stream",
     "text": [
      "/home/pedro/anaconda3/lib/python3.6/site-packages/ipykernel_launcher.py:31: FutureWarning: Sorting because non-concatenation axis is not aligned. A future version\n",
      "of pandas will change to not sort by default.\n",
      "\n",
      "To accept the future behavior, pass 'sort=False'.\n",
      "\n",
      "To retain the current behavior and silence the warning, pass 'sort=True'.\n",
      "\n"
     ]
    },
    {
     "name": "stdout",
     "output_type": "stream",
     "text": [
      "(36, 18)\n",
      "(36, 5)\n",
      "DatetimeIndex(['2018-01-01', '2018-03-20', '2018-04-19', '2018-12-25',\n",
      "               '2018-04-25'],\n",
      "              dtype='datetime64[ns]', freq=None)\n",
      "(36, 261)\n",
      "(36, 130)\n"
     ]
    },
    {
     "name": "stderr",
     "output_type": "stream",
     "text": [
      "/home/pedro/anaconda3/lib/python3.6/site-packages/ipykernel_launcher.py:31: FutureWarning: Sorting because non-concatenation axis is not aligned. A future version\n",
      "of pandas will change to not sort by default.\n",
      "\n",
      "To accept the future behavior, pass 'sort=False'.\n",
      "\n",
      "To retain the current behavior and silence the warning, pass 'sort=True'.\n",
      "\n"
     ]
    },
    {
     "name": "stdout",
     "output_type": "stream",
     "text": [
      "(36, 18)\n",
      "(36, 5)\n",
      "DatetimeIndex(['2018-01-01', '2018-03-20', '2018-04-19', '2018-12-25',\n",
      "               '2018-04-25'],\n",
      "              dtype='datetime64[ns]', freq=None)\n"
     ]
    }
   ],
   "source": [
    "fbplot_taxisv1_weekday_od = functional_boxplot_from_df(data_weekdays_taxi,'od','Taxi trips on weekdays using original depth')\n",
    "show(fbplot_taxisv1_weekday_od)\n",
    "fbplot_taxisv1_weekday_fd = functional_boxplot_from_df(data_weekdays_taxi,'fd','Taxi trips on weekdays using rank matrix depth')\n",
    "show(fbplot_taxisv1_weekday_fd)\n",
    "fbplot_taxisv1_weekday_td = functional_boxplot_from_df(data_weekdays_taxi,'td','Taxi trips on weekdays using t-digest depth')\n",
    "show(fbplot_taxisv1_weekday_td)\n"
   ]
  },
  {
   "cell_type": "code",
   "execution_count": 6,
   "metadata": {},
   "outputs": [
    {
     "name": "stderr",
     "output_type": "stream",
     "text": [
      "/home/pedro/anaconda3/lib/python3.6/site-packages/ipykernel_launcher.py:31: FutureWarning: Sorting because non-concatenation axis is not aligned. A future version\n",
      "of pandas will change to not sort by default.\n",
      "\n",
      "To accept the future behavior, pass 'sort=False'.\n",
      "\n",
      "To retain the current behavior and silence the warning, pass 'sort=True'.\n",
      "\n"
     ]
    },
    {
     "name": "stdout",
     "output_type": "stream",
     "text": [
      "(36, 20)\n",
      "(36, 5)\n",
      "DatetimeIndex(['2018-04-08', '2018-05-12', '2018-05-13', '2018-03-25',\n",
      "               '2018-05-19'],\n",
      "              dtype='datetime64[ns]', freq=None)\n"
     ]
    },
    {
     "name": "stderr",
     "output_type": "stream",
     "text": [
      "/home/pedro/anaconda3/lib/python3.6/site-packages/ipykernel_launcher.py:31: FutureWarning: Sorting because non-concatenation axis is not aligned. A future version\n",
      "of pandas will change to not sort by default.\n",
      "\n",
      "To accept the future behavior, pass 'sort=False'.\n",
      "\n",
      "To retain the current behavior and silence the warning, pass 'sort=True'.\n",
      "\n"
     ]
    },
    {
     "name": "stdout",
     "output_type": "stream",
     "text": [
      "(36, 12)\n",
      "(36, 5)\n",
      "DatetimeIndex(['2018-02-24', '2018-03-11', '2018-11-04', '2018-05-13',\n",
      "               '2018-02-10'],\n",
      "              dtype='datetime64[ns]', freq=None)\n"
     ]
    },
    {
     "name": "stderr",
     "output_type": "stream",
     "text": [
      "/home/pedro/anaconda3/lib/python3.6/site-packages/ipykernel_launcher.py:31: FutureWarning: Sorting because non-concatenation axis is not aligned. A future version\n",
      "of pandas will change to not sort by default.\n",
      "\n",
      "To accept the future behavior, pass 'sort=False'.\n",
      "\n",
      "To retain the current behavior and silence the warning, pass 'sort=True'.\n",
      "\n"
     ]
    },
    {
     "name": "stdout",
     "output_type": "stream",
     "text": [
      "(36, 12)\n",
      "(36, 5)\n",
      "DatetimeIndex(['2018-02-24', '2018-03-11', '2018-11-04', '2018-05-13',\n",
      "               '2018-02-10'],\n",
      "              dtype='datetime64[ns]', freq=None)\n"
     ]
    }
   ],
   "source": [
    "fbplot_taxisv1_weekend_od = functional_boxplot_from_df(data_weekends_taxi,'od','Taxi trips on weekends using original depth')\n",
    "show(fbplot_taxisv1_weekend_od)\n",
    "fbplot_taxisv1_weekend_fd = functional_boxplot_from_df(data_weekends_taxi,'fd','Taxi trips on weekends using rank matrix depth')\n",
    "show(fbplot_taxisv1_weekend_fd)\n",
    "fbplot_taxisv1_weekend_td = functional_boxplot_from_df(data_weekends_taxi,'td','Taxi trips on weekends using t-digest depth')\n",
    "show(fbplot_taxisv1_weekend_td)\n"
   ]
  },
  {
   "cell_type": "code",
   "execution_count": null,
   "metadata": {
    "collapsed": true
   },
   "outputs": [],
   "source": []
  },
  {
   "cell_type": "markdown",
   "metadata": {},
   "source": [
    "# Plotting weekdays and weekends modified depth"
   ]
  },
  {
   "cell_type": "code",
   "execution_count": 7,
   "metadata": {
    "scrolled": false
   },
   "outputs": [
    {
     "name": "stderr",
     "output_type": "stream",
     "text": [
      "/home/pedro/anaconda3/lib/python3.6/site-packages/ipykernel_launcher.py:31: FutureWarning: Sorting because non-concatenation axis is not aligned. A future version\n",
      "of pandas will change to not sort by default.\n",
      "\n",
      "To accept the future behavior, pass 'sort=False'.\n",
      "\n",
      "To retain the current behavior and silence the warning, pass 'sort=True'.\n",
      "\n"
     ]
    },
    {
     "name": "stdout",
     "output_type": "stream",
     "text": [
      "(36, 50)\n",
      "(36, 5)\n",
      "DatetimeIndex(['2018-01-01', '2018-12-25', '2018-12-26', '2018-01-04',\n",
      "               '2018-07-04'],\n",
      "              dtype='datetime64[ns]', freq=None)\n"
     ]
    },
    {
     "name": "stderr",
     "output_type": "stream",
     "text": [
      "/home/pedro/anaconda3/lib/python3.6/site-packages/ipykernel_launcher.py:31: FutureWarning: Sorting because non-concatenation axis is not aligned. A future version\n",
      "of pandas will change to not sort by default.\n",
      "\n",
      "To accept the future behavior, pass 'sort=False'.\n",
      "\n",
      "To retain the current behavior and silence the warning, pass 'sort=True'.\n",
      "\n"
     ]
    },
    {
     "name": "stdout",
     "output_type": "stream",
     "text": [
      "(36, 50)\n",
      "(36, 5)\n",
      "DatetimeIndex(['2018-01-01', '2018-12-25', '2018-12-26', '2018-01-04',\n",
      "               '2018-07-04'],\n",
      "              dtype='datetime64[ns]', freq=None)\n"
     ]
    },
    {
     "name": "stderr",
     "output_type": "stream",
     "text": [
      "/home/pedro/anaconda3/lib/python3.6/site-packages/ipykernel_launcher.py:31: FutureWarning: Sorting because non-concatenation axis is not aligned. A future version\n",
      "of pandas will change to not sort by default.\n",
      "\n",
      "To accept the future behavior, pass 'sort=False'.\n",
      "\n",
      "To retain the current behavior and silence the warning, pass 'sort=True'.\n",
      "\n"
     ]
    },
    {
     "name": "stdout",
     "output_type": "stream",
     "text": [
      "(36, 51)\n",
      "(36, 5)\n",
      "DatetimeIndex(['2018-01-01', '2018-12-25', '2018-12-26', '2018-01-04',\n",
      "               '2018-07-04'],\n",
      "              dtype='datetime64[ns]', freq=None)\n"
     ]
    }
   ],
   "source": [
    "fbplot_taxisv1_weekday_omd = functional_boxplot_from_df(data_weekdays_taxi,'omd','Taxi trips on weekdays using original modified depth')\n",
    "show(fbplot_taxisv1_weekday_omd)\n",
    "fbplot_taxisv1_weekday_fmd = functional_boxplot_from_df(data_weekdays_taxi,'fmd','Taxi trips on weekdays using rank matrix modified depth')\n",
    "show(fbplot_taxisv1_weekday_fmd)\n",
    "fbplot_taxisv1_weekday_tmd = functional_boxplot_from_df(data_weekdays_taxi,'tmd','Taxi trips on weekdays using t-digest modified depth')\n",
    "show(fbplot_taxisv1_weekday_tmd)\n"
   ]
  },
  {
   "cell_type": "code",
   "execution_count": 21,
   "metadata": {},
   "outputs": [
    {
     "name": "stderr",
     "output_type": "stream",
     "text": [
      "/home/pedro/anaconda3/lib/python3.6/site-packages/ipykernel_launcher.py:31: FutureWarning: Sorting because non-concatenation axis is not aligned. A future version\n",
      "of pandas will change to not sort by default.\n",
      "\n",
      "To accept the future behavior, pass 'sort=False'.\n",
      "\n",
      "To retain the current behavior and silence the warning, pass 'sort=True'.\n",
      "\n"
     ]
    },
    {
     "name": "stdout",
     "output_type": "stream",
     "text": [
      "(36, 51)\n",
      "(36, 5)\n",
      "DatetimeIndex(['2018-01-01', '2018-12-25', '2018-12-26', '2018-01-04',\n",
      "               '2018-07-04'],\n",
      "              dtype='datetime64[ns]', freq=None)\n"
     ]
    },
    {
     "name": "stderr",
     "output_type": "stream",
     "text": [
      "/home/pedro/anaconda3/lib/python3.6/site-packages/selenium/webdriver/phantomjs/webdriver.py:49: UserWarning: Selenium support for PhantomJS has been deprecated, please use headless versions of Chrome or Firefox instead\n",
      "  warnings.warn('Selenium support for PhantomJS has been deprecated, please use headless '\n"
     ]
    },
    {
     "data": {
      "text/plain": [
       "['fbplot_taxisv1_weekday_tmd.svg']"
      ]
     },
     "execution_count": 21,
     "metadata": {},
     "output_type": "execute_result"
    }
   ],
   "source": [
    "from bokeh.io import export_svgs\n",
    "fbplot_taxisv1_weekday_tmd = functional_boxplot_from_df(data_weekdays_taxi,'tmd','Taxi trips on weekdays using t-digest modified depth')\n",
    "fbplot_taxisv1_weekday_tmd.output_backend = 'svg'\n",
    "export_svgs(fbplot_taxisv1_weekday_tmd, filename=\"fbplot_taxisv1_weekday_tmd.svg\")"
   ]
  },
  {
   "cell_type": "code",
   "execution_count": 8,
   "metadata": {},
   "outputs": [
    {
     "name": "stderr",
     "output_type": "stream",
     "text": [
      "/home/pedro/anaconda3/lib/python3.6/site-packages/ipykernel_launcher.py:31: FutureWarning: Sorting because non-concatenation axis is not aligned. A future version\n",
      "of pandas will change to not sort by default.\n",
      "\n",
      "To accept the future behavior, pass 'sort=False'.\n",
      "\n",
      "To retain the current behavior and silence the warning, pass 'sort=True'.\n",
      "\n"
     ]
    },
    {
     "name": "stdout",
     "output_type": "stream",
     "text": [
      "(36, 11)\n",
      "(36, 5)\n",
      "DatetimeIndex(['2018-08-19', '2018-12-30', '2018-09-02', '2018-07-08',\n",
      "               '2018-08-26'],\n",
      "              dtype='datetime64[ns]', freq=None)\n"
     ]
    },
    {
     "name": "stderr",
     "output_type": "stream",
     "text": [
      "/home/pedro/anaconda3/lib/python3.6/site-packages/ipykernel_launcher.py:31: FutureWarning: Sorting because non-concatenation axis is not aligned. A future version\n",
      "of pandas will change to not sort by default.\n",
      "\n",
      "To accept the future behavior, pass 'sort=False'.\n",
      "\n",
      "To retain the current behavior and silence the warning, pass 'sort=True'.\n",
      "\n"
     ]
    },
    {
     "name": "stdout",
     "output_type": "stream",
     "text": [
      "(36, 11)\n",
      "(36, 5)\n",
      "DatetimeIndex(['2018-08-19', '2018-12-30', '2018-09-02', '2018-07-08',\n",
      "               '2018-08-26'],\n",
      "              dtype='datetime64[ns]', freq=None)\n"
     ]
    },
    {
     "name": "stderr",
     "output_type": "stream",
     "text": [
      "/home/pedro/anaconda3/lib/python3.6/site-packages/ipykernel_launcher.py:31: FutureWarning: Sorting because non-concatenation axis is not aligned. A future version\n",
      "of pandas will change to not sort by default.\n",
      "\n",
      "To accept the future behavior, pass 'sort=False'.\n",
      "\n",
      "To retain the current behavior and silence the warning, pass 'sort=True'.\n",
      "\n"
     ]
    },
    {
     "name": "stdout",
     "output_type": "stream",
     "text": [
      "(36, 11)\n",
      "(36, 5)\n",
      "DatetimeIndex(['2018-08-19', '2018-12-30', '2018-09-02', '2018-07-08',\n",
      "               '2018-08-26'],\n",
      "              dtype='datetime64[ns]', freq=None)\n"
     ]
    }
   ],
   "source": [
    "fbplot_taxisv1_weekend_omd = functional_boxplot_from_df(data_weekends_taxi,'omd','Taxi trips on weekends using original modified depth')\n",
    "show(fbplot_taxisv1_weekend_omd)\n",
    "fbplot_taxisv1_weekend_fmd = functional_boxplot_from_df(data_weekends_taxi,'fmd','Taxi trips on weekends using rank matrix modified depth')\n",
    "show(fbplot_taxisv1_weekend_fmd)\n",
    "fbplot_taxisv1_weekend_tmd = functional_boxplot_from_df(data_weekends_taxi,'tmd','Taxi trips on weekends using t-digest modified depth')\n",
    "show(fbplot_taxisv1_weekend_tmd)\n"
   ]
  },
  {
   "cell_type": "code",
   "execution_count": 185,
   "metadata": {},
   "outputs": [
    {
     "name": "stderr",
     "output_type": "stream",
     "text": [
      "/home/pedro/anaconda3/lib/python3.6/site-packages/ipykernel_launcher.py:28: FutureWarning: Sorting because non-concatenation axis is not aligned. A future version\n",
      "of pandas will change to not sort by default.\n",
      "\n",
      "To accept the future behavior, pass 'sort=False'.\n",
      "\n",
      "To retain the current behavior and silence the warning, pass 'sort=True'.\n",
      "\n",
      "/home/pedro/anaconda3/lib/python3.6/site-packages/ipykernel_launcher.py:28: FutureWarning: Sorting because non-concatenation axis is not aligned. A future version\n",
      "of pandas will change to not sort by default.\n",
      "\n",
      "To accept the future behavior, pass 'sort=False'.\n",
      "\n",
      "To retain the current behavior and silence the warning, pass 'sort=True'.\n",
      "\n"
     ]
    },
    {
     "name": "stdout",
     "output_type": "stream",
     "text": [
      "(36, 56)\n",
      "(36, 13)\n",
      "median: 2004-05-09\n",
      "(36, 139)\n",
      "(36, 64)\n",
      "median: 2004-04-20\n"
     ]
    }
   ],
   "source": [
    "fbplot_aqv1_weekend = functional_boxplot_from_df(data_weekends_airquality,'od')\n",
    "fbplot_aqv1_weekday = functional_boxplot_from_df(data_weekdays_airquality,'od')\n"
   ]
  },
  {
   "cell_type": "code",
   "execution_count": 186,
   "metadata": {
    "collapsed": true
   },
   "outputs": [],
   "source": [
    "show(fbplot_aqv1_weekday)\n",
    "show(fbplot_aqv1_weekend)"
   ]
  },
  {
   "cell_type": "code",
   "execution_count": null,
   "metadata": {
    "collapsed": true
   },
   "outputs": [],
   "source": []
  }
 ],
 "metadata": {
  "kernelspec": {
   "display_name": "Python 3",
   "language": "python",
   "name": "python3"
  },
  "language_info": {
   "codemirror_mode": {
    "name": "ipython",
    "version": 3
   },
   "file_extension": ".py",
   "mimetype": "text/x-python",
   "name": "python",
   "nbconvert_exporter": "python",
   "pygments_lexer": "ipython3",
   "version": "3.7.6"
  }
 },
 "nbformat": 4,
 "nbformat_minor": 2
}
