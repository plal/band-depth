{
 "cells": [
  {
   "cell_type": "code",
   "execution_count": 170,
   "metadata": {
    "collapsed": true
   },
   "outputs": [],
   "source": [
    "import pandas as pd\n",
    "import numpy as np\n",
    "from bokeh.plotting import figure, show, output_file\n",
    "from bokeh.models import Band\n",
    "from bokeh.models.annotations import Title"
   ]
  },
  {
   "cell_type": "code",
   "execution_count": 51,
   "metadata": {
    "collapsed": true
   },
   "outputs": [],
   "source": [
    "def plot_lines(data_file, output_file, depth_type, start_date, end_date, num_outliers, use_top50=False):\n",
    "    data = pd.read_csv(data_file)\n",
    "    data = data.set_index(pd.date_range(start=start_date, end=end_date).date)\n",
    "    data = data.transpose()\n",
    "    data = data.set_index(pd.date_range(start=start_date, periods=24, freq='H').time)\n",
    "\n",
    "    data_outputs = pd.read_csv(output_file).set_index(pd.date_range(start=start_date, end=end_date).date)\n",
    "\n",
    "    data_outputs = data_outputs.transpose()\n",
    "\n",
    "    data_final = pd.concat([data,data_outputs])\n",
    "\n",
    "    data_final = data_final.sort_values(by=depth_type,axis=1)\n",
    "    \n",
    "    data_outliers = data_final.iloc[:,:num_outliers]\n",
    "    data_median   = data_final.iloc[:,data_final.shape[1]-1]\n",
    "    if use_top50:\n",
    "        data_top50    = data_final.iloc[:,(data_final.shape[1]//2):data_final.shape[1]-1]\n",
    "        data_ordered  = pd.concat([data_top50, data_outliers, data_median], axis=1)\n",
    "    else:\n",
    "        data_middle   = data_final.iloc[:,num_outliers:data_final.shape[1]-1]\n",
    "        data_ordered  = pd.concat([data_middle, data_outliers, data_median], axis=1)\n",
    "    pcrint(data_ordered.shape)\n",
    "    \n",
    "    color_top50 = [\"#fbb4b9\"] * (data_ordered.shape[1] - (num_outliers+1))\n",
    "    color_median = [\"Blue\"]\n",
    "    color_outliers = [\"Red\"] * num_outliers\n",
    "    color_list = color_top50 + color_outliers + color_median\n",
    "    \n",
    "    alpha_list = [0.5] * data_final.shape[1]\n",
    "    alpha_list[0:num_outliers] = [1] * num_outliers\n",
    "    alpha_list[len(alpha_list)-1] = 1\n",
    "\n",
    "    numlines = len(data_ordered.columns)\n",
    "\n",
    "    p = figure(width=1000, height=800, x_axis_type=\"datetime\") \n",
    "    p.multi_line(xs=[data_ordered.index.values]*numlines,\n",
    "                 ys=[data_ordered[name].values for name in data_ordered.iloc[0:24]],\n",
    "                 line_color=color_list,\n",
    "                 line_width=5)\n",
    "    return p"
   ]
  },
  {
   "cell_type": "code",
   "execution_count": 52,
   "metadata": {},
   "outputs": [
    {
     "name": "stdout",
     "output_type": "stream",
     "text": [
      "(36, 933)\n"
     ]
    }
   ],
   "source": [
    "output_file('taxis_v3_top50.html')\n",
    "plot_taxis_v3 = plot_lines('../data/taxis_v3.csv',\"../outputs/taxis_v3_out.txt\",'tmd','1/1/2014','12/31/2018', 20, use_top50=True)\n",
    "show(plot_taxis_v3)"
   ]
  },
  {
   "cell_type": "code",
   "execution_count": 53,
   "metadata": {},
   "outputs": [
    {
     "name": "stdout",
     "output_type": "stream",
     "text": [
      "(36, 1826)\n"
     ]
    }
   ],
   "source": [
    "output_file('taxis_v3_full.html')\n",
    "plot_taxis_v3 = plot_lines('../data/taxis_v3.csv',\"../outputs/taxis_v3_out.txt\",'tmd','1/1/2014','12/31/2018', 20)\n",
    "show(plot_taxis_v3)"
   ]
  },
  {
   "cell_type": "code",
   "execution_count": 54,
   "metadata": {},
   "outputs": [
    {
     "name": "stdout",
     "output_type": "stream",
     "text": [
      "(36, 568)\n"
     ]
    }
   ],
   "source": [
    "output_file('taxis_v2_top50.html')\n",
    "plot_taxis_v2 = plot_lines('../data/taxis_v2.csv',\"../outputs/taxis_v2_out.txt\",'tmd','1/1/2016','12/31/2018', 20, use_top50=True)\n",
    "show(plot_taxis_v2)"
   ]
  },
  {
   "cell_type": "code",
   "execution_count": 55,
   "metadata": {},
   "outputs": [
    {
     "name": "stdout",
     "output_type": "stream",
     "text": [
      "(36, 1096)\n"
     ]
    }
   ],
   "source": [
    "output_file('taxis_v2_full.html')\n",
    "plot_taxis_v2 = plot_lines('../data/taxis_v2.csv',\"../outputs/taxis_v2_out.txt\",'tmd','1/1/2016','12/31/2018', 20)\n",
    "show(plot_taxis_v2)"
   ]
  },
  {
   "cell_type": "code",
   "execution_count": 56,
   "metadata": {},
   "outputs": [
    {
     "name": "stdout",
     "output_type": "stream",
     "text": [
      "(36, 203)\n"
     ]
    }
   ],
   "source": [
    "output_file('taxis_v1_top50.html')\n",
    "plot_taxis_v1 = plot_lines('../data/taxis_v1.csv',\"../outputs/taxis_v1_out.txt\",'tmd','1/1/2018','12/31/2018', 20, use_top50=True)\n",
    "show(plot_taxis_v1)"
   ]
  },
  {
   "cell_type": "code",
   "execution_count": 57,
   "metadata": {
    "scrolled": true
   },
   "outputs": [
    {
     "name": "stdout",
     "output_type": "stream",
     "text": [
      "(36, 365)\n"
     ]
    }
   ],
   "source": [
    "output_file('taxis_v1_full.html')\n",
    "plot_taxis_v1 = plot_lines('../data/taxis_v1.csv',\"../outputs/taxis_v1_out.txt\",'od','1/1/2018','12/31/2018', 20)\n",
    "show(plot_taxis_v1)"
   ]
  },
  {
   "cell_type": "code",
   "execution_count": 58,
   "metadata": {},
   "outputs": [
    {
     "name": "stdout",
     "output_type": "stream",
     "text": [
      "(36, 216)\n"
     ]
    }
   ],
   "source": [
    "output_file('airquality_v1_top50.html')\n",
    "plot_airquality_v1 = plot_lines('../data/airquality_v1.csv',\"../outputs/airquality_v1_out.txt\",'fd','03/10/2004','04/04/2005',20, use_top50=True)\n",
    "show(plot_airquality_v1)"
   ]
  },
  {
   "cell_type": "code",
   "execution_count": 59,
   "metadata": {},
   "outputs": [
    {
     "name": "stdout",
     "output_type": "stream",
     "text": [
      "(36, 391)\n"
     ]
    }
   ],
   "source": [
    "output_file('airquality_v1_full.html')\n",
    "plot_airquality_v1 = plot_lines('../data/airquality_v1.csv',\"../outputs/airquality_v1_out.txt\",'fd','03/10/2004','04/04/2005',20)\n",
    "show(plot_airquality_v1)"
   ]
  },
  {
   "cell_type": "code",
   "execution_count": 35,
   "metadata": {
    "scrolled": true
   },
   "outputs": [
    {
     "ename": "NameError",
     "evalue": "name 'data_outputs' is not defined",
     "output_type": "error",
     "traceback": [
      "\u001b[0;31m---------------------------------------------------------------------------\u001b[0m",
      "\u001b[0;31mNameError\u001b[0m                                 Traceback (most recent call last)",
      "\u001b[0;32m<ipython-input-35-53f7a668bdcd>\u001b[0m in \u001b[0;36m<module>\u001b[0;34m()\u001b[0m\n\u001b[0;32m----> 1\u001b[0;31m \u001b[0mdata_outputs\u001b[0m\u001b[0;34m[\u001b[0m\u001b[0;34m'td'\u001b[0m\u001b[0;34m]\u001b[0m\u001b[0;34m.\u001b[0m\u001b[0mquantile\u001b[0m\u001b[0;34m(\u001b[0m\u001b[0;34m[\u001b[0m\u001b[0;36m0.25\u001b[0m\u001b[0;34m,\u001b[0m\u001b[0;36m0.5\u001b[0m\u001b[0;34m,\u001b[0m\u001b[0;36m0.75\u001b[0m\u001b[0;34m]\u001b[0m\u001b[0;34m)\u001b[0m\u001b[0;34m\u001b[0m\u001b[0m\n\u001b[0m",
      "\u001b[0;31mNameError\u001b[0m: name 'data_outputs' is not defined"
     ]
    }
   ],
   "source": [
    "data_outputs['td'].quantile([0.25,0.5,0.75])"
   ]
  },
  {
   "cell_type": "markdown",
   "metadata": {},
   "source": [
    "# Functional Boxplot"
   ]
  },
  {
   "cell_type": "code",
   "execution_count": 146,
   "metadata": {
    "collapsed": true
   },
   "outputs": [],
   "source": [
    "def prepare_data(data_file, output_file, start_date, end_date, index_days=None):\n",
    "    data = pd.read_csv(data_file)\n",
    "    if index_days:\n",
    "        print(a)\n",
    "    else:\n",
    "        data = data.set_index(pd.date_range(start=start_date, end=end_date).date)\n",
    "    data = data.transpose()\n",
    "    data = data.set_index(pd.date_range(start=start_date, periods=24, freq='H').time)\n",
    "\n",
    "    data_outputs = pd.read_csv(output_file).set_index(pd.date_range(start=start_date, end=end_date).date)\n",
    "    data_outputs = data_outputs.transpose()\n",
    "\n",
    "    data_final   = pd.concat([data,data_outputs])\n",
    "    return data_final\n",
    "\n",
    "def get_envelopes(data_top50):\n",
    "    df_max = data_top50.max(axis=1)\n",
    "    df_min = data_top50.min(axis=1)\n",
    "    \n",
    "    iqr = df_max - df_min\n",
    "    mid = (df_max + df_min)//2\n",
    "    out_top = mid + (0.75*iqr)\n",
    "    out_bot = mid - (0.75*iqr)\n",
    "    \n",
    "    return pd.concat({'top':df_max,'bot':df_min,'out_top':out_top,'out_bot':out_bot},axis=1)\n",
    "\n",
    "def get_outliers(raw_outliers, data_envelopes):\n",
    "    data_outliers = pd.DataFrame()\n",
    "    for col in raw_outliers.columns:\n",
    "        if (raw_outliers[col][:24] > data_envelopes['out_top'][:24]).any() or (raw_outliers[col][:24] < data_envelopes['out_bot'][:24]).any():\n",
    "            data_outliers = pd.concat([data_outliers,raw_outliers[col]],axis=1)\n",
    "    return data_outliers\n",
    "\n",
    "def functional_boxplot(data_file, output_file, start_date, end_date, depth_type):\n",
    "\n",
    "    data_final   = prepare_data(data_file, output_file, start_date, end_date)\n",
    "    data_final   = data_final.sort_values(by=depth_type,axis=1)\n",
    "    \n",
    "    data_median    = data_final.iloc[:,data_final.shape[1]-1]\n",
    "    data_top50     = data_final.iloc[:,(data_final.shape[1]//2):data_final.shape[1]-1]\n",
    "    data_envelopes = get_envelopes(data_top50)\n",
    "    raw_outliers   = data_final.iloc[:,:(data_final.shape[1]//2)]\n",
    "    data_outliers  = get_outliers(raw_outliers,data_envelopes)\n",
    "    print(raw_outliers.shape)\n",
    "    print(data_outliers.shape)\n",
    "    data_ordered   = pd.concat([data_envelopes,data_outliers,data_median],axis=1)\n",
    "\n",
    "    color_list = [\"#f768a1\",\"black\",\"black\",\"#f768a1\"]+([\"red\"]*data_outliers.shape[1])+[\"blue\"]\n",
    "    alpha_list = [1.0]*4 + ([0.3]*data_outliers.shape[1]) + [1.0]\n",
    "    \n",
    "    numlines = len(data_ordered.columns)\n",
    "\n",
    "    p = figure(width=1000, height=800, x_axis_type=\"datetime\") \n",
    "    \n",
    "    upper_band = np.array(data_envelopes['top'].iloc[0:24])\n",
    "    lower_band = np.array(data_envelopes['bot'].iloc[0:24])\n",
    "    x          = np.array(data_ordered.index[0:24])\n",
    "    \n",
    "    xs = np.concatenate([x, x[::-1]])\n",
    "    ys = np.concatenate([lower_band, upper_band[::-1]])\n",
    "    \n",
    "    p.patch(x=xs, y=ys, fill_color=\"#f768a1\", fill_alpha=0.8, line_alpha=0, legend=\"IQR\")\n",
    "    \n",
    "    p.multi_line(xs=[data_ordered.index.values]*numlines,\n",
    "                 ys=[data_ordered[name].values for name in data_ordered.iloc[0:24]],\n",
    "                 line_color=color_list,\n",
    "                 line_width=5,\n",
    "                 alpha=alpha_list)\n",
    "\n",
    "    return p"
   ]
  },
  {
   "cell_type": "markdown",
   "metadata": {},
   "source": [
    "## Plot 1 year of taxis data"
   ]
  },
  {
   "cell_type": "code",
   "execution_count": 158,
   "metadata": {
    "scrolled": true
   },
   "outputs": [
    {
     "name": "stderr",
     "output_type": "stream",
     "text": [
      "/home/pedro/anaconda3/lib/python3.6/site-packages/ipykernel_launcher.py:28: FutureWarning: Sorting because non-concatenation axis is not aligned. A future version\n",
      "of pandas will change to not sort by default.\n",
      "\n",
      "To accept the future behavior, pass 'sort=False'.\n",
      "\n",
      "To retain the current behavior and silence the warning, pass 'sort=True'.\n",
      "\n"
     ]
    },
    {
     "name": "stdout",
     "output_type": "stream",
     "text": [
      "(36, 182)\n",
      "(36, 58)\n"
     ]
    }
   ],
   "source": [
    "output_file('fbplot_taxisv1.html')\n",
    "fbplot_taxisv1 = functional_boxplot('../data/taxis_v1.csv',\"../outputs/taxis_v1_out.txt\",'01/01/2018','12/31/2018','tmd')\n",
    "show(fbplot_taxisv1)"
   ]
  },
  {
   "cell_type": "markdown",
   "metadata": {},
   "source": [
    "## Plot 1 year of air quality data"
   ]
  },
  {
   "cell_type": "code",
   "execution_count": 152,
   "metadata": {},
   "outputs": [
    {
     "name": "stderr",
     "output_type": "stream",
     "text": [
      "/home/pedro/anaconda3/lib/python3.6/site-packages/ipykernel_launcher.py:28: FutureWarning: Sorting because non-concatenation axis is not aligned. A future version\n",
      "of pandas will change to not sort by default.\n",
      "\n",
      "To accept the future behavior, pass 'sort=False'.\n",
      "\n",
      "To retain the current behavior and silence the warning, pass 'sort=True'.\n",
      "\n"
     ]
    },
    {
     "name": "stdout",
     "output_type": "stream",
     "text": [
      "(36, 195)\n",
      "(36, 100)\n"
     ]
    }
   ],
   "source": [
    "output_file('fbplot_airquality_v1.html')\n",
    "fbplot_taxisv1 = functional_boxplot('../data/airquality_v1.csv',\"../outputs/airquality_v1_out.txt\",'03/10/2004','04/04/2005','fd')\n",
    "show(fbplot_taxisv1)"
   ]
  },
  {
   "cell_type": "markdown",
   "metadata": {},
   "source": [
    "# Split datasets into weekdays and weekends"
   ]
  },
  {
   "cell_type": "code",
   "execution_count": 137,
   "metadata": {},
   "outputs": [
    {
     "name": "stdout",
     "output_type": "stream",
     "text": [
      "(36, 261) (36, 104)\n",
      "(36, 279) (36, 112)\n"
     ]
    }
   ],
   "source": [
    "def split_datasets(data_file, output_file, start_date, end_date):\n",
    "\n",
    "    data_aux = prepare_data(data_file, output_file, start_date, end_date)\n",
    "\n",
    "    aux = []\n",
    "    for col in data_aux.columns:\n",
    "        aux.append(col.isoweekday())\n",
    "\n",
    "    data_aux = data_aux.transpose()\n",
    "    data_aux[\"weekday\"] = aux\n",
    "    data_weekends = data_aux.loc[data_aux[\"weekday\"] > 5].drop(\"weekday\",axis=1).transpose()\n",
    "    data_weekdays = data_aux.loc[data_aux[\"weekday\"] < 6].drop(\"weekday\",axis=1).transpose()\n",
    "    return data_weekdays, data_weekends\n",
    "\n",
    "data_weekdays_taxi, data_weekends_taxi = split_datasets('../data/taxis_v1.csv',\"../outputs/taxis_v1_out.txt\",'01/01/2018','12/31/2018')\n",
    "data_weekdays_airquality, data_weekends_airquality = split_datasets('../data/airquality_v1.csv',\"../outputs/airquality_v1_out.txt\",'03/10/2004','04/04/2005')\n",
    "\n",
    "print(data_weekdays_taxi.shape, data_weekends_taxi.shape)\n",
    "print(data_weekdays_airquality.shape, data_weekends_airquality.shape)"
   ]
  },
  {
   "cell_type": "code",
   "execution_count": 160,
   "metadata": {},
   "outputs": [],
   "source": [
    "def functional_boxplot_from_df(data, depth_type):\n",
    "    \n",
    "    data_final   = data.sort_values(by=depth_type,axis=1)\n",
    "    \n",
    "    data_median    = data_final.iloc[:,data_final.shape[1]-1]\n",
    "    data_top50     = data_final.iloc[:,(data_final.shape[1]//2):data_final.shape[1]-1]\n",
    "    data_envelopes = get_envelopes(data_top50)\n",
    "    raw_outliers   = data_final.iloc[:,:(data_final.shape[1]//2)]\n",
    "    data_outliers  = get_outliers(raw_outliers,data_envelopes)\n",
    "    print(raw_outliers.shape)\n",
    "    print(data_outliers.shape)\n",
    "    data_ordered   = pd.concat([data_envelopes,data_outliers,data_median],axis=1)\n",
    "\n",
    "    color_list = [\"#f768a1\",\"black\",\"black\",\"#f768a1\"]+([\"red\"]*data_outliers.shape[1])+[\"blue\"]\n",
    "    alpha_list = [1.0]*4 + ([0.3]*data_outliers.shape[1]) + [1.0]\n",
    "    \n",
    "    numlines = len(data_ordered.columns)\n",
    "\n",
    "    p = figure(width=1000, height=800, x_axis_type=\"datetime\") \n",
    "    \n",
    "    upper_band = np.array(data_envelopes['top'].iloc[0:24])\n",
    "    lower_band = np.array(data_envelopes['bot'].iloc[0:24])\n",
    "    x          = np.array(data_ordered.index[0:24])\n",
    "    \n",
    "    xs = np.concatenate([x, x[::-1]])\n",
    "    ys = np.concatenate([lower_band, upper_band[::-1]])\n",
    "    \n",
    "    p.patch(x=xs, y=ys, fill_color=\"#f768a1\", fill_alpha=0.8, line_alpha=0, legend=\"IQR\")\n",
    "    \n",
    "    p.multi_line(xs=[data_ordered.index.values]*numlines,\n",
    "                 ys=[data_ordered[name].values for name in data_ordered.iloc[0:24]],\n",
    "                 line_color=color_list,\n",
    "                 line_width=5,\n",
    "                 alpha=alpha_list)\n",
    "\n",
    "    return p"
   ]
  },
  {
   "cell_type": "code",
   "execution_count": 173,
   "metadata": {},
   "outputs": [
    {
     "name": "stderr",
     "output_type": "stream",
     "text": [
      "/home/pedro/anaconda3/lib/python3.6/site-packages/ipykernel_launcher.py:28: FutureWarning: Sorting because non-concatenation axis is not aligned. A future version\n",
      "of pandas will change to not sort by default.\n",
      "\n",
      "To accept the future behavior, pass 'sort=False'.\n",
      "\n",
      "To retain the current behavior and silence the warning, pass 'sort=True'.\n",
      "\n",
      "/home/pedro/anaconda3/lib/python3.6/site-packages/ipykernel_launcher.py:28: FutureWarning: Sorting because non-concatenation axis is not aligned. A future version\n",
      "of pandas will change to not sort by default.\n",
      "\n",
      "To accept the future behavior, pass 'sort=False'.\n",
      "\n",
      "To retain the current behavior and silence the warning, pass 'sort=True'.\n",
      "\n"
     ]
    },
    {
     "name": "stdout",
     "output_type": "stream",
     "text": [
      "(36, 52)\n",
      "(36, 25)\n",
      "(36, 130)\n",
      "(36, 10)\n"
     ]
    }
   ],
   "source": [
    "fbplot_taxisv1_weekend = functional_boxplot_from_df(data_weekends_taxi,'od')\n",
    "fbplot_taxisv1_weekday = functional_boxplot_from_df(data_weekdays_taxi,'od')"
   ]
  },
  {
   "cell_type": "code",
   "execution_count": 174,
   "metadata": {},
   "outputs": [],
   "source": [
    "show(fbplot_taxisv1_weekday)\n",
    "show(fbplot_taxisv1_weekend)"
   ]
  },
  {
   "cell_type": "code",
   "execution_count": 175,
   "metadata": {},
   "outputs": [
    {
     "name": "stderr",
     "output_type": "stream",
     "text": [
      "/home/pedro/anaconda3/lib/python3.6/site-packages/ipykernel_launcher.py:28: FutureWarning: Sorting because non-concatenation axis is not aligned. A future version\n",
      "of pandas will change to not sort by default.\n",
      "\n",
      "To accept the future behavior, pass 'sort=False'.\n",
      "\n",
      "To retain the current behavior and silence the warning, pass 'sort=True'.\n",
      "\n",
      "/home/pedro/anaconda3/lib/python3.6/site-packages/ipykernel_launcher.py:28: FutureWarning: Sorting because non-concatenation axis is not aligned. A future version\n",
      "of pandas will change to not sort by default.\n",
      "\n",
      "To accept the future behavior, pass 'sort=False'.\n",
      "\n",
      "To retain the current behavior and silence the warning, pass 'sort=True'.\n",
      "\n"
     ]
    },
    {
     "name": "stdout",
     "output_type": "stream",
     "text": [
      "(36, 56)\n",
      "(36, 13)\n",
      "(36, 139)\n",
      "(36, 64)\n"
     ]
    }
   ],
   "source": [
    "fbplot_aqv1_weekend = functional_boxplot_from_df(data_weekends_airquality,'od')\n",
    "fbplot_aqv1_weekday = functional_boxplot_from_df(data_weekdays_airquality,'od')\n"
   ]
  },
  {
   "cell_type": "code",
   "execution_count": 176,
   "metadata": {
    "collapsed": true
   },
   "outputs": [],
   "source": [
    "show(fbplot_aqv1_weekday)\n",
    "show(fbplot_aqv1_weekend)"
   ]
  },
  {
   "cell_type": "markdown",
   "metadata": {},
   "source": [
    "# Tests and sandbox"
   ]
  },
  {
   "cell_type": "code",
   "execution_count": null,
   "metadata": {
    "collapsed": true
   },
   "outputs": [],
   "source": [
    "def get_color_from_depth(depth):\n",
    "    '''\n",
    "    if depth < 0.270425: return '#fef0d9'\n",
    "    if depth < 0.353502: return '#fdcc8a'\n",
    "    '''\n",
    "    if depth < 0.074495: return '#fef0d9'\n",
    "    else: return '#fdcc8a' \n",
    "\n",
    "\n",
    "data_outputs['color'] = data_outputs['td'].map(lambda x: get_color_from_depth(x))"
   ]
  },
  {
   "cell_type": "code",
   "execution_count": 9,
   "metadata": {
    "collapsed": true
   },
   "outputs": [],
   "source": [
    "p = figure(x_axis_type=\"datetime\", plot_width=950, title = \"Band plot\")\n",
    "#p.xaxis.major_label_orientation = pi/4\n",
    "p.xaxis.axis_label = \"X\"\n",
    "p.xaxis.axis_label_text_font_style='normal'\n",
    "p.yaxis.axis_label = \"Y\"\n",
    "p.yaxis.axis_label_text_font_style='normal'\n",
    "p.grid.grid_line_alpha=0.3\n",
    "\n",
    "# Values to be plotted\n",
    "upper_band = np.array([30,  32, 34, 35, 35, 33, 32, 31, 30])\n",
    "lower_band = np.array([25,  27, 30, 31, 32, 30, 30, 29, 28])\n",
    "x          = np.array([1,   2,  3,  4,  5,  6,  7,  8,  9])\n",
    "\n",
    "# Bands are drawn as patches. That is, a polygon specified by a series of 2D points\n",
    "# Because points are specified in clockwise order, the lower band needs to be reverse (Hence the [::-1])\n",
    "xs = np.concatenate([x, x[::-1]])\n",
    "ys = np.concatenate([upper_band, lower_band[::-1]])\n",
    "\n",
    "# Draw the area patch without border\n",
    "p.patch(x=xs, y=ys, fill_alpha=0.3, line_alpha=0, legend=\"Band\")\n",
    "\n",
    "# Draw the respective lines\n",
    "p.line(x, upper_band, line_alpha=0.8)\n",
    "p.line(x, lower_band, line_alpha=0.8)\n",
    "\n",
    "show(p)"
   ]
  },
  {
   "cell_type": "code",
   "execution_count": 25,
   "metadata": {},
   "outputs": [
    {
     "data": {
      "text/html": [
       "<div>\n",
       "<style scoped>\n",
       "    .dataframe tbody tr th:only-of-type {\n",
       "        vertical-align: middle;\n",
       "    }\n",
       "\n",
       "    .dataframe tbody tr th {\n",
       "        vertical-align: top;\n",
       "    }\n",
       "\n",
       "    .dataframe thead th {\n",
       "        text-align: right;\n",
       "    }\n",
       "</style>\n",
       "<table border=\"1\" class=\"dataframe\">\n",
       "  <thead>\n",
       "    <tr style=\"text-align: right;\">\n",
       "      <th></th>\n",
       "      <th>A</th>\n",
       "      <th>B</th>\n",
       "      <th>C</th>\n",
       "      <th>D</th>\n",
       "      <th>MAX</th>\n",
       "      <th>MIN</th>\n",
       "    </tr>\n",
       "  </thead>\n",
       "  <tbody>\n",
       "    <tr>\n",
       "      <th>0</th>\n",
       "      <td>0.444939</td>\n",
       "      <td>0.407554</td>\n",
       "      <td>0.460148</td>\n",
       "      <td>0.465239</td>\n",
       "      <td>1.0</td>\n",
       "      <td>0.5</td>\n",
       "    </tr>\n",
       "    <tr>\n",
       "      <th>1</th>\n",
       "      <td>0.462691</td>\n",
       "      <td>0.016545</td>\n",
       "      <td>0.850445</td>\n",
       "      <td>0.817744</td>\n",
       "      <td>1.0</td>\n",
       "      <td>0.5</td>\n",
       "    </tr>\n",
       "    <tr>\n",
       "      <th>2</th>\n",
       "      <td>0.777962</td>\n",
       "      <td>0.757983</td>\n",
       "      <td>0.934829</td>\n",
       "      <td>0.831104</td>\n",
       "      <td>1.0</td>\n",
       "      <td>0.5</td>\n",
       "    </tr>\n",
       "    <tr>\n",
       "      <th>3</th>\n",
       "      <td>0.879891</td>\n",
       "      <td>0.926879</td>\n",
       "      <td>0.721535</td>\n",
       "      <td>0.117642</td>\n",
       "      <td>1.0</td>\n",
       "      <td>0.5</td>\n",
       "    </tr>\n",
       "    <tr>\n",
       "      <th>4</th>\n",
       "      <td>0.145906</td>\n",
       "      <td>0.199844</td>\n",
       "      <td>0.437564</td>\n",
       "      <td>0.100702</td>\n",
       "      <td>1.0</td>\n",
       "      <td>0.5</td>\n",
       "    </tr>\n",
       "    <tr>\n",
       "      <th>5</th>\n",
       "      <td>0.278735</td>\n",
       "      <td>0.609862</td>\n",
       "      <td>0.085823</td>\n",
       "      <td>0.836997</td>\n",
       "      <td>1.0</td>\n",
       "      <td>0.5</td>\n",
       "    </tr>\n",
       "    <tr>\n",
       "      <th>6</th>\n",
       "      <td>0.739635</td>\n",
       "      <td>0.866059</td>\n",
       "      <td>0.691271</td>\n",
       "      <td>0.377185</td>\n",
       "      <td>1.0</td>\n",
       "      <td>0.5</td>\n",
       "    </tr>\n",
       "    <tr>\n",
       "      <th>7</th>\n",
       "      <td>0.225146</td>\n",
       "      <td>0.435280</td>\n",
       "      <td>0.700900</td>\n",
       "      <td>0.700946</td>\n",
       "      <td>1.0</td>\n",
       "      <td>0.5</td>\n",
       "    </tr>\n",
       "    <tr>\n",
       "      <th>8</th>\n",
       "      <td>0.796487</td>\n",
       "      <td>0.018688</td>\n",
       "      <td>0.700566</td>\n",
       "      <td>0.900749</td>\n",
       "      <td>1.0</td>\n",
       "      <td>0.5</td>\n",
       "    </tr>\n",
       "    <tr>\n",
       "      <th>9</th>\n",
       "      <td>0.764869</td>\n",
       "      <td>0.253200</td>\n",
       "      <td>0.548054</td>\n",
       "      <td>0.778883</td>\n",
       "      <td>1.0</td>\n",
       "      <td>0.5</td>\n",
       "    </tr>\n",
       "  </tbody>\n",
       "</table>\n",
       "</div>"
      ],
      "text/plain": [
       "          A         B         C         D  MAX  MIN\n",
       "0  0.444939  0.407554  0.460148  0.465239  1.0  0.5\n",
       "1  0.462691  0.016545  0.850445  0.817744  1.0  0.5\n",
       "2  0.777962  0.757983  0.934829  0.831104  1.0  0.5\n",
       "3  0.879891  0.926879  0.721535  0.117642  1.0  0.5\n",
       "4  0.145906  0.199844  0.437564  0.100702  1.0  0.5\n",
       "5  0.278735  0.609862  0.085823  0.836997  1.0  0.5\n",
       "6  0.739635  0.866059  0.691271  0.377185  1.0  0.5\n",
       "7  0.225146  0.435280  0.700900  0.700946  1.0  0.5\n",
       "8  0.796487  0.018688  0.700566  0.900749  1.0  0.5\n",
       "9  0.764869  0.253200  0.548054  0.778883  1.0  0.5"
      ]
     },
     "execution_count": 25,
     "metadata": {},
     "output_type": "execute_result"
    }
   ],
   "source": [
    "np.random.seed([3,1415])\n",
    "df = pd.DataFrame(np.random.rand(10, 4), columns=list('ABCD'))\n",
    "df['MAX'] = np.ones(10)\n",
    "df['MIN'] = [0.5] * 10\n",
    "df"
   ]
  },
  {
   "cell_type": "code",
   "execution_count": 36,
   "metadata": {
    "scrolled": true
   },
   "outputs": [
    {
     "data": {
      "text/html": [
       "<div>\n",
       "<style scoped>\n",
       "    .dataframe tbody tr th:only-of-type {\n",
       "        vertical-align: middle;\n",
       "    }\n",
       "\n",
       "    .dataframe tbody tr th {\n",
       "        vertical-align: top;\n",
       "    }\n",
       "\n",
       "    .dataframe thead th {\n",
       "        text-align: right;\n",
       "    }\n",
       "</style>\n",
       "<table border=\"1\" class=\"dataframe\">\n",
       "  <thead>\n",
       "    <tr style=\"text-align: right;\">\n",
       "      <th></th>\n",
       "      <th>A</th>\n",
       "      <th>C</th>\n",
       "      <th>D</th>\n",
       "    </tr>\n",
       "  </thead>\n",
       "  <tbody>\n",
       "    <tr>\n",
       "      <th>0</th>\n",
       "      <td>0.444939</td>\n",
       "      <td>0.460148</td>\n",
       "      <td>0.465239</td>\n",
       "    </tr>\n",
       "    <tr>\n",
       "      <th>1</th>\n",
       "      <td>0.462691</td>\n",
       "      <td>0.850445</td>\n",
       "      <td>0.817744</td>\n",
       "    </tr>\n",
       "    <tr>\n",
       "      <th>2</th>\n",
       "      <td>0.777962</td>\n",
       "      <td>0.934829</td>\n",
       "      <td>0.831104</td>\n",
       "    </tr>\n",
       "    <tr>\n",
       "      <th>3</th>\n",
       "      <td>0.879891</td>\n",
       "      <td>0.721535</td>\n",
       "      <td>0.117642</td>\n",
       "    </tr>\n",
       "    <tr>\n",
       "      <th>4</th>\n",
       "      <td>0.145906</td>\n",
       "      <td>0.437564</td>\n",
       "      <td>0.100702</td>\n",
       "    </tr>\n",
       "    <tr>\n",
       "      <th>5</th>\n",
       "      <td>0.278735</td>\n",
       "      <td>0.085823</td>\n",
       "      <td>0.836997</td>\n",
       "    </tr>\n",
       "    <tr>\n",
       "      <th>6</th>\n",
       "      <td>0.739635</td>\n",
       "      <td>0.691271</td>\n",
       "      <td>0.377185</td>\n",
       "    </tr>\n",
       "    <tr>\n",
       "      <th>7</th>\n",
       "      <td>0.225146</td>\n",
       "      <td>0.700900</td>\n",
       "      <td>0.700946</td>\n",
       "    </tr>\n",
       "    <tr>\n",
       "      <th>8</th>\n",
       "      <td>0.796487</td>\n",
       "      <td>0.700566</td>\n",
       "      <td>0.900749</td>\n",
       "    </tr>\n",
       "    <tr>\n",
       "      <th>9</th>\n",
       "      <td>0.764869</td>\n",
       "      <td>0.548054</td>\n",
       "      <td>0.778883</td>\n",
       "    </tr>\n",
       "  </tbody>\n",
       "</table>\n",
       "</div>"
      ],
      "text/plain": [
       "          A         C         D\n",
       "0  0.444939  0.460148  0.465239\n",
       "1  0.462691  0.850445  0.817744\n",
       "2  0.777962  0.934829  0.831104\n",
       "3  0.879891  0.721535  0.117642\n",
       "4  0.145906  0.437564  0.100702\n",
       "5  0.278735  0.085823  0.836997\n",
       "6  0.739635  0.691271  0.377185\n",
       "7  0.225146  0.700900  0.700946\n",
       "8  0.796487  0.700566  0.900749\n",
       "9  0.764869  0.548054  0.778883"
      ]
     },
     "execution_count": 36,
     "metadata": {},
     "output_type": "execute_result"
    }
   ],
   "source": [
    "aux = pd.DataFrame()\n",
    "df['B'] = ([0.8]*10)\n",
    "df['A'] = \n",
    "for col in df.columns:\n",
    "    if col != 'MAX' and col != 'MIN':\n",
    "        if (df[col] > df['MAX']).any() or (df[col] < df['MIN']).any(): \n",
    "            aux = pd.concat([aux,df[col]],axis=1)\n",
    "aux"
   ]
  },
  {
   "cell_type": "code",
   "execution_count": 100,
   "metadata": {},
   "outputs": [
    {
     "data": {
      "text/plain": [
       "DatetimeIndex(['2018-01-01', '2018-04-02', '2018-07-02', '2018-10-01',\n",
       "               '2018-12-31'],\n",
       "              dtype='datetime64[ns]', freq=None)"
      ]
     },
     "execution_count": 100,
     "metadata": {},
     "output_type": "execute_result"
    }
   ],
   "source": [
    "days = pd.date_range(start='01/01/2018', end='12/31/2018')\n",
    "weekdays = \n",
    "for day in days"
   ]
  },
  {
   "cell_type": "code",
   "execution_count": null,
   "metadata": {
    "collapsed": true
   },
   "outputs": [],
   "source": []
  }
 ],
 "metadata": {
  "kernelspec": {
   "display_name": "Python 3",
   "language": "python",
   "name": "python3"
  },
  "language_info": {
   "codemirror_mode": {
    "name": "ipython",
    "version": 3
   },
   "file_extension": ".py",
   "mimetype": "text/x-python",
   "name": "python",
   "nbconvert_exporter": "python",
   "pygments_lexer": "ipython3",
   "version": "3.6.3"
  }
 },
 "nbformat": 4,
 "nbformat_minor": 2
}
