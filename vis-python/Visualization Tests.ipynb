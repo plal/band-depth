{
 "cells": [
  {
   "cell_type": "code",
   "execution_count": 25,
   "metadata": {
    "collapsed": true
   },
   "outputs": [],
   "source": [
    "import pandas as pd\n",
    "import numpy as np\n",
    "from bokeh.plotting import figure, show, output_file"
   ]
  },
  {
   "cell_type": "code",
   "execution_count": 51,
   "metadata": {
    "collapsed": true
   },
   "outputs": [],
   "source": [
    "def plot_lines(data_file, output_file, depth_type, start_date, end_date, num_outliers, use_top50=False):\n",
    "    data = pd.read_csv(data_file)\n",
    "    data = data.set_index(pd.date_range(start=start_date, end=end_date).date)\n",
    "    data = data.transpose()\n",
    "    data = data.set_index(pd.date_range(start=start_date, periods=24, freq='H').time)\n",
    "\n",
    "    data_outputs = pd.read_csv(output_file).set_index(pd.date_range(start=start_date, end=end_date).date)\n",
    "\n",
    "    data_outputs = data_outputs.transpose()\n",
    "\n",
    "    data_final = pd.concat([data,data_outputs])\n",
    "\n",
    "    data_final = data_final.sort_values(by=depth_type,axis=1)\n",
    "    \n",
    "    data_outliers = data_final.iloc[:,:num_outliers]\n",
    "    data_median   = data_final.iloc[:,data_final.shape[1]-1]\n",
    "    if use_top50:\n",
    "        data_top50    = data_final.iloc[:,(data_final.shape[1]//2):data_final.shape[1]-1]\n",
    "        data_ordered  = pd.concat([data_top50, data_outliers, data_median], axis=1)\n",
    "    else:\n",
    "        data_middle   = data_final.iloc[:,num_outliers:data_final.shape[1]-1]\n",
    "        data_ordered  = pd.concat([data_middle, data_outliers, data_median], axis=1)\n",
    "    pcrint(data_ordered.shape)\n",
    "    \n",
    "    color_top50 = [\"#fbb4b9\"] * (data_ordered.shape[1] - (num_outliers+1))\n",
    "    color_median = [\"Blue\"]\n",
    "    color_outliers = [\"Red\"] * num_outliers\n",
    "    color_list = color_top50 + color_outliers + color_median\n",
    "    \n",
    "    alpha_list = [0.5] * data_final.shape[1]\n",
    "    alpha_list[0:num_outliers] = [1] * num_outliers\n",
    "    alpha_list[len(alpha_list)-1] = 1\n",
    "\n",
    "    numlines = len(data_ordered.columns)\n",
    "\n",
    "    p = figure(width=1000, height=800, x_axis_type=\"datetime\") \n",
    "    p.multi_line(xs=[data_ordered.index.values]*numlines,\n",
    "                 ys=[data_ordered[name].values for name in data_ordered.iloc[0:24]],\n",
    "                 line_color=color_list,\n",
    "                 line_width=5)\n",
    "    return p"
   ]
  },
  {
   "cell_type": "code",
   "execution_count": 52,
   "metadata": {},
   "outputs": [
    {
     "name": "stdout",
     "output_type": "stream",
     "text": [
      "(36, 933)\n"
     ]
    }
   ],
   "source": [
    "output_file('taxis_v3_top50.html')\n",
    "plot_taxis_v3 = plot_lines('../data/taxis_v3.csv',\"../outputs/taxis_v3_out.txt\",'tmd','1/1/2014','12/31/2018', 20, use_top50=True)\n",
    "show(plot_taxis_v3)"
   ]
  },
  {
   "cell_type": "code",
   "execution_count": 53,
   "metadata": {},
   "outputs": [
    {
     "name": "stdout",
     "output_type": "stream",
     "text": [
      "(36, 1826)\n"
     ]
    }
   ],
   "source": [
    "output_file('taxis_v3_full.html')\n",
    "plot_taxis_v3 = plot_lines('../data/taxis_v3.csv',\"../outputs/taxis_v3_out.txt\",'tmd','1/1/2014','12/31/2018', 20)\n",
    "show(plot_taxis_v3)"
   ]
  },
  {
   "cell_type": "code",
   "execution_count": 54,
   "metadata": {},
   "outputs": [
    {
     "name": "stdout",
     "output_type": "stream",
     "text": [
      "(36, 568)\n"
     ]
    }
   ],
   "source": [
    "output_file('taxis_v2_top50.html')\n",
    "plot_taxis_v2 = plot_lines('../data/taxis_v2.csv',\"../outputs/taxis_v2_out.txt\",'tmd','1/1/2016','12/31/2018', 20, use_top50=True)\n",
    "show(plot_taxis_v2)"
   ]
  },
  {
   "cell_type": "code",
   "execution_count": 55,
   "metadata": {},
   "outputs": [
    {
     "name": "stdout",
     "output_type": "stream",
     "text": [
      "(36, 1096)\n"
     ]
    }
   ],
   "source": [
    "output_file('taxis_v2_full.html')\n",
    "plot_taxis_v2 = plot_lines('../data/taxis_v2.csv',\"../outputs/taxis_v2_out.txt\",'tmd','1/1/2016','12/31/2018', 20)\n",
    "show(plot_taxis_v2)"
   ]
  },
  {
   "cell_type": "code",
   "execution_count": 56,
   "metadata": {},
   "outputs": [
    {
     "name": "stdout",
     "output_type": "stream",
     "text": [
      "(36, 203)\n"
     ]
    }
   ],
   "source": [
    "output_file('taxis_v1_top50.html')\n",
    "plot_taxis_v1 = plot_lines('../data/taxis_v1.csv',\"../outputs/taxis_v1_out.txt\",'tmd','1/1/2018','12/31/2018', 20, use_top50=True)\n",
    "show(plot_taxis_v1)"
   ]
  },
  {
   "cell_type": "code",
   "execution_count": 57,
   "metadata": {
    "scrolled": true
   },
   "outputs": [
    {
     "name": "stdout",
     "output_type": "stream",
     "text": [
      "(36, 365)\n"
     ]
    }
   ],
   "source": [
    "output_file('taxis_v1_full.html')\n",
    "plot_taxis_v1 = plot_lines('../data/taxis_v1.csv',\"../outputs/taxis_v1_out.txt\",'od','1/1/2018','12/31/2018', 20)\n",
    "show(plot_taxis_v1)"
   ]
  },
  {
   "cell_type": "code",
   "execution_count": 58,
   "metadata": {},
   "outputs": [
    {
     "name": "stdout",
     "output_type": "stream",
     "text": [
      "(36, 216)\n"
     ]
    }
   ],
   "source": [
    "output_file('airquality_v1_top50.html')\n",
    "plot_airquality_v1 = plot_lines('../data/airquality_v1.csv',\"../outputs/airquality_v1_out.txt\",'fd','03/10/2004','04/04/2005',20, use_top50=True)\n",
    "show(plot_airquality_v1)"
   ]
  },
  {
   "cell_type": "code",
   "execution_count": 59,
   "metadata": {},
   "outputs": [
    {
     "name": "stdout",
     "output_type": "stream",
     "text": [
      "(36, 391)\n"
     ]
    }
   ],
   "source": [
    "output_file('airquality_v1_full.html')\n",
    "plot_airquality_v1 = plot_lines('../data/airquality_v1.csv',\"../outputs/airquality_v1_out.txt\",'fd','03/10/2004','04/04/2005',20)\n",
    "show(plot_airquality_v1)"
   ]
  },
  {
   "cell_type": "code",
   "execution_count": 35,
   "metadata": {
    "scrolled": true
   },
   "outputs": [
    {
     "ename": "NameError",
     "evalue": "name 'data_outputs' is not defined",
     "output_type": "error",
     "traceback": [
      "\u001b[0;31m---------------------------------------------------------------------------\u001b[0m",
      "\u001b[0;31mNameError\u001b[0m                                 Traceback (most recent call last)",
      "\u001b[0;32m<ipython-input-35-53f7a668bdcd>\u001b[0m in \u001b[0;36m<module>\u001b[0;34m()\u001b[0m\n\u001b[0;32m----> 1\u001b[0;31m \u001b[0mdata_outputs\u001b[0m\u001b[0;34m[\u001b[0m\u001b[0;34m'td'\u001b[0m\u001b[0;34m]\u001b[0m\u001b[0;34m.\u001b[0m\u001b[0mquantile\u001b[0m\u001b[0;34m(\u001b[0m\u001b[0;34m[\u001b[0m\u001b[0;36m0.25\u001b[0m\u001b[0;34m,\u001b[0m\u001b[0;36m0.5\u001b[0m\u001b[0;34m,\u001b[0m\u001b[0;36m0.75\u001b[0m\u001b[0;34m]\u001b[0m\u001b[0;34m)\u001b[0m\u001b[0;34m\u001b[0m\u001b[0m\n\u001b[0m",
      "\u001b[0;31mNameError\u001b[0m: name 'data_outputs' is not defined"
     ]
    }
   ],
   "source": [
    "data_outputs['td'].quantile([0.25,0.5,0.75])"
   ]
  },
  {
   "cell_type": "markdown",
   "metadata": {},
   "source": [
    "# Functional Boxplot"
   ]
  },
  {
   "cell_type": "code",
   "execution_count": 118,
   "metadata": {
    "collapsed": true
   },
   "outputs": [],
   "source": [
    "def get_envelopes(data_top50):\n",
    "    df_max = data_top50.max(axis=1)\n",
    "    df_min = data_top50.min(axis=1)\n",
    "    \n",
    "    iqr = df_max - df_min\n",
    "    mid = (df_max + df_min)//2\n",
    "    out_top = mid + (0.75*iqr)\n",
    "    out_bot = mid - (0.75*iqr)\n",
    "    \n",
    "    return pd.concat({'top':df_max,'bot':df_min,'out_top':out_top,'out_bot':out_bot},axis=1)\n",
    "\n",
    "def functional_boxplot(data_file, output_file, start_date, end_date, depth_type):\n",
    "    data = pd.read_csv(data_file)\n",
    "    data = data.set_index(pd.date_range(start=start_date, end=end_date).date)\n",
    "    data = data.transpose()\n",
    "    data = data.set_index(pd.date_range(start=start_date, periods=24, freq='H').time)\n",
    "\n",
    "    data_outputs = pd.read_csv(output_file).set_index(pd.date_range(start=start_date, end=end_date).date)\n",
    "\n",
    "    data_outputs = data_outputs.transpose()\n",
    "\n",
    "    data_final = pd.concat([data,data_outputs])\n",
    "\n",
    "    data_final = data_final.sort_values(by=depth_type,axis=1)\n",
    "    \n",
    "    data_median   = data_final.iloc[:,data_final.shape[1]-1]\n",
    "    data_top50    = data_final.iloc[:,(data_final.shape[1]//2):data_final.shape[1]-1]\n",
    "    data_envelopes = get_envelopes(data_top50)\n",
    "    data_ordered = pd.concat([data_envelopes,data_median],axis=1)\n",
    "\n",
    "    color_list = [\"pink\",\"black\",\"black\",\"pink\",\"blue\"]\n",
    "    \n",
    "    numlines = len(data_ordered.columns)\n",
    "\n",
    "    p = figure(width=1000, height=800, x_axis_type=\"datetime\") \n",
    "    p.multi_line(xs=[data_ordered.index.values]*numlines,\n",
    "                 ys=[data_ordered[name].values for name in data_ordered.iloc[0:24]],\n",
    "                 line_color=color_list,\n",
    "                 line_width=5)\n",
    "    return p"
   ]
  },
  {
   "cell_type": "code",
   "execution_count": 119,
   "metadata": {},
   "outputs": [],
   "source": [
    "output_file('fbplot_taxisv1.html')\n",
    "fbplot_taxisv1 = functional_boxplot('../data/taxis_v1.csv',\"../outputs/taxis_v1_out.txt\",'01/01/2018','12/31/2018','omd')\n",
    "show(fbplot_taxisv1)"
   ]
  },
  {
   "cell_type": "code",
   "execution_count": null,
   "metadata": {
    "collapsed": true
   },
   "outputs": [],
   "source": [
    "def get_color_from_depth(depth):\n",
    "    '''\n",
    "    if depth < 0.270425: return '#fef0d9'\n",
    "    if depth < 0.353502: return '#fdcc8a'\n",
    "    '''\n",
    "    if depth < 0.074495: return '#fef0d9'\n",
    "    else: return '#fdcc8a' \n",
    "\n",
    "\n",
    "data_outputs['color'] = data_outputs['td'].map(lambda x: get_color_from_depth(x))"
   ]
  },
  {
   "cell_type": "code",
   "execution_count": null,
   "metadata": {
    "collapsed": true
   },
   "outputs": [],
   "source": []
  }
 ],
 "metadata": {
  "kernelspec": {
   "display_name": "Python 3",
   "language": "python",
   "name": "python3"
  },
  "language_info": {
   "codemirror_mode": {
    "name": "ipython",
    "version": 3
   },
   "file_extension": ".py",
   "mimetype": "text/x-python",
   "name": "python",
   "nbconvert_exporter": "python",
   "pygments_lexer": "ipython3",
   "version": "3.6.3"
  }
 },
 "nbformat": 4,
 "nbformat_minor": 2
}
