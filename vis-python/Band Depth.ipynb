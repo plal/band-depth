{
 "cells": [
  {
   "cell_type": "markdown",
   "metadata": {},
   "source": [
    "# Band Depth"
   ]
  },
  {
   "cell_type": "markdown",
   "metadata": {},
   "source": [
    "Given an ensemble of data drawn from a distribution F, _data depth_ quantifies how central (or deep) is a particular sample within the cloud of the sampled data. The deeper samples are considered more representative of the ensemble and are assigned high depth values whereas samples farther away from the rest of the ensemble are considered to be outliers and are correspondingly assigned lower depth values. Therefore, the notion of data depth provides a center outward ordering (also known as order statistics) for an ensemble of sampled data. [Mirzagar, Whitaker (2014)](https://ieeexplore.ieee.org/stamp/stamp.jsp?arnumber=6875964)\n",
    "\n",
    "The work of [Lopez-Pintado, Romo (2009)](https://www.tandfonline.com/doi/pdf/10.1198/jasa.2009.0108) introduces the notion of _functional band depth_, a generalization of data depth for a higher dimension that is designed for ensembles of functions. The difference between the notion of functional band depth and other generalizations for higher dimensions is that it goes beyond the point-wise analysis of functional data, it provides a measure of centrality of a function among an ensemble of functional data that is both sensitive to the shape and the position of a function in comparison to the rest of ensemble members."
   ]
  },
  {
   "cell_type": "code",
   "execution_count": 1,
   "metadata": {
    "collapsed": true
   },
   "outputs": [],
   "source": [
    "from curves import plot_lines, functional_boxplot, functional_boxplot_from_df, split_datasets\n",
    "from bokeh.plotting import show, output_file"
   ]
  },
  {
   "cell_type": "code",
   "execution_count": 6,
   "metadata": {},
   "outputs": [
    {
     "name": "stdout",
     "output_type": "stream",
     "text": [
      "(36, 1826)\n"
     ]
    }
   ],
   "source": [
    "output_file('taxis_v3_top50.html')\n",
    "plot_taxis_v3 = plot_lines('../data/taxis_v3.csv',\"../outputs/taxis_v3_out.txt\",'fd','1/1/2014','12/31/2018', 20, use_top50=False)\n",
    "show(plot_taxis_v3)"
   ]
  },
  {
   "cell_type": "code",
   "execution_count": 7,
   "metadata": {},
   "outputs": [
    {
     "name": "stderr",
     "output_type": "stream",
     "text": [
      "/home/pedro/pedro.backup/projects/band-depth/vis-python/curves.py:84: FutureWarning: Sorting because non-concatenation axis is not aligned. A future version\n",
      "of pandas will change to not sort by default.\n",
      "\n",
      "To accept the future behavior, pass 'sort=False'.\n",
      "\n",
      "To retain the current behavior and silence the warning, pass 'sort=True'.\n",
      "\n",
      "  data_outliers = pd.concat([data_outliers,raw_outliers[col]],axis=1)\n"
     ]
    },
    {
     "name": "stdout",
     "output_type": "stream",
     "text": [
      "(36, 53)\n",
      "(36, 5)\n",
      "DatetimeIndex(['2018-01-01', '2018-12-25', '2018-12-26', '2018-08-19',\n",
      "               '2018-12-30'],\n",
      "              dtype='datetime64[ns]', freq=None)\n"
     ]
    }
   ],
   "source": [
    "output_file('fbplot_taxisv1.html')\n",
    "fbplot_taxisv1 = functional_boxplot('../data/taxis_v1.csv',\"../outputs/taxis_v1_out.txt\",'01/01/2018','12/31/2018','tmd')\n",
    "show(fbplot_taxisv1)"
   ]
  },
  {
   "cell_type": "code",
   "execution_count": 8,
   "metadata": {},
   "outputs": [
    {
     "name": "stdout",
     "output_type": "stream",
     "text": [
      "(36, 261) (36, 104)\n"
     ]
    }
   ],
   "source": [
    "data_weekdays_taxi, data_weekends_taxi = split_datasets('../data/taxis_v1.csv',\"../outputs/taxis_v1_out.txt\",'01/01/2018','12/31/2018')\n",
    "print(data_weekdays_taxi.shape, data_weekends_taxi.shape)"
   ]
  },
  {
   "cell_type": "code",
   "execution_count": 9,
   "metadata": {},
   "outputs": [
    {
     "name": "stderr",
     "output_type": "stream",
     "text": [
      "/home/pedro/pedro.backup/projects/band-depth/vis-python/curves.py:84: FutureWarning: Sorting because non-concatenation axis is not aligned. A future version\n",
      "of pandas will change to not sort by default.\n",
      "\n",
      "To accept the future behavior, pass 'sort=False'.\n",
      "\n",
      "To retain the current behavior and silence the warning, pass 'sort=True'.\n",
      "\n",
      "  data_outliers = pd.concat([data_outliers,raw_outliers[col]],axis=1)\n"
     ]
    },
    {
     "name": "stdout",
     "output_type": "stream",
     "text": [
      "(36, 5)\n",
      "(36, 5)\n",
      "DatetimeIndex(['2018-01-01', '2018-04-03', '2018-04-19', '2018-05-31',\n",
      "               '2018-01-04'],\n",
      "              dtype='datetime64[ns]', freq=None)\n"
     ]
    }
   ],
   "source": [
    "fbplot_taxisv1_weekday_od = functional_boxplot_from_df(data_weekdays_taxi,'od','Taxi trips on weekdays using original depth')\n",
    "show(fbplot_taxisv1_weekday_od)"
   ]
  },
  {
   "cell_type": "code",
   "execution_count": null,
   "metadata": {
    "collapsed": true
   },
   "outputs": [],
   "source": []
  }
 ],
 "metadata": {
  "kernelspec": {
   "display_name": "Python 3",
   "language": "python",
   "name": "python3"
  },
  "language_info": {
   "codemirror_mode": {
    "name": "ipython",
    "version": 3
   },
   "file_extension": ".py",
   "mimetype": "text/x-python",
   "name": "python",
   "nbconvert_exporter": "python",
   "pygments_lexer": "ipython3",
   "version": "3.6.9"
  }
 },
 "nbformat": 4,
 "nbformat_minor": 2
}
