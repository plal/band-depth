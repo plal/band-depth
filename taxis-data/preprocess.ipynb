{
 "cells": [
  {
   "cell_type": "code",
   "execution_count": 27,
   "metadata": {},
   "outputs": [],
   "source": [
    "import pandas as pd\n",
    "import numpy as np"
   ]
  },
  {
   "cell_type": "code",
   "execution_count": 28,
   "metadata": {},
   "outputs": [],
   "source": [
    "name = 'yellow_tripdata_2018-01.csv'"
   ]
  },
  {
   "cell_type": "code",
   "execution_count": null,
   "metadata": {},
   "outputs": [],
   "source": [
    "def get_formatted_df(fname):\n",
    "    data = pd.read_csv(fname)\n",
    "\n",
    "    data[\"day\"] = data[\"tpep_pickup_datetime\"].str.split(\" \", n = 1, expand = True)[0]\n",
    "    data[\"hour\"] = data[\"tpep_pickup_datetime\"].str.split(\" \", n = 1, expand = True)[1].str.split(\":\", n=1, expand=True)[0]\n",
    "\n",
    "    data_selected = data[[\"day\",\"hour\",\"passenger_count\"]]\n",
    "\n",
    "    data_clean = data_selected.loc[data_selected[\"day\"].str.contains(\"2018-01-\"), :]\n",
    "\n",
    "    data_clean[(data_clean['day'] == \"2018-01-04\") & (data_clean['hour'] == \"09\")]\n",
    "\n",
    "    aa = data_clean.groupby([\"day\",\"hour\"]).count()\n",
    "\n",
    "    aa = aa.pivot_table(index=\"day\", columns=\"hour\", values=\"passenger_count\")\n",
    "    outname = fname.split(\".\")[0] + \"_formatted.csv\"\n",
    "    aa.to_csv(outname, index=False)\n",
    "\n",
    "get_formatted_df(name)"
   ]
  },
  {
   "cell_type": "code",
   "execution_count": null,
   "metadata": {},
   "outputs": [],
   "source": []
  }
 ],
 "metadata": {
  "kernelspec": {
   "display_name": "Python 3",
   "language": "python",
   "name": "python3"
  },
  "language_info": {
   "codemirror_mode": {
    "name": "ipython",
    "version": 3
   },
   "file_extension": ".py",
   "mimetype": "text/x-python",
   "name": "python",
   "nbconvert_exporter": "python",
   "pygments_lexer": "ipython3",
   "version": "3.7.3"
  }
 },
 "nbformat": 4,
 "nbformat_minor": 2
}
