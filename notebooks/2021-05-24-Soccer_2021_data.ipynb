{
 "cells": [
  {
   "cell_type": "code",
   "execution_count": 1,
   "id": "6f23df89",
   "metadata": {},
   "outputs": [],
   "source": [
    "import pandas as pd\n",
    "from pathlib import Path\n",
    "from lxml import html\n",
    "import requests"
   ]
  },
  {
   "cell_type": "code",
   "execution_count": 2,
   "id": "208ed06d",
   "metadata": {},
   "outputs": [],
   "source": [
    "team_abbreviation_dict = {\n",
    "    'West-Ham':'West-Ham-United',\n",
    "    'Wolves':'Wolverhampton-Wanderers',\n",
    "    'Brighton':'Brighton-and-Hove-Albion',\n",
    "    'West-Brom':'West-Bromwich-Albion',\n",
    "    'Eint-Frankfurt':'Eintracht-Frankfurt',\n",
    "    'Leverkusen':'Bayer-Leverkusen',\n",
    "    \"M'Gladbach\":'Monchengladbach',\n",
    "}"
   ]
  },
  {
   "cell_type": "code",
   "execution_count": 3,
   "id": "84787e96",
   "metadata": {},
   "outputs": [],
   "source": [
    "def format_team_name(name):\n",
    "    # 1. Format name to desired pattern\n",
    "    if 'Utd' in name:\n",
    "        name = name.replace('Utd','United')\n",
    "    name = name.replace(' ','-')\n",
    "    \n",
    "    # 2. If name is abbreviation, get full name from dict\n",
    "    if name in team_abbreviation_dict.keys():\n",
    "        name = team_abbreviation_dict[name]\n",
    "        \n",
    "    return name"
   ]
  },
  {
   "cell_type": "code",
   "execution_count": 4,
   "id": "2f490b5e",
   "metadata": {},
   "outputs": [],
   "source": [
    "def fill_team_points(team_df):\n",
    "    points = 0\n",
    "    for idx, row in team_df.iterrows():\n",
    "        if row['Result'] == 'W':\n",
    "            points += 3\n",
    "            team_df.loc[idx,'Points'] = int(points)\n",
    "        elif row['Result'] == 'D':\n",
    "            points += 1\n",
    "            team_df.loc[idx,'Points'] = int(points)\n",
    "        else:\n",
    "            team_df.loc[idx,'Points'] = int(points)"
   ]
  },
  {
   "cell_type": "code",
   "execution_count": 5,
   "id": "7f7ff1bf",
   "metadata": {},
   "outputs": [],
   "source": [
    "def get_team_stats(team_name, team_stats_url, competition):\n",
    "    '''\n",
    "        team_name: team to get data from\n",
    "        team_stats_url: url of fbref where team table is stored\n",
    "    '''\n",
    "    # 1. Get team stats table from site and\n",
    "    #    filter to Premier League games\n",
    "    team_stats = pd.read_html(team_stats_url)[1]\n",
    "    team_stats = team_stats[team_stats['Comp'] == competition]\n",
    "    \n",
    "    # 2. Select columns and format specific ones\n",
    "    team_stats = team_stats[['Round','Date','Opponent','Result','GF','GA']]\n",
    "    team_stats['Round'] = team_stats['Round'].apply(lambda x: x.split(' ')[1]).apply(pd.to_numeric)\n",
    "    team_stats['Date']  = team_stats['Date'].apply(pd.to_datetime)\n",
    "    team_stats['Opponent'] = team_stats['Opponent'].apply(lambda x: format_team_name(x))\n",
    "    \n",
    "    # 3. Sort data by round\n",
    "    team_stats = team_stats.sort_values(by=['Round'])\n",
    "    team_stats = team_stats.reset_index(drop=True)\n",
    "    \n",
    "    # 4. Compute team points and add team name to each data point\n",
    "    fill_team_points(team_stats)\n",
    "    team_stats['Team'] = team_name\n",
    "    \n",
    "    # 5. Reorganize columns to make sense\n",
    "    team_stats = team_stats[['Round','Date','Team','Opponent','GF','GA','Points']]\n",
    "\n",
    "    return team_stats"
   ]
  },
  {
   "cell_type": "code",
   "execution_count": 6,
   "id": "afba98b9",
   "metadata": {},
   "outputs": [],
   "source": [
    "def get_soccer_stats(competition, stats_table_url):\n",
    "    '''\n",
    "        competition: name of competition to get data (e.g. Premier League, Bundesliga, Serie A)\n",
    "        stats_table_url: url of fbref.com where competition table is;\n",
    "    '''\n",
    "    # 1. Get list of team names from table\n",
    "    table_df = pd.read_html(stats_table_url)[0]\n",
    "    team_names = [format_team_name(name) for name in list(table_df['Squad'])]\n",
    "    \n",
    "    # 2. Get team stats urls for each team in table\n",
    "    page = requests.get(stats_table_url)\n",
    "    tree = html.fromstring(page.content)\n",
    "    root_url = 'https://fbref.com'\n",
    "    team_urls = tree.xpath('//*[contains(@id,\"_overall\")]/tbody/tr/td[@class=\"left \"]/a')\n",
    "    \n",
    "    # 3. Get data for each team\n",
    "    all_teams = []\n",
    "    for i in range(len(team_urls)):\n",
    "        link = team_urls[i]\n",
    "        team_urls[i] = root_url+link.xpath('@href')[0]\n",
    "        \n",
    "        team_name = team_names[i]\n",
    "        print(f\"Fetching data for: {team_name}...\")\n",
    "        team_data = get_team_stats(team_name, team_urls[i], competition)\n",
    "        \n",
    "        all_teams.append(team_data)\n",
    "        \n",
    "    # Build csv with every team\n",
    "    return pd.concat(all_teams)\n",
    "    "
   ]
  },
  {
   "cell_type": "code",
   "execution_count": 7,
   "id": "7c6c6009",
   "metadata": {},
   "outputs": [],
   "source": [
    "def find_rank(pts, rnd, all_df):\n",
    "    round_pts_list = sorted(list(set(list(all_df[all_df.Round==rnd]['Points']))), reverse=True)\n",
    "    return round_pts_list.index(pts)\n",
    "    \n",
    "def fill_ranks(team_df, all_df):\n",
    "    for idx, row in team_df.iterrows():\n",
    "        team_df.loc[idx,'Ranking'] = find_rank(team_df.loc[idx,'Points'],idx+1, all_df)\n",
    "  "
   ]
  },
  {
   "cell_type": "code",
   "execution_count": 13,
   "id": "656b6dd2",
   "metadata": {},
   "outputs": [],
   "source": [
    "def build_and_save_soccer_data(competition, year, stats_table_url):\n",
    "    '''\n",
    "        competition: name of competition to get data (e.g. Premier League, Bundesliga, Serie A)\n",
    "        stats_table_url: url of fbref.com where competition table is;\n",
    "    '''\n",
    "    \n",
    "    # 1. Get raw data from each team and group it into one dataframe\n",
    "    raw_data = get_soccer_stats(competition, stats_table_url)\n",
    "    \n",
    "    # 2. Build paths to save files\n",
    "    data_path = \"..//data//Soccer//\" + competition.lower().replace(' ','_') +'_'+ str(year)\n",
    "    data_folder = Path(data_path)\n",
    "    data_folder.mkdir(parents=True, exist_ok=True)\n",
    "\n",
    "    teams_folder = data_folder / 'teams'\n",
    "    teams_folder.mkdir(parents=True, exist_ok=True)\n",
    "    \n",
    "    # 3. From dataframe with all teams, get ranking of each team\n",
    "    #    in each GP of season, update team dataframe and save each\n",
    "    #    team dataframe\n",
    "    all_df_wrank = []\n",
    "    for team, team_df in raw_data.groupby('Team'):\n",
    "        fill_ranks(team_df, raw_data)\n",
    "        team_df.to_csv(str(teams_folder)+'//' + team, index=False)\n",
    "        all_df_wrank.append(team_df)\n",
    "        \n",
    "    # 4. Get dataframe with all teams updated dataframes with ranking\n",
    "    #    and save it\n",
    "    all_df_wrank = pd.concat(all_df_wrank)\n",
    "    all_df_wrank.to_csv(str(data_folder) + '//' + competition.lower().replace(' ','_') + \"_all_\"+str(year), index=False)"
   ]
  },
  {
   "cell_type": "code",
   "execution_count": 21,
   "id": "ff2a18e9",
   "metadata": {
    "scrolled": false
   },
   "outputs": [
    {
     "name": "stdout",
     "output_type": "stream",
     "text": [
      "Fetching data for: Bayern-Munich...\n",
      "Fetching data for: Dortmund...\n",
      "Fetching data for: RB-Leipzig...\n",
      "Fetching data for: Monchengladbach...\n",
      "Fetching data for: Bayer-Leverkusen...\n",
      "Fetching data for: Hoffenheim...\n",
      "Fetching data for: Wolfsburg...\n",
      "Fetching data for: Freiburg...\n",
      "Fetching data for: Eintracht-Frankfurt...\n",
      "Fetching data for: Hertha-BSC...\n",
      "Fetching data for: Union-Berlin...\n",
      "Fetching data for: Schalke-04...\n",
      "Fetching data for: Mainz-05...\n",
      "Fetching data for: Köln...\n",
      "Fetching data for: Augsburg...\n",
      "Fetching data for: Werder-Bremen...\n",
      "Fetching data for: Düsseldorf...\n",
      "Fetching data for: Paderborn-07...\n"
     ]
    }
   ],
   "source": [
    "build_and_save_soccer_data('Bundesliga', 2020, 'https://fbref.com/en/comps/20/3248/2019-2020-Bundesliga-Stats')"
   ]
  },
  {
   "cell_type": "code",
   "execution_count": null,
   "id": "1ecd2ecc",
   "metadata": {},
   "outputs": [],
   "source": []
  }
 ],
 "metadata": {
  "kernelspec": {
   "display_name": "Python 3",
   "language": "python",
   "name": "python3"
  },
  "language_info": {
   "codemirror_mode": {
    "name": "ipython",
    "version": 3
   },
   "file_extension": ".py",
   "mimetype": "text/x-python",
   "name": "python",
   "nbconvert_exporter": "python",
   "pygments_lexer": "ipython3",
   "version": "3.9.5"
  }
 },
 "nbformat": 4,
 "nbformat_minor": 5
}
