{
 "cells": [
  {
   "cell_type": "code",
   "execution_count": 1,
   "id": "0f0d2c2e",
   "metadata": {},
   "outputs": [],
   "source": [
    "import pandas as pd\n",
    "from bokeh.plotting import figure, show, ColumnDataSource\n",
    "from bokeh.models.formatters import DatetimeTickFormatter, NumeralTickFormatter\n",
    "from bokeh.models.tools import HoverTool\n",
    "from bokeh.layouts import row\n",
    "from pathlib import Path"
   ]
  },
  {
   "cell_type": "code",
   "execution_count": 2,
   "id": "324b2913",
   "metadata": {},
   "outputs": [
    {
     "name": "stderr",
     "output_type": "stream",
     "text": [
      "  % Total    % Received % Xferd  Average Speed   Time    Time     Time  Current\n",
      "                                 Dload  Upload   Total   Spent    Left  Speed\n",
      "\n",
      "  0     0    0     0    0     0      0      0 --:--:-- --:--:-- --:--:--     0\n",
      "  0     0    0     0    0     0      0      0 --:--:--  0:00:01 --:--:--     0\n",
      "  0 24.3M    0   918    0     0    541      0 13:05:02  0:00:01 13:05:01   541\n",
      " 22 24.3M   22 5574k    0     0  2123k      0  0:00:11  0:00:02  0:00:09 2122k\n",
      " 66 24.3M   66 16.2M    0     0  4583k      0  0:00:05  0:00:03  0:00:02 4582k\n",
      "100 24.3M  100 24.3M    0     0  5715k      0  0:00:04  0:00:04 --:--:-- 5716k\n"
     ]
    }
   ],
   "source": [
    "!curl https://raw.githubusercontent.com/owid/covid-19-data/master/public/data/owid-covid-data.csv -o covid_data.csv"
   ]
  },
  {
   "cell_type": "code",
   "execution_count": 3,
   "id": "7a4be5bf",
   "metadata": {},
   "outputs": [],
   "source": [
    "def find_rank(data, date, all_df, column):\n",
    "    '''\n",
    "        data: value of column to find ranking;\n",
    "        date: data to get ranking from;\n",
    "        all_df: dataframe containing data of every location;\n",
    "        column: feature to get ranking;\n",
    "    '''\n",
    "    data_list = sorted(list(set(list(all_df[all_df.date==date][column]))), reverse=True)\n",
    "    return data_list.index(data)\n",
    "    \n",
    "def fill_ranks(location_df, all_df, columns):\n",
    "    '''\n",
    "        location_df: data frame with location data;\n",
    "        all_df: dataframe containing data of every location;\n",
    "        columns: list of features to get rankings;\n",
    "    '''\n",
    "    for column in columns:\n",
    "        for idx, row in location_df.iterrows():\n",
    "            location_df.loc[idx,'ranking_'+column] = find_rank(location_df.loc[idx,column],location_df.loc[idx,'date'], all_df, column)\n",
    "  "
   ]
  },
  {
   "cell_type": "code",
   "execution_count": 4,
   "id": "f0755a90",
   "metadata": {},
   "outputs": [],
   "source": [
    "def build_and_save_covid_data(raw_data, rankings_columns, remove_regions=True):\n",
    "    '''\n",
    "        raw_data: dataframe containing data of every location;\n",
    "        rankings_columns: list of features to get rankings;\n",
    "        remove_regions: bool to remove general regions from data;\n",
    "    '''\n",
    "    # 1. Filter regions if needed\n",
    "    regions = ['International','World','Europe','North America','South America','Oceania','Asia','Africa','European Union']\n",
    "    if remove_regions:\n",
    "        raw_data = raw_data[~raw_data.location.isin(regions)]\n",
    "    \n",
    "    # 2. Fill NaN and update type\n",
    "    raw_data = raw_data.fillna(0)\n",
    "    raw_data['date'] = raw_data['date'].apply(pd.to_datetime)\n",
    "    \n",
    "    # 3. Create paths to save files\n",
    "    covid_data_path = Path('..//data//COVID')\n",
    "    covid_data_path.mkdir(parents=True, exist_ok=True)\n",
    "    \n",
    "    location_data_path = covid_data_path / 'locations'\n",
    "    location_data_path.mkdir(parents=True, exist_ok=True)\n",
    "        \n",
    "    all_df_wrank = []\n",
    "    for location, df_location in raw_data.groupby(['location']):\n",
    "        fill_ranks(df_location, raw_data, rankings_columns)\n",
    "        df_location.to_csv(str(location_data_path)+'//'+location, index=False)\n",
    "        all_df_wrank.append(df_location)\n",
    "        \n",
    "    all_df_wrank = pd.concat(all_df_wrank)\n",
    "    all_df_wrank.to_csv(str(covid_data_path)+'//all_covid.csv', index=False)"
   ]
  },
  {
   "cell_type": "code",
   "execution_count": 5,
   "id": "edaec074",
   "metadata": {},
   "outputs": [
    {
     "data": {
      "text/plain": [
       "Index(['iso_code', 'continent', 'location', 'date', 'total_cases', 'new_cases',\n",
       "       'new_cases_smoothed', 'total_deaths', 'new_deaths',\n",
       "       'new_deaths_smoothed', 'total_cases_per_million',\n",
       "       'new_cases_per_million', 'new_cases_smoothed_per_million',\n",
       "       'total_deaths_per_million', 'new_deaths_per_million',\n",
       "       'new_deaths_smoothed_per_million', 'reproduction_rate', 'icu_patients',\n",
       "       'icu_patients_per_million', 'hosp_patients',\n",
       "       'hosp_patients_per_million', 'weekly_icu_admissions',\n",
       "       'weekly_icu_admissions_per_million', 'weekly_hosp_admissions',\n",
       "       'weekly_hosp_admissions_per_million', 'new_tests', 'total_tests',\n",
       "       'total_tests_per_thousand', 'new_tests_per_thousand',\n",
       "       'new_tests_smoothed', 'new_tests_smoothed_per_thousand',\n",
       "       'positive_rate', 'tests_per_case', 'tests_units', 'total_vaccinations',\n",
       "       'people_vaccinated', 'people_fully_vaccinated', 'new_vaccinations',\n",
       "       'new_vaccinations_smoothed', 'total_vaccinations_per_hundred',\n",
       "       'people_vaccinated_per_hundred', 'people_fully_vaccinated_per_hundred',\n",
       "       'new_vaccinations_smoothed_per_million', 'stringency_index',\n",
       "       'population', 'population_density', 'median_age', 'aged_65_older',\n",
       "       'aged_70_older', 'gdp_per_capita', 'extreme_poverty',\n",
       "       'cardiovasc_death_rate', 'diabetes_prevalence', 'female_smokers',\n",
       "       'male_smokers', 'handwashing_facilities', 'hospital_beds_per_thousand',\n",
       "       'life_expectancy', 'human_development_index', 'excess_mortality'],\n",
       "      dtype='object')"
      ]
     },
     "execution_count": 5,
     "metadata": {},
     "output_type": "execute_result"
    }
   ],
   "source": [
    "data = pd.read_csv('covid_data.csv')\n",
    "data.columns"
   ]
  },
  {
   "cell_type": "code",
   "execution_count": 8,
   "id": "ef4b067d",
   "metadata": {},
   "outputs": [],
   "source": [
    "fields_of_interest = ['total_cases', 'new_cases',\n",
    "                      'new_cases_smoothed', 'total_deaths', 'new_deaths',\n",
    "                      'new_deaths_smoothed', 'total_cases_per_million',\n",
    "                      'new_cases_per_million', 'new_cases_smoothed_per_million',\n",
    "                      'total_deaths_per_million', 'new_deaths_per_million',\n",
    "                      'new_deaths_smoothed_per_million']\n",
    "build_and_save_covid_data(data, fields_of_interest)\n",
    "! rm covid_data.csv"
   ]
  },
  {
   "cell_type": "code",
   "execution_count": null,
   "id": "368960d0",
   "metadata": {},
   "outputs": [],
   "source": []
  }
 ],
 "metadata": {
  "kernelspec": {
   "display_name": "Python 3",
   "language": "python",
   "name": "python3"
  },
  "language_info": {
   "codemirror_mode": {
    "name": "ipython",
    "version": 3
   },
   "file_extension": ".py",
   "mimetype": "text/x-python",
   "name": "python",
   "nbconvert_exporter": "python",
   "pygments_lexer": "ipython3",
   "version": "3.9.5"
  }
 },
 "nbformat": 4,
 "nbformat_minor": 5
}
